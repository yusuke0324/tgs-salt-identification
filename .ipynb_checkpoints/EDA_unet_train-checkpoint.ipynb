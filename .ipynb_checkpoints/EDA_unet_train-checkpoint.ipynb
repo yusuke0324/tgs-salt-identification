{
 "cells": [
  {
   "cell_type": "code",
   "execution_count": 1,
   "metadata": {},
   "outputs": [
    {
     "name": "stderr",
     "output_type": "stream",
     "text": [
      "/root/anaconda3/lib/python3.5/site-packages/h5py/__init__.py:34: FutureWarning: Conversion of the second argument of issubdtype from `float` to `np.floating` is deprecated. In future, it will be treated as `np.float64 == np.dtype(float).type`.\n",
      "  from ._conv import register_converters as _register_converters\n",
      "Using TensorFlow backend.\n"
     ]
    }
   ],
   "source": [
    "import numpy as np\n",
    "import pandas as pd\n",
    "import matplotlib.pyplot as plt\n",
    "from glob import glob\n",
    "from tqdm import tqdm\n",
    "from skimage.transform import resize\n",
    "import keras\n",
    "import cv2\n",
    "%matplotlib inline\n",
    "\n",
    "import train_util\n",
    "import util\n",
    "%load_ext autoreload\n",
    "%autoreload 2\n"
   ]
  },
  {
   "cell_type": "code",
   "execution_count": 2,
   "metadata": {},
   "outputs": [
    {
     "data": {
      "text/plain": [
       "'/home/yusuke/tgs-salt-identification'"
      ]
     },
     "execution_count": 2,
     "metadata": {},
     "output_type": "execute_result"
    }
   ],
   "source": [
    "%pwd"
   ]
  },
  {
   "cell_type": "code",
   "execution_count": 3,
   "metadata": {},
   "outputs": [],
   "source": [
    "image_paths = glob('./data/train/images/*.png')"
   ]
  },
  {
   "cell_type": "code",
   "execution_count": null,
   "metadata": {},
   "outputs": [],
   "source": []
  },
  {
   "cell_type": "code",
   "execution_count": 4,
   "metadata": {},
   "outputs": [],
   "source": [
    "# im_mask_pair_show(image_paths)"
   ]
  },
  {
   "cell_type": "code",
   "execution_count": 5,
   "metadata": {},
   "outputs": [],
   "source": [
    "# old\n",
    "# def get_data(data_type='train', size=(101, 101, 3)):\n",
    "#     base_image_path = './data/{}/images/*.png'.format(data_type)\n",
    "#     paths = glob(base_image_path)\n",
    "    \n",
    "#     X = np.zeros((len(paths), size[0], size[1], size[2]), dtype=np.uint8)\n",
    "    \n",
    "# #     for mask\n",
    "#     base_mask_path = './data/train/masks/'\n",
    "#     Y = np.zeros((len(paths), size[0], size[1], 1), dtype=np.bool)\n",
    "#     for i, p in enumerate(paths):\n",
    "#         im_id = p.split('/')[-1]\n",
    "#         im = cv2.imread(p)\n",
    "#         X[i] = im\n",
    "#         if data_type == 'train':\n",
    "#             mask_path = base_mask_path + im_id\n",
    "#             mask = cv2.imread(mask_path)\n",
    "# #             mask = mask / 255\n",
    "#             Y[i] = resize(mask[:, :, 0], (101, 101, 1))\n",
    "        \n",
    "#     return X, Y"
   ]
  },
  {
   "cell_type": "code",
   "execution_count": 6,
   "metadata": {},
   "outputs": [
    {
     "data": {
      "text/plain": [
       "(101, 101, 1)"
      ]
     },
     "execution_count": 6,
     "metadata": {},
     "output_type": "execute_result"
    }
   ],
   "source": [
    "tgt = glob('./data/train/masks/*.png')[0]\n",
    "im = cv2.imread(tgt)\n",
    "im / 255\n",
    "tes = im[: ,:, 1]\n",
    "resize(tes, (101, 101, 1)).shape\n"
   ]
  },
  {
   "cell_type": "code",
   "execution_count": 7,
   "metadata": {},
   "outputs": [
    {
     "name": "stderr",
     "output_type": "stream",
     "text": [
      "100%|██████████| 3887/3887 [00:42<00:00, 92.06it/s]\n"
     ]
    }
   ],
   "source": [
    "X, X_feat, Y, Y_no_salt, Y_salt_cls = train_util.get_data(size=(128, 128, 3))\n",
    "# X, X_feat, Y, Y_no_salt = train_util.get_data(size=(256, 256, 3))"
   ]
  },
  {
   "cell_type": "code",
   "execution_count": 8,
   "metadata": {},
   "outputs": [
    {
     "name": "stdout",
     "output_type": "stream",
     "text": [
      "(3887, 128, 128, 3)\n",
      "(3887, 1)\n",
      "(3887, 128, 128, 1)\n"
     ]
    }
   ],
   "source": [
    "print(X.shape)\n",
    "print(X_feat.shape)\n",
    "print(Y.shape)"
   ]
  },
  {
   "cell_type": "code",
   "execution_count": 9,
   "metadata": {},
   "outputs": [],
   "source": [
    "# Y_salt_cls"
   ]
  },
  {
   "cell_type": "code",
   "execution_count": 10,
   "metadata": {},
   "outputs": [],
   "source": [
    "from sklearn.cross_validation import train_test_split\n",
    "x_train, x_test, x_feat_train, x_feat_test, y_train, y_test = train_test_split(X, X_feat, Y, test_size=0.1, random_state=43)"
   ]
  },
  {
   "cell_type": "code",
   "execution_count": 11,
   "metadata": {},
   "outputs": [],
   "source": [
    "x_feat_train, x_feat_test = train_util.norm_X_feat(x_feat_train, x_feat_test)"
   ]
  },
  {
   "cell_type": "code",
   "execution_count": 12,
   "metadata": {},
   "outputs": [
    {
     "data": {
      "text/plain": [
       "(3498, 1)"
      ]
     },
     "execution_count": 12,
     "metadata": {},
     "output_type": "execute_result"
    }
   ],
   "source": [
    "x_feat_train.shape"
   ]
  },
  {
   "cell_type": "code",
   "execution_count": 13,
   "metadata": {},
   "outputs": [],
   "source": [
    "\n",
    "# for i, arr in enumerate(x_train)\n"
   ]
  },
  {
   "cell_type": "code",
   "execution_count": null,
   "metadata": {},
   "outputs": [],
   "source": []
  },
  {
   "cell_type": "code",
   "execution_count": null,
   "metadata": {},
   "outputs": [],
   "source": []
  },
  {
   "cell_type": "code",
   "execution_count": 14,
   "metadata": {},
   "outputs": [
    {
     "data": {
      "text/plain": [
       "(3498, 1)"
      ]
     },
     "execution_count": 14,
     "metadata": {},
     "output_type": "execute_result"
    }
   ],
   "source": [
    "x_feat_train.shape"
   ]
  },
  {
   "cell_type": "code",
   "execution_count": 15,
   "metadata": {},
   "outputs": [],
   "source": [
    "# from keras.preprocessing.image import ImageDataGenerator\n",
    "# data_gen_args = {\n",
    "#                              'rotation_range': 90, \n",
    "#                              'width_shift_range': 0.2, \n",
    "#                              'height_shift_range': 0.2, \n",
    "#                              'horizontal_flip': True\n",
    "# }\n",
    "# # apply same args for generator\n",
    "# image_datagen = ImageDataGenerator(**data_gen_args)\n",
    "# feature_datagen = ImageDataGenerator()\n",
    "# mask_datagen = ImageDataGenerator(**data_gen_args)\n",
    "\n",
    "# # set same seed number and apply it to X and Y (mask)\n",
    "# seed = 1\n",
    "# image_datagen.fit(x_train, augment=True, seed=seed)\n",
    "# # feature_datagen.fit(x_feat_train, seed=seed)\n",
    "# mask_datagen.fit(y_train, augment=True, seed=seed)\n",
    "\n",
    "# image_generator = image_datagen.flow(x_train, seed=seed, batch_size=32, shuffle=True)\n",
    "# # feature_generator = feature_datagen.flow(x_feat_train, seed=seed, batch_size=32, shuffle=True)\n",
    "# mask_generator = mask_datagen.flow(y_train, seed=seed, batch_size=32, shuffle=True)\n",
    "\n",
    "# # train_gen = zip(image_generator, feature_generator,  mask_generator)\n",
    "# train_gen = zip(np.ndarray.flatten(image_generator,  mask_generator))\n",
    "# # train_gen = datagen.flow(x_train, y_train, batch_size=32, shuffle=True)\n",
    "# val_gen = (x_test, x_feat_test, y_test)"
   ]
  },
  {
   "cell_type": "code",
   "execution_count": 16,
   "metadata": {},
   "outputs": [],
   "source": [
    "from keras.preprocessing.image import ImageDataGenerator\n",
    "def make_train_gen(x_train, x_feat_train, y_train, batch_size=16, seed = None):\n",
    "\n",
    "    data_gen_args = {\n",
    "#                                  'rotation_range': 90, \n",
    "#                                  'width_shift_range': 0.2, \n",
    "#                                  'height_shift_range': 0.2, \n",
    "                                 'horizontal_flip': True,\n",
    "                                 'vertical_flip': False\n",
    "    }\n",
    "    # apply same args for generator\n",
    "    image_datagen = ImageDataGenerator(**data_gen_args)\n",
    "    mask_datagen = ImageDataGenerator(**data_gen_args)\n",
    "\n",
    "    # set same seed number and apply it to X and Y (mask)\n",
    "#     image_datagen.fit(x_train, augment=True, seed=seed)\n",
    "    # feature_datagen.fit(x_feat_train, seed=seed)\n",
    "#     mask_datagen.fit(y_train, augment=True, seed=seed)\n",
    "\n",
    "#     image_generator = image_datagen.flow(x_train, seed=seed, batch_size=32, shuffle=True)\n",
    "    # feature_generator = feature_datagen.flow(x_feat_train, seed=seed, batch_size=32, shuffle=True)\n",
    "#     mask_generator = mask_datagen.flow(y_train, seed=seed, batch_size=32, shuffle=True)\n",
    "\n",
    "    \n",
    "    np.random.seed(seed if seed is not None else np.random.choice(range(9999)))\n",
    "    while True:\n",
    "        seed = np.random.choice(range(9999))\n",
    "        batch_count = x_train.shape[0]/batch_size\n",
    "        batch_id = np.random.permutation(range(0, x_train.shape[0] - batch_size, batch_size))\n",
    "        for c_idx in batch_id:\n",
    "            g_x = image_datagen.flow(x_train[c_idx:(c_idx+batch_size)], batch_size=batch_size, seed=seed, shuffle=False)\n",
    "            g_y = mask_datagen.flow(y_train[c_idx:(c_idx+batch_size)], batch_size=batch_size, seed=seed, shuffle=False)\n",
    "            yield [next(g_x), x_feat_train[c_idx:(c_idx+batch_size)]], next(g_y)"
   ]
  },
  {
   "cell_type": "code",
   "execution_count": 17,
   "metadata": {},
   "outputs": [],
   "source": [
    "train_gen = make_train_gen(x_train, x_feat_train, y_train, batch_size=32, seed=1)\n",
    "val_gen = ([x_test, x_feat_test], y_test)"
   ]
  },
  {
   "cell_type": "code",
   "execution_count": null,
   "metadata": {},
   "outputs": [],
   "source": []
  },
  {
   "cell_type": "code",
   "execution_count": 18,
   "metadata": {},
   "outputs": [
    {
     "data": {
      "text/plain": [
       "<matplotlib.image.AxesImage at 0x7f4092ce6b00>"
      ]
     },
     "execution_count": 18,
     "metadata": {},
     "output_type": "execute_result"
    },
    {
     "data": {
      "image/png": "[encoded data removed]",
      "text/plain": [
       "<matplotlib.figure.Figure at 0x7f4092d772e8>"
      ]
     },
     "metadata": {},
     "output_type": "display_data"
    }
   ],
   "source": [
    "# it looks like train_gen generate ((train_image, feature), mask) * batch\n",
    "tgt = 14\n",
    "\n",
    "batch = train_gen.__next__()\n",
    "plt.imshow(batch[0][0][tgt])"
   ]
  },
  {
   "cell_type": "code",
   "execution_count": null,
   "metadata": {},
   "outputs": [],
   "source": []
  },
  {
   "cell_type": "code",
   "execution_count": 19,
   "metadata": {},
   "outputs": [
    {
     "data": {
      "text/plain": [
       "array([0.6327908], dtype=float32)"
      ]
     },
     "execution_count": 19,
     "metadata": {},
     "output_type": "execute_result"
    }
   ],
   "source": [
    "batch[0][1][tgt]"
   ]
  },
  {
   "cell_type": "code",
   "execution_count": 20,
   "metadata": {},
   "outputs": [
    {
     "data": {
      "text/plain": [
       "<matplotlib.image.AxesImage at 0x7f4009eba5c0>"
      ]
     },
     "execution_count": 20,
     "metadata": {},
     "output_type": "execute_result"
    },
    {
     "data": {
      "image/png": "[encoded data removed]",
      "text/plain": [
       "<matplotlib.figure.Figure at 0x7f4011740ba8>"
      ]
     },
     "metadata": {},
     "output_type": "display_data"
    }
   ],
   "source": [
    "plt.imshow(batch[0][0][tgt])"
   ]
  },
  {
   "cell_type": "code",
   "execution_count": 21,
   "metadata": {},
   "outputs": [
    {
     "data": {
      "text/plain": [
       "<matplotlib.image.AxesImage at 0x7f4009ea6668>"
      ]
     },
     "execution_count": 21,
     "metadata": {},
     "output_type": "execute_result"
    },
    {
     "data": {
      "image/png": "[encoded data removed]",
      "text/plain": [
       "<matplotlib.figure.Figure at 0x7f4009eddd68>"
      ]
     },
     "metadata": {},
     "output_type": "display_data"
    }
   ],
   "source": [
    "plt.imshow(np.squeeze(batch[1][tgt]))"
   ]
  },
  {
   "cell_type": "code",
   "execution_count": 22,
   "metadata": {},
   "outputs": [
    {
     "data": {
      "text/plain": [
       "<generator object make_train_gen at 0x7f4092d6df10>"
      ]
     },
     "execution_count": 22,
     "metadata": {},
     "output_type": "execute_result"
    }
   ],
   "source": [
    "train_gen"
   ]
  },
  {
   "cell_type": "code",
   "execution_count": 23,
   "metadata": {},
   "outputs": [
    {
     "data": {
      "text/plain": [
       "<matplotlib.image.AxesImage at 0x7f4009e09898>"
      ]
     },
     "execution_count": 23,
     "metadata": {},
     "output_type": "execute_result"
    },
    {
     "data": {
      "image/png": "[encoded data removed]",
      "text/plain": [
       "<matplotlib.figure.Figure at 0x7f4009e44908>"
      ]
     },
     "metadata": {},
     "output_type": "display_data"
    }
   ],
   "source": [
    "tgt = 40\n",
    "plt.imshow(x_train[tgt])"
   ]
  },
  {
   "cell_type": "code",
   "execution_count": 24,
   "metadata": {},
   "outputs": [
    {
     "data": {
      "text/plain": [
       "<matplotlib.image.AxesImage at 0x7f4009df0080>"
      ]
     },
     "execution_count": 24,
     "metadata": {},
     "output_type": "execute_result"
    },
    {
     "data": {
      "image/png": "[encoded data removed]",
      "text/plain": [
       "<matplotlib.figure.Figure at 0x7f4009e19d30>"
      ]
     },
     "metadata": {},
     "output_type": "display_data"
    }
   ],
   "source": [
    "plt.imshow(np.squeeze(y_train[tgt]))"
   ]
  },
  {
   "cell_type": "code",
   "execution_count": 25,
   "metadata": {},
   "outputs": [],
   "source": [
    "# seed = np.random.choice(range(9999))\n",
    "# samplegen = ImageDataGenerator(rotation_range=180)\n",
    "# gx = samplegen.flow(x_train[tgt].reshape(1, 128, 128, 3), batch_size=10, seed=seed)\n",
    "# gy = samplegen.flow(y_train[tgt].reshape(1, 128, 128, 1), batch_size=10, seed=seed)\n",
    "# batchx = gx.__next__()\n",
    "# batchy = gy.__next__()\n",
    "# plt.imshow(batchx[0])"
   ]
  },
  {
   "cell_type": "code",
   "execution_count": 26,
   "metadata": {},
   "outputs": [],
   "source": [
    "# plt.imshow(np.squeeze(batchy[0]))"
   ]
  },
  {
   "cell_type": "code",
   "execution_count": null,
   "metadata": {},
   "outputs": [],
   "source": []
  },
  {
   "cell_type": "code",
   "execution_count": 27,
   "metadata": {},
   "outputs": [],
   "source": [
    "# unet_m.summary()"
   ]
  },
  {
   "cell_type": "code",
   "execution_count": 29,
   "metadata": {},
   "outputs": [],
   "source": [
    "# unet_m = util.unet_model(min_filter_num=32)\n",
    "unet_m = util.unet_model(min_filter_num=16, with_vec=True)\n",
    "from keras.models import load_model\n",
    "from keras.optimizers import Adam\n",
    "# unet_m = load_model('./log/2018_0727_1808/best_weights.hdf5', custom_objects={'mean_iou': train_util.mean_iou})"
   ]
  },
  {
   "cell_type": "code",
   "execution_count": 30,
   "metadata": {
    "scrolled": true
   },
   "outputs": [],
   "source": [
    "# unet_m.summary()"
   ]
  },
  {
   "cell_type": "code",
   "execution_count": null,
   "metadata": {},
   "outputs": [
    {
     "name": "stdout",
     "output_type": "stream",
     "text": [
      "__________________________________________________________________________________________________\n",
      "Layer (type)                    Output Shape         Param #     Connected to                     \n",
      "==================================================================================================\n",
      "input_layer (InputLayer)        (None, 128, 128, 3)  0                                            \n",
      "__________________________________________________________________________________________________\n",
      "encoder_block_1 (Conv2D)        (None, 128, 128, 16) 448         input_layer[0][0]                \n",
      "__________________________________________________________________________________________________\n",
      "elu_23 (ELU)                    (None, 128, 128, 16) 0           encoder_block_1[0][0]            \n",
      "__________________________________________________________________________________________________\n",
      "dropout_10 (Dropout)            (None, 128, 128, 16) 0           elu_23[0][0]                     \n",
      "__________________________________________________________________________________________________\n",
      "conv2d_15 (Conv2D)              (None, 128, 128, 16) 2320        dropout_10[0][0]                 \n",
      "__________________________________________________________________________________________________\n",
      "elu_24 (ELU)                    (None, 128, 128, 16) 0           conv2d_15[0][0]                  \n",
      "__________________________________________________________________________________________________\n",
      "max_pooling2d_5 (MaxPooling2D)  (None, 64, 64, 16)   0           elu_24[0][0]                     \n",
      "__________________________________________________________________________________________________\n",
      "encoder_block_2 (Conv2D)        (None, 64, 64, 32)   4640        max_pooling2d_5[0][0]            \n",
      "__________________________________________________________________________________________________\n",
      "elu_25 (ELU)                    (None, 64, 64, 32)   0           encoder_block_2[0][0]            \n",
      "__________________________________________________________________________________________________\n",
      "dropout_11 (Dropout)            (None, 64, 64, 32)   0           elu_25[0][0]                     \n",
      "__________________________________________________________________________________________________\n",
      "conv2d_16 (Conv2D)              (None, 64, 64, 32)   9248        dropout_11[0][0]                 \n",
      "__________________________________________________________________________________________________\n",
      "elu_26 (ELU)                    (None, 64, 64, 32)   0           conv2d_16[0][0]                  \n",
      "__________________________________________________________________________________________________\n",
      "max_pooling2d_6 (MaxPooling2D)  (None, 32, 32, 32)   0           elu_26[0][0]                     \n",
      "__________________________________________________________________________________________________\n",
      "encoder_block_3 (Conv2D)        (None, 32, 32, 64)   18496       max_pooling2d_6[0][0]            \n",
      "__________________________________________________________________________________________________\n",
      "elu_27 (ELU)                    (None, 32, 32, 64)   0           encoder_block_3[0][0]            \n",
      "__________________________________________________________________________________________________\n",
      "dropout_12 (Dropout)            (None, 32, 32, 64)   0           elu_27[0][0]                     \n",
      "__________________________________________________________________________________________________\n",
      "conv2d_17 (Conv2D)              (None, 32, 32, 64)   36928       dropout_12[0][0]                 \n",
      "__________________________________________________________________________________________________\n",
      "elu_28 (ELU)                    (None, 32, 32, 64)   0           conv2d_17[0][0]                  \n",
      "__________________________________________________________________________________________________\n",
      "max_pooling2d_7 (MaxPooling2D)  (None, 16, 16, 64)   0           elu_28[0][0]                     \n",
      "__________________________________________________________________________________________________\n",
      "encoder_block_4 (Conv2D)        (None, 16, 16, 128)  73856       max_pooling2d_7[0][0]            \n",
      "__________________________________________________________________________________________________\n",
      "elu_29 (ELU)                    (None, 16, 16, 128)  0           encoder_block_4[0][0]            \n",
      "__________________________________________________________________________________________________\n",
      "dropout_13 (Dropout)            (None, 16, 16, 128)  0           elu_29[0][0]                     \n",
      "__________________________________________________________________________________________________\n",
      "feature (InputLayer)            (None, 1)            0                                            \n",
      "__________________________________________________________________________________________________\n",
      "conv2d_18 (Conv2D)              (None, 16, 16, 128)  147584      dropout_13[0][0]                 \n",
      "__________________________________________________________________________________________________\n",
      "repeat_vector_2 (RepeatVector)  (None, 64, 1)        0           feature[0][0]                    \n",
      "__________________________________________________________________________________________________\n",
      "elu_30 (ELU)                    (None, 16, 16, 128)  0           conv2d_18[0][0]                  \n",
      "__________________________________________________________________________________________________\n",
      "reshape_2 (Reshape)             (None, 8, 8, 1)      0           repeat_vector_2[0][0]            \n",
      "__________________________________________________________________________________________________\n",
      "max_pooling2d_8 (MaxPooling2D)  (None, 8, 8, 128)    0           elu_30[0][0]                     \n",
      "__________________________________________________________________________________________________\n",
      "concatenate_6 (Concatenate)     (None, 8, 8, 129)    0           reshape_2[0][0]                  \n",
      "                                                                 max_pooling2d_8[0][0]            \n",
      "__________________________________________________________________________________________________\n",
      "encoder_block_5 (Conv2D)        (None, 8, 8, 256)    297472      concatenate_6[0][0]              \n",
      "__________________________________________________________________________________________________\n",
      "elu_31 (ELU)                    (None, 8, 8, 256)    0           encoder_block_5[0][0]            \n",
      "__________________________________________________________________________________________________\n",
      "dropout_14 (Dropout)            (None, 8, 8, 256)    0           elu_31[0][0]                     \n",
      "__________________________________________________________________________________________________\n",
      "conv2d_19 (Conv2D)              (None, 8, 8, 256)    590080      dropout_14[0][0]                 \n",
      "__________________________________________________________________________________________________\n",
      "elu_32 (ELU)                    (None, 8, 8, 256)    0           conv2d_19[0][0]                  \n",
      "__________________________________________________________________________________________________\n",
      "decoder_block_1 (Conv2DTranspos (None, 16, 16, 128)  131200      elu_32[0][0]                     \n",
      "__________________________________________________________________________________________________\n",
      "elu_33 (ELU)                    (None, 16, 16, 128)  0           decoder_block_1[0][0]            \n",
      "__________________________________________________________________________________________________\n",
      "concatenate_7 (Concatenate)     (None, 16, 16, 256)  0           elu_33[0][0]                     \n",
      "                                                                 elu_30[0][0]                     \n",
      "__________________________________________________________________________________________________\n",
      "conv2d_20 (Conv2D)              (None, 16, 16, 128)  295040      concatenate_7[0][0]              \n",
      "__________________________________________________________________________________________________\n",
      "elu_34 (ELU)                    (None, 16, 16, 128)  0           conv2d_20[0][0]                  \n",
      "__________________________________________________________________________________________________\n",
      "dropout_15 (Dropout)            (None, 16, 16, 128)  0           elu_34[0][0]                     \n",
      "__________________________________________________________________________________________________\n",
      "conv2d_21 (Conv2D)              (None, 16, 16, 128)  147584      dropout_15[0][0]                 \n",
      "__________________________________________________________________________________________________\n",
      "elu_35 (ELU)                    (None, 16, 16, 128)  0           conv2d_21[0][0]                  \n",
      "__________________________________________________________________________________________________\n",
      "decoder_block_2 (Conv2DTranspos (None, 32, 32, 64)   32832       elu_35[0][0]                     \n",
      "__________________________________________________________________________________________________\n",
      "elu_36 (ELU)                    (None, 32, 32, 64)   0           decoder_block_2[0][0]            \n",
      "__________________________________________________________________________________________________\n",
      "concatenate_8 (Concatenate)     (None, 32, 32, 128)  0           elu_36[0][0]                     \n",
      "                                                                 elu_28[0][0]                     \n",
      "__________________________________________________________________________________________________\n",
      "conv2d_22 (Conv2D)              (None, 32, 32, 64)   73792       concatenate_8[0][0]              \n",
      "__________________________________________________________________________________________________\n",
      "elu_37 (ELU)                    (None, 32, 32, 64)   0           conv2d_22[0][0]                  \n",
      "__________________________________________________________________________________________________\n",
      "dropout_16 (Dropout)            (None, 32, 32, 64)   0           elu_37[0][0]                     \n",
      "__________________________________________________________________________________________________\n",
      "conv2d_23 (Conv2D)              (None, 32, 32, 64)   36928       dropout_16[0][0]                 \n",
      "__________________________________________________________________________________________________\n",
      "elu_38 (ELU)                    (None, 32, 32, 64)   0           conv2d_23[0][0]                  \n",
      "__________________________________________________________________________________________________\n",
      "decoder_block_3 (Conv2DTranspos (None, 64, 64, 32)   8224        elu_38[0][0]                     \n",
      "__________________________________________________________________________________________________\n",
      "elu_39 (ELU)                    (None, 64, 64, 32)   0           decoder_block_3[0][0]            \n",
      "__________________________________________________________________________________________________\n",
      "concatenate_9 (Concatenate)     (None, 64, 64, 64)   0           elu_39[0][0]                     \n",
      "                                                                 elu_26[0][0]                     \n",
      "__________________________________________________________________________________________________\n",
      "conv2d_24 (Conv2D)              (None, 64, 64, 32)   18464       concatenate_9[0][0]              \n",
      "__________________________________________________________________________________________________\n",
      "elu_40 (ELU)                    (None, 64, 64, 32)   0           conv2d_24[0][0]                  \n",
      "__________________________________________________________________________________________________\n",
      "dropout_17 (Dropout)            (None, 64, 64, 32)   0           elu_40[0][0]                     \n",
      "__________________________________________________________________________________________________\n",
      "conv2d_25 (Conv2D)              (None, 64, 64, 32)   9248        dropout_17[0][0]                 \n",
      "__________________________________________________________________________________________________\n",
      "elu_41 (ELU)                    (None, 64, 64, 32)   0           conv2d_25[0][0]                  \n",
      "__________________________________________________________________________________________________\n",
      "decoder_block_4 (Conv2DTranspos (None, 128, 128, 16) 2064        elu_41[0][0]                     \n",
      "__________________________________________________________________________________________________\n",
      "elu_42 (ELU)                    (None, 128, 128, 16) 0           decoder_block_4[0][0]            \n",
      "__________________________________________________________________________________________________\n",
      "concatenate_10 (Concatenate)    (None, 128, 128, 32) 0           elu_42[0][0]                     \n",
      "                                                                 elu_24[0][0]                     \n",
      "__________________________________________________________________________________________________\n",
      "conv2d_26 (Conv2D)              (None, 128, 128, 16) 4624        concatenate_10[0][0]             \n",
      "__________________________________________________________________________________________________\n",
      "elu_43 (ELU)                    (None, 128, 128, 16) 0           conv2d_26[0][0]                  \n",
      "__________________________________________________________________________________________________\n",
      "dropout_18 (Dropout)            (None, 128, 128, 16) 0           elu_43[0][0]                     \n",
      "__________________________________________________________________________________________________\n",
      "conv2d_27 (Conv2D)              (None, 128, 128, 16) 2320        dropout_18[0][0]                 \n",
      "__________________________________________________________________________________________________\n",
      "elu_44 (ELU)                    (None, 128, 128, 16) 0           conv2d_27[0][0]                  \n",
      "__________________________________________________________________________________________________\n",
      "conv2d_28 (Conv2D)              (None, 128, 128, 1)  17          elu_44[0][0]                     \n",
      "==================================================================================================\n",
      "Total params: 1,943,409\n",
      "Trainable params: 1,943,409\n",
      "Non-trainable params: 0\n",
      "__________________________________________________________________________________________________\n",
      "None\n"
     ]
    },
    {
     "name": "stdout",
     "output_type": "stream",
     "text": [
      "Epoch 1/3000\n",
      " - 12s - loss: 1.5210 - dice_coef: 0.1906 - binary_accuracy: 0.6215 - true_positive_rate: 0.2769 - val_loss: 1.4326 - val_dice_coef: 0.1513 - val_binary_accuracy: 0.7370 - val_true_positive_rate: 2.0623e-04\n",
      "Finished epoch: 0\n",
      "{'loss': 1.5209791772067547, 'true_positive_rate': 0.276914898538962, 'binary_accuracy': 0.6215407252311707, 'dice_coef': 0.19060930400155485, 'val_binary_accuracy': 0.7370357565524339, 'val_loss': 1.4326092632999763, 'val_true_positive_rate': 0.00020622802253514482, 'val_dice_coef': 0.1512960143444777}\n",
      "\n",
      "Epoch 00001: val_loss improved from inf to 1.43261, saving model to ./log/2018_0731_1606/best_weights.hdf5\n",
      "Epoch 2/3000\n",
      " - 8s - loss: 1.4714 - dice_coef: 0.1571 - binary_accuracy: 0.6973 - true_positive_rate: 0.1255 - val_loss: 1.3978 - val_dice_coef: 0.1840 - val_binary_accuracy: 0.7362 - val_true_positive_rate: 0.0039\n",
      "Finished epoch: 1\n",
      "{'loss': 1.4713548347353935, 'true_positive_rate': 0.12547391233965755, 'binary_accuracy': 0.6972998380661011, 'dice_coef': 0.15714179701171815, 'val_binary_accuracy': 0.7361581993593348, 'val_loss': 1.3978054483629438, 'val_true_positive_rate': 0.003861446881063455, 'val_dice_coef': 0.1839961972671793, 'lr': 1e-04}\n",
      "\n",
      "Epoch 00002: val_loss improved from 1.43261 to 1.39781, saving model to ./log/2018_0731_1606/best_weights.hdf5\n",
      "Epoch 3/3000\n",
      " - 8s - loss: 1.4526 - dice_coef: 0.1691 - binary_accuracy: 0.6910 - true_positive_rate: 0.1310 - val_loss: 1.3955 - val_dice_coef: 0.2054 - val_binary_accuracy: 0.7196 - val_true_positive_rate: 0.0701\n",
      "Finished epoch: 2\n",
      "{'loss': 1.4526259154081345, 'true_positive_rate': 0.13101256801746786, 'binary_accuracy': 0.691018283367157, 'dice_coef': 0.16908473684452474, 'val_binary_accuracy': 0.7196404227560774, 'val_loss': 1.3955447508314276, 'val_true_positive_rate': 0.07007085607604993, 'val_dice_coef': 0.2053571168745085, 'lr': 1e-04}\n",
      "\n",
      "Epoch 00003: val_loss improved from 1.39781 to 1.39554, saving model to ./log/2018_0731_1606/best_weights.hdf5\n",
      "Epoch 4/3000\n",
      " - 8s - loss: 1.4347 - dice_coef: 0.1707 - binary_accuracy: 0.7003 - true_positive_rate: 0.1260 - val_loss: 1.5016 - val_dice_coef: 0.2488 - val_binary_accuracy: 0.4184 - val_true_positive_rate: 0.7056\n",
      "Finished epoch: 3\n",
      "{'loss': 1.4346920661628246, 'true_positive_rate': 0.12603509100154042, 'binary_accuracy': 0.7003382444381714, 'dice_coef': 0.1707443438936025, 'val_binary_accuracy': 0.41838752350034936, 'val_loss': 1.5015550974402145, 'val_true_positive_rate': 0.7055950354794304, 'val_dice_coef': 0.2487835037524412, 'lr': 1e-04}\n",
      "\n",
      "Epoch 00004: val_loss did not improve\n",
      "Epoch 5/3000\n",
      " - 8s - loss: 1.4224 - dice_coef: 0.1732 - binary_accuracy: 0.7128 - true_positive_rate: 0.1258 - val_loss: 1.9173 - val_dice_coef: 0.2908 - val_binary_accuracy: 0.2798 - val_true_positive_rate: 0.9928\n",
      "Finished epoch: 4\n",
      "{'loss': 1.4223825968801975, 'true_positive_rate': 0.12580260960385203, 'binary_accuracy': 0.7128463387489319, 'dice_coef': 0.1731562395580113, 'val_binary_accuracy': 0.2798417980536091, 'val_loss': 1.9172641069539715, 'val_true_positive_rate': 0.9928239473646895, 'val_dice_coef': 0.2908275836844064, 'lr': 1e-04}\n",
      "\n",
      "Epoch 00005: val_loss did not improve\n",
      "Epoch 6/3000\n",
      " - 8s - loss: 1.4167 - dice_coef: 0.1787 - binary_accuracy: 0.7066 - true_positive_rate: 0.1527 - val_loss: 1.8405 - val_dice_coef: 0.2876 - val_binary_accuracy: 0.2845 - val_true_positive_rate: 0.9896\n",
      "Finished epoch: 5\n",
      "{'loss': 1.4166799560189247, 'true_positive_rate': 0.15265456365887076, 'binary_accuracy': 0.7066062688827515, 'dice_coef': 0.17869831924326718, 'val_binary_accuracy': 0.2845209510589933, 'val_loss': 1.8404670733106168, 'val_true_positive_rate': 0.9896412654217227, 'val_dice_coef': 0.28764748274513874, 'lr': 1e-04}\n",
      "\n",
      "Epoch 00006: val_loss did not improve\n",
      "Epoch 7/3000\n",
      " - 8s - loss: 1.3938 - dice_coef: 0.1749 - binary_accuracy: 0.7352 - true_positive_rate: 0.1424 - val_loss: 2.2867 - val_dice_coef: 0.2998 - val_binary_accuracy: 0.3360 - val_true_positive_rate: 0.9519\n",
      "Finished epoch: 6\n",
      "{'loss': 1.3937871679663658, 'true_positive_rate': 0.14242594270035625, 'binary_accuracy': 0.7352399230003357, 'dice_coef': 0.17486905329860747, 'val_binary_accuracy': 0.33604952846210845, 'val_loss': 2.2866922007121895, 'val_true_positive_rate': 0.9518935237568265, 'val_dice_coef': 0.29977697532403746, 'lr': 1e-04}\n",
      "\n",
      "Epoch 00007: val_loss did not improve\n",
      "Epoch 8/3000\n",
      " - 8s - loss: 1.3817 - dice_coef: 0.1781 - binary_accuracy: 0.7348 - true_positive_rate: 0.1994 - val_loss: 2.0592 - val_dice_coef: 0.2969 - val_binary_accuracy: 0.2897 - val_true_positive_rate: 0.9881\n",
      "Finished epoch: 7\n",
      "{'loss': 1.3817430958151817, 'true_positive_rate': 0.1994396827649325, 'binary_accuracy': 0.7347853183746338, 'dice_coef': 0.17809119657613337, 'val_binary_accuracy': 0.289653395702416, 'val_loss': 2.0592259257495558, 'val_true_positive_rate': 0.988062223615867, 'val_dice_coef': 0.29688937107824115, 'lr': 1e-04}\n",
      "\n",
      "Epoch 00008: val_loss did not improve\n",
      "Epoch 9/3000\n",
      " - 8s - loss: 1.3686 - dice_coef: 0.1833 - binary_accuracy: 0.7407 - true_positive_rate: 0.2285 - val_loss: 2.2378 - val_dice_coef: 0.3024 - val_binary_accuracy: 0.2847 - val_true_positive_rate: 0.9936\n",
      "Finished epoch: 8\n",
      "{'loss': 1.3686161823570728, 'true_positive_rate': 0.2284988616593182, 'binary_accuracy': 0.7406680583953857, 'dice_coef': 0.18326335004530847, 'val_binary_accuracy': 0.2847227277976382, 'val_loss': 2.237767412607345, 'val_true_positive_rate': 0.9936458658436577, 'val_dice_coef': 0.30242260669987736, 'lr': 1e-04}\n",
      "\n",
      "Epoch 00009: val_loss did not improve\n",
      "Epoch 10/3000\n",
      " - 8s - loss: 1.3422 - dice_coef: 0.2040 - binary_accuracy: 0.7433 - true_positive_rate: 0.2919 - val_loss: 2.5527 - val_dice_coef: 0.3085 - val_binary_accuracy: 0.2857 - val_true_positive_rate: 0.9935\n",
      "Finished epoch: 9\n",
      "{'loss': 1.3421541266143322, 'true_positive_rate': 0.29192888736724854, 'binary_accuracy': 0.7433187961578369, 'dice_coef': 0.20396411418914795, 'val_binary_accuracy': 0.28574541954270977, 'val_loss': 2.5526774236046563, 'val_true_positive_rate': 0.9934927767530505, 'val_dice_coef': 0.3085398539939086, 'lr': 1e-04}\n",
      "\n",
      "Epoch 00010: val_loss did not improve\n",
      "Epoch 11/3000\n",
      " - 8s - loss: 1.3301 - dice_coef: 0.1858 - binary_accuracy: 0.7609 - true_positive_rate: 0.2755 - val_loss: 2.6111 - val_dice_coef: 0.3071 - val_binary_accuracy: 0.2997 - val_true_positive_rate: 0.9731\n",
      "Finished epoch: 10\n",
      "{'loss': 1.330071795731783, 'true_positive_rate': 0.2755440016044304, 'binary_accuracy': 0.7609276175498962, 'dice_coef': 0.18577692355029285, 'val_binary_accuracy': 0.29972513789995775, 'val_loss': 2.6110884665217067, 'val_true_positive_rate': 0.9730789892777686, 'val_dice_coef': 0.30709520357739956, 'lr': 1e-04}\n",
      "\n",
      "Epoch 00011: val_loss did not improve\n",
      "Epoch 12/3000\n",
      " - 8s - loss: 1.3077 - dice_coef: 0.2017 - binary_accuracy: 0.7637 - true_positive_rate: 0.3648 - val_loss: 2.6859 - val_dice_coef: 0.3115 - val_binary_accuracy: 0.2791 - val_true_positive_rate: 0.9988\n",
      "Finished epoch: 11\n",
      "{'loss': 1.3077497109770775, 'true_positive_rate': 0.36477833264507353, 'binary_accuracy': 0.76373291015625, 'dice_coef': 0.20169837726280093, 'val_binary_accuracy': 0.2790726609432299, 'val_loss': 2.6859466900862277, 'val_true_positive_rate': 0.9988249125088395, 'val_dice_coef': 0.3114564898387938, 'lr': 1e-04}\n",
      "\n",
      "Epoch 00012: val_loss did not improve\n",
      "Epoch 13/3000\n",
      " - 8s - loss: 1.2654 - dice_coef: 0.2313 - binary_accuracy: 0.7680 - true_positive_rate: 0.4522 - val_loss: 3.1050 - val_dice_coef: 0.3157 - val_binary_accuracy: 0.2761 - val_true_positive_rate: 0.9999\n",
      "Finished epoch: 12\n",
      "{'loss': 1.2653739228844643, 'true_positive_rate': 0.45217477856203914, 'binary_accuracy': 0.7680376172065735, 'dice_coef': 0.23128078854642808, 'val_binary_accuracy': 0.2760902542075032, 'val_loss': 3.1050310711014855, 'val_true_positive_rate': 0.9999323151718374, 'val_dice_coef': 0.31565230839663116, 'lr': 1e-04}\n",
      "\n",
      "Epoch 00013: val_loss did not improve\n",
      "Epoch 14/3000\n",
      " - 8s - loss: 1.2499 - dice_coef: 0.2222 - binary_accuracy: 0.7858 - true_positive_rate: 0.4496 - val_loss: 2.6548 - val_dice_coef: 0.3113 - val_binary_accuracy: 0.2798 - val_true_positive_rate: 0.9994\n",
      "Finished epoch: 13\n",
      "{'loss': 1.2499135993421078, 'true_positive_rate': 0.44963432592339814, 'binary_accuracy': 0.7858300805091858, 'dice_coef': 0.22222636872902513, 'val_binary_accuracy': 0.27978248882722734, 'val_loss': 2.654840276909365, 'val_true_positive_rate': 0.999391980373461, 'val_dice_coef': 0.3113301105241849, 'lr': 1e-04}\n",
      "\n",
      "Epoch 00014: val_loss did not improve\n",
      "\n",
      "Epoch 00014: ReduceLROnPlateau reducing learning rate to 1.9999999494757503e-05.\n",
      "Epoch 15/3000\n"
     ]
    },
    {
     "name": "stdout",
     "output_type": "stream",
     "text": [
      " - 8s - loss: 1.2159 - dice_coef: 0.2500 - binary_accuracy: 0.7855 - true_positive_rate: 0.5131 - val_loss: 3.0640 - val_dice_coef: 0.3154 - val_binary_accuracy: 0.2780 - val_true_positive_rate: 0.9998\n",
      "Finished epoch: 14\n",
      "{'loss': 1.21586275100708, 'true_positive_rate': 0.5131144365295768, 'binary_accuracy': 0.7854638695716858, 'dice_coef': 0.25003414740785956, 'val_binary_accuracy': 0.2779751266795749, 'val_loss': 3.0639549533628254, 'val_true_positive_rate': 0.999766396372974, 'val_dice_coef': 0.31541934908202496, 'lr': 1e-04}\n",
      "\n",
      "Epoch 00015: val_loss did not improve\n",
      "Epoch 16/3000\n",
      " - 8s - loss: 1.2161 - dice_coef: 0.2169 - binary_accuracy: 0.8097 - true_positive_rate: 0.4641 - val_loss: 3.2509 - val_dice_coef: 0.3166 - val_binary_accuracy: 0.2773 - val_true_positive_rate: 0.9998\n",
      "Finished epoch: 15\n",
      "{'loss': 1.2160896472632885, 'true_positive_rate': 0.464146172394976, 'binary_accuracy': 0.8097150921821594, 'dice_coef': 0.21685869758948684, 'val_binary_accuracy': 0.27731221255422556, 'val_loss': 3.2508689860758255, 'val_true_positive_rate': 0.9998388658146012, 'val_dice_coef': 0.31661706978986687, 'lr': 2e-05}\n",
      "\n",
      "Epoch 00016: val_loss did not improve\n",
      "Epoch 17/3000\n",
      " - 8s - loss: 1.2060 - dice_coef: 0.2425 - binary_accuracy: 0.8006 - true_positive_rate: 0.5131 - val_loss: 3.2382 - val_dice_coef: 0.3166 - val_binary_accuracy: 0.2774 - val_true_positive_rate: 0.9999\n",
      "Finished epoch: 16\n",
      "{'loss': 1.2059933170676231, 'true_positive_rate': 0.51306810695678, 'binary_accuracy': 0.8006289005279541, 'dice_coef': 0.24247316736727953, 'val_binary_accuracy': 0.2773586557579531, 'val_loss': 3.238215062795997, 'val_true_positive_rate': 0.9998516779019471, 'val_dice_coef': 0.3165899830029985, 'lr': 2e-05}\n",
      "\n",
      "Epoch 00017: val_loss did not improve\n",
      "Epoch 18/3000\n",
      " - 8s - loss: 1.1908 - dice_coef: 0.2412 - binary_accuracy: 0.8083 - true_positive_rate: 0.5264 - val_loss: 3.2724 - val_dice_coef: 0.3168 - val_binary_accuracy: 0.2770 - val_true_positive_rate: 0.9999\n",
      "Finished epoch: 17\n",
      "{'loss': 1.1908399276435375, 'true_positive_rate': 0.5263973213732243, 'binary_accuracy': 0.8083338141441345, 'dice_coef': 0.24124300945550203, 'val_binary_accuracy': 0.27695431746063626, 'val_loss': 3.2724169158690386, 'val_true_positive_rate': 0.9999229117346913, 'val_dice_coef': 0.31682113318639427, 'lr': 2e-05}\n",
      "\n",
      "Epoch 00018: val_loss did not improve\n",
      "Epoch 19/3000\n",
      " - 8s - loss: 1.1858 - dice_coef: 0.2434 - binary_accuracy: 0.8096 - true_positive_rate: 0.5453 - val_loss: 3.2727 - val_dice_coef: 0.3168 - val_binary_accuracy: 0.2766 - val_true_positive_rate: 1.0000\n",
      "Finished epoch: 18\n",
      "{'loss': 1.1858054660260677, 'true_positive_rate': 0.5452887965366244, 'binary_accuracy': 0.809624433517456, 'dice_coef': 0.24342673365026712, 'val_binary_accuracy': 0.27664820026309445, 'val_loss': 3.272679077016051, 'val_true_positive_rate': 0.9999504775804848, 'val_dice_coef': 0.3168390718094794, 'lr': 2e-05}\n",
      "\n",
      "Epoch 00019: val_loss did not improve\n",
      "Epoch 20/3000\n",
      " - 8s - loss: 1.1712 - dice_coef: 0.2542 - binary_accuracy: 0.8089 - true_positive_rate: 0.5250 - val_loss: 3.3186 - val_dice_coef: 0.3171 - val_binary_accuracy: 0.2762 - val_true_positive_rate: 1.0000\n",
      "Finished epoch: 19\n",
      "{'loss': 1.1711656376719475, 'true_positive_rate': 0.5250417878851295, 'binary_accuracy': 0.8089121580123901, 'dice_coef': 0.2541761479806155, 'val_binary_accuracy': 0.2761966342484736, 'val_loss': 3.3186154193927204, 'val_true_positive_rate': 0.9999807499981171, 'val_dice_coef': 0.3170881026967939, 'lr': 2e-05}\n",
      "\n",
      "Epoch 00020: val_loss did not improve\n",
      "Epoch 21/3000\n",
      " - 8s - loss: 1.1697 - dice_coef: 0.2609 - binary_accuracy: 0.8091 - true_positive_rate: 0.5833 - val_loss: 3.3064 - val_dice_coef: 0.3170 - val_binary_accuracy: 0.2763 - val_true_positive_rate: 1.0000\n",
      "Finished epoch: 20\n",
      "{'loss': 1.1696861237287521, 'true_positive_rate': 0.5833011735230684, 'binary_accuracy': 0.8090922832489014, 'dice_coef': 0.26087041525170207, 'val_binary_accuracy': 0.2762846566717545, 'val_loss': 3.306426534309485, 'val_true_positive_rate': 0.9999836870208191, 'val_dice_coef': 0.31702012091798465, 'lr': 2e-05}\n",
      "\n",
      "Epoch 00021: val_loss did not improve\n",
      "Epoch 22/3000\n",
      " - 8s - loss: 1.1619 - dice_coef: 0.2640 - binary_accuracy: 0.8079 - true_positive_rate: 0.5759 - val_loss: 3.3179 - val_dice_coef: 0.3171 - val_binary_accuracy: 0.2762 - val_true_positive_rate: 1.0000\n",
      "Finished epoch: 21\n",
      "{'loss': 1.1618597581982613, 'true_positive_rate': 0.5759382182732224, 'binary_accuracy': 0.807902455329895, 'dice_coef': 0.26403122767806053, 'val_binary_accuracy': 0.27616745034342866, 'val_loss': 3.317924772865668, 'val_true_positive_rate': 0.9999933659570689, 'val_dice_coef': 0.31711474183592514, 'lr': 2e-05}\n",
      "\n",
      "Epoch 00022: val_loss did not improve\n",
      "Epoch 23/3000\n",
      " - 8s - loss: 1.1490 - dice_coef: 0.2472 - binary_accuracy: 0.8234 - true_positive_rate: 0.6005 - val_loss: 3.2328 - val_dice_coef: 0.3167 - val_binary_accuracy: 0.2761 - val_true_positive_rate: 1.0000\n",
      "Finished epoch: 22\n",
      "{'loss': 1.1490464247763157, 'true_positive_rate': 0.6005012132227421, 'binary_accuracy': 0.8233978748321533, 'dice_coef': 0.2471918910741806, 'val_binary_accuracy': 0.2760505578205334, 'val_loss': 3.2327893313528024, 'val_true_positive_rate': 0.9999982054251938, 'val_dice_coef': 0.3167294323597592, 'lr': 2e-05}\n",
      "\n",
      "Epoch 00023: val_loss did not improve\n",
      "Epoch 24/3000\n",
      " - 8s - loss: 1.1373 - dice_coef: 0.2626 - binary_accuracy: 0.8236 - true_positive_rate: 0.5910 - val_loss: 3.3479 - val_dice_coef: 0.3173 - val_binary_accuracy: 0.2759 - val_true_positive_rate: 1.0000\n",
      "Finished epoch: 23\n",
      "{'loss': 1.1372691206634045, 'true_positive_rate': 0.5910478858277202, 'binary_accuracy': 0.8236452341079712, 'dice_coef': 0.2626412697136402, 'val_binary_accuracy': 0.2758823581097365, 'val_loss': 3.347936959989886, 'val_true_positive_rate': 1.0, 'val_dice_coef': 0.317338646224348, 'lr': 2e-05}\n",
      "\n",
      "Epoch 00024: val_loss did not improve\n",
      "\n",
      "Epoch 00024: ReduceLROnPlateau reducing learning rate to 3.999999898951501e-06.\n",
      "Epoch 25/3000\n",
      " - 8s - loss: 1.1462 - dice_coef: 0.2570 - binary_accuracy: 0.8197 - true_positive_rate: 0.6272 - val_loss: 3.2992 - val_dice_coef: 0.3171 - val_binary_accuracy: 0.2760 - val_true_positive_rate: 1.0000\n",
      "Finished epoch: 24\n",
      "{'loss': 1.1461611464619637, 'true_positive_rate': 0.6272338125854731, 'binary_accuracy': 0.8197265267372131, 'dice_coef': 0.25697315391153097, 'val_binary_accuracy': 0.27595029698545953, 'val_loss': 3.2992218196545284, 'val_true_positive_rate': 1.0, 'val_dice_coef': 0.31710802175698366, 'lr': 2e-05}\n",
      "\n",
      "Epoch 00025: val_loss did not improve\n",
      "Epoch 26/3000\n",
      " - 8s - loss: 1.1438 - dice_coef: 0.2525 - binary_accuracy: 0.8231 - true_positive_rate: 0.5946 - val_loss: 3.3166 - val_dice_coef: 0.3172 - val_binary_accuracy: 0.2760 - val_true_positive_rate: 1.0000\n",
      "Finished epoch: 25\n",
      "{'loss': 1.1438405066728592, 'true_positive_rate': 0.5946148540824652, 'binary_accuracy': 0.823132336139679, 'dice_coef': 0.25252672703936696, 'val_binary_accuracy': 0.2760196479856202, 'val_loss': 3.3166151488041815, 'val_true_positive_rate': 1.0, 'val_dice_coef': 0.3172060933088582, 'lr': 4e-06}\n",
      "\n",
      "Epoch 00026: val_loss did not improve\n",
      "Epoch 27/3000\n",
      " - 8s - loss: 1.1150 - dice_coef: 0.2746 - binary_accuracy: 0.8273 - true_positive_rate: 0.6405 - val_loss: 3.3513 - val_dice_coef: 0.3174 - val_binary_accuracy: 0.2760 - val_true_positive_rate: 1.0000\n",
      "Finished epoch: 26\n",
      "{'loss': 1.1149558275938034, 'true_positive_rate': 0.6404607053846121, 'binary_accuracy': 0.8273391723632812, 'dice_coef': 0.27458325354382396, 'val_binary_accuracy': 0.2759637906189749, 'val_loss': 3.3512736175850915, 'val_true_positive_rate': 1.0, 'val_dice_coef': 0.3173830863136252, 'lr': 4e-06}\n",
      "\n",
      "Epoch 00027: val_loss did not improve\n",
      "Epoch 28/3000\n",
      " - 8s - loss: 1.1105 - dice_coef: 0.2712 - binary_accuracy: 0.8332 - true_positive_rate: 0.6540 - val_loss: 3.4031 - val_dice_coef: 0.3176 - val_binary_accuracy: 0.2760 - val_true_positive_rate: 1.0000\n",
      "Finished epoch: 27\n",
      "{'loss': 1.1105363052338362, 'true_positive_rate': 0.6540299979969859, 'binary_accuracy': 0.8332208395004272, 'dice_coef': 0.2711591706611216, 'val_binary_accuracy': 0.27597414619818444, 'val_loss': 3.403053185627209, 'val_true_positive_rate': 1.0, 'val_dice_coef': 0.3176209674549593, 'lr': 4e-06}\n",
      "\n",
      "Epoch 00028: val_loss did not improve\n",
      "Epoch 29/3000\n"
     ]
    },
    {
     "name": "stdout",
     "output_type": "stream",
     "text": [
      " - 8s - loss: 1.1318 - dice_coef: 0.2661 - binary_accuracy: 0.8245 - true_positive_rate: 0.6063 - val_loss: 3.4309 - val_dice_coef: 0.3177 - val_binary_accuracy: 0.2760 - val_true_positive_rate: 1.0000\n",
      "Finished epoch: 28\n",
      "{'loss': 1.1318266578018665, 'true_positive_rate': 0.6062720268964767, 'binary_accuracy': 0.8244820833206177, 'dice_coef': 0.26611133641563356, 'val_binary_accuracy': 0.27598403106924807, 'val_loss': 3.4309036026883555, 'val_true_positive_rate': 1.0, 'val_dice_coef': 0.3177375512288591, 'lr': 4e-06}\n",
      "\n",
      "Epoch 00029: val_loss did not improve\n",
      "Epoch 30/3000\n",
      " - 8s - loss: 1.1270 - dice_coef: 0.2657 - binary_accuracy: 0.8283 - true_positive_rate: 0.6319 - val_loss: 3.4234 - val_dice_coef: 0.3177 - val_binary_accuracy: 0.2760 - val_true_positive_rate: 1.0000\n",
      "Finished epoch: 29\n",
      "{'loss': 1.1270407512784004, 'true_positive_rate': 0.6318702632561326, 'binary_accuracy': 0.8282635807991028, 'dice_coef': 0.26566456723958254, 'val_binary_accuracy': 0.27601447019601544, 'val_loss': 3.4233868998549593, 'val_true_positive_rate': 1.0, 'val_dice_coef': 0.31770200609854377, 'lr': 4e-06}\n",
      "\n",
      "Epoch 00030: val_loss did not improve\n",
      "Epoch 31/3000\n",
      " - 8s - loss: 1.1204 - dice_coef: 0.2702 - binary_accuracy: 0.8254 - true_positive_rate: 0.6215 - val_loss: 3.4440 - val_dice_coef: 0.3178 - val_binary_accuracy: 0.2761 - val_true_positive_rate: 1.0000\n",
      "Finished epoch: 30\n",
      "{'loss': 1.1204435341060162, 'true_positive_rate': 0.6214781356975436, 'binary_accuracy': 0.8254379630088806, 'dice_coef': 0.27022549137473106, 'val_binary_accuracy': 0.2760569908318605, 'val_loss': 3.444019346433311, 'val_true_positive_rate': 1.0, 'val_dice_coef': 0.3178017440522545, 'lr': 4e-06}\n",
      "\n",
      "Epoch 00031: val_loss did not improve\n",
      "Epoch 32/3000\n",
      " - 8s - loss: 1.1097 - dice_coef: 0.2690 - binary_accuracy: 0.8305 - true_positive_rate: 0.6358 - val_loss: 3.4783 - val_dice_coef: 0.3179 - val_binary_accuracy: 0.2760 - val_true_positive_rate: 1.0000\n",
      "Finished epoch: 31\n",
      "{'loss': 1.1097136456519365, 'true_positive_rate': 0.635775214061141, 'binary_accuracy': 0.8304585218429565, 'dice_coef': 0.26900521432980895, 'val_binary_accuracy': 0.27604851808523456, 'val_loss': 3.4782642092373806, 'val_true_positive_rate': 1.0, 'val_dice_coef': 0.31794963642993135, 'lr': 4e-06}\n",
      "\n",
      "Epoch 00032: val_loss did not improve\n",
      "Epoch 33/3000\n",
      " - 8s - loss: 1.1186 - dice_coef: 0.2734 - binary_accuracy: 0.8302 - true_positive_rate: 0.6457 - val_loss: 3.4921 - val_dice_coef: 0.3180 - val_binary_accuracy: 0.2760 - val_true_positive_rate: 1.0000\n",
      "Finished epoch: 32\n",
      "{'loss': 1.1185937337577343, 'true_positive_rate': 0.6456818198785186, 'binary_accuracy': 0.8301699161529541, 'dice_coef': 0.2734187380410731, 'val_binary_accuracy': 0.2760494595015264, 'val_loss': 3.4920817089571132, 'val_true_positive_rate': 1.0, 'val_dice_coef': 0.3180034719120261, 'lr': 4e-06}\n",
      "\n",
      "Epoch 00033: val_loss did not improve\n",
      "Epoch 34/3000\n",
      " - 8s - loss: 1.1294 - dice_coef: 0.2719 - binary_accuracy: 0.8215 - true_positive_rate: 0.6266 - val_loss: 3.4991 - val_dice_coef: 0.3180 - val_binary_accuracy: 0.2760 - val_true_positive_rate: 1.0000\n",
      "Finished epoch: 33\n",
      "{'loss': 1.1293797735124826, 'true_positive_rate': 0.6265949560329318, 'binary_accuracy': 0.8214892148971558, 'dice_coef': 0.27193578868173063, 'val_binary_accuracy': 0.27596394752169023, 'val_loss': 3.4990864719400676, 'val_true_positive_rate': 1.0, 'val_dice_coef': 0.3180135859315377, 'lr': 4e-06}\n",
      "\n",
      "Epoch 00034: val_loss did not improve\n",
      "\n",
      "Epoch 00034: ReduceLROnPlateau reducing learning rate to 7.999999979801942e-07.\n",
      "Epoch 35/3000\n",
      " - 8s - loss: 1.1114 - dice_coef: 0.2573 - binary_accuracy: 0.8371 - true_positive_rate: 0.6441 - val_loss: 3.5027 - val_dice_coef: 0.3180 - val_binary_accuracy: 0.2760 - val_true_positive_rate: 1.0000\n",
      "Finished epoch: 34\n",
      "{'loss': 1.1114487536251545, 'true_positive_rate': 0.6440946087241173, 'binary_accuracy': 0.8370996117591858, 'dice_coef': 0.2573294322937727, 'val_binary_accuracy': 0.2760229429426414, 'val_loss': 3.5026644673629406, 'val_true_positive_rate': 1.0, 'val_dice_coef': 0.3180353548042572, 'lr': 4e-06}\n",
      "\n",
      "Epoch 00035: val_loss did not improve\n",
      "Epoch 36/3000\n",
      " - 8s - loss: 1.1058 - dice_coef: 0.2850 - binary_accuracy: 0.8309 - true_positive_rate: 0.6447 - val_loss: 3.5088 - val_dice_coef: 0.3181 - val_binary_accuracy: 0.2760 - val_true_positive_rate: 1.0000\n",
      "Finished epoch: 35\n",
      "{'loss': 1.1057670526206493, 'true_positive_rate': 0.6447312356904149, 'binary_accuracy': 0.8308783769607544, 'dice_coef': 0.28503349982202053, 'val_binary_accuracy': 0.27602419816436374, 'val_loss': 3.5087587943726763, 'val_true_positive_rate': 1.0, 'val_dice_coef': 0.3180608129593278, 'lr': 8e-07}\n",
      "\n",
      "Epoch 00036: val_loss did not improve\n",
      "Epoch 37/3000\n",
      " - 8s - loss: 1.1214 - dice_coef: 0.2701 - binary_accuracy: 0.8268 - true_positive_rate: 0.6067 - val_loss: 3.5118 - val_dice_coef: 0.3181 - val_binary_accuracy: 0.2760 - val_true_positive_rate: 1.0000\n",
      "Finished epoch: 36\n",
      "{'loss': 1.121351633220911, 'true_positive_rate': 0.6066525615751743, 'binary_accuracy': 0.8267570734024048, 'dice_coef': 0.2700705863535404, 'val_binary_accuracy': 0.27604224197662275, 'val_loss': 3.511842635725948, 'val_true_positive_rate': 1.0, 'val_dice_coef': 0.31807520778749165, 'lr': 8e-07}\n",
      "\n",
      "Epoch 00037: val_loss did not improve\n",
      "Epoch 38/3000\n",
      " - 8s - loss: 1.1262 - dice_coef: 0.2689 - binary_accuracy: 0.8242 - true_positive_rate: 0.6515 - val_loss: 3.5131 - val_dice_coef: 0.3181 - val_binary_accuracy: 0.2760 - val_true_positive_rate: 1.0000\n",
      "Finished epoch: 37\n",
      "{'loss': 1.1261784434318542, 'true_positive_rate': 0.6515479348599911, 'binary_accuracy': 0.8241721391677856, 'dice_coef': 0.268861495424062, 'val_binary_accuracy': 0.2760296897593991, 'val_loss': 3.513112785883612, 'val_true_positive_rate': 1.0, 'val_dice_coef': 0.3180814303438584, 'lr': 8e-07}\n",
      "\n",
      "Epoch 00038: val_loss did not improve\n",
      "Epoch 39/3000\n",
      " - 8s - loss: 1.1153 - dice_coef: 0.2646 - binary_accuracy: 0.8335 - true_positive_rate: 0.6342 - val_loss: 3.5060 - val_dice_coef: 0.3181 - val_binary_accuracy: 0.2761 - val_true_positive_rate: 1.0000\n",
      "Finished epoch: 38\n",
      "{'loss': 1.1153411883860826, 'true_positive_rate': 0.6342068584635854, 'binary_accuracy': 0.8334705829620361, 'dice_coef': 0.26460016472265124, 'val_binary_accuracy': 0.27605667702642994, 'val_loss': 3.506009736833352, 'val_true_positive_rate': 1.0, 'val_dice_coef': 0.31805779940058454, 'lr': 8e-07}\n",
      "\n",
      "Epoch 00039: val_loss did not improve\n",
      "Epoch 40/3000\n",
      " - 8s - loss: 1.1078 - dice_coef: 0.2819 - binary_accuracy: 0.8297 - true_positive_rate: 0.6407 - val_loss: 3.5142 - val_dice_coef: 0.3181 - val_binary_accuracy: 0.2760 - val_true_positive_rate: 1.0000\n",
      "Finished epoch: 39\n",
      "{'loss': 1.107841368764639, 'true_positive_rate': 0.6406912924721837, 'binary_accuracy': 0.8296892046928406, 'dice_coef': 0.28191771637648344, 'val_binary_accuracy': 0.2760287483431073, 'val_loss': 3.5142015111477027, 'val_true_positive_rate': 1.0, 'val_dice_coef': 0.31808694653155567, 'lr': 8e-07}\n",
      "\n",
      "Epoch 00040: val_loss did not improve\n",
      "Epoch 41/3000\n",
      " - 8s - loss: 1.1166 - dice_coef: 0.2705 - binary_accuracy: 0.8302 - true_positive_rate: 0.6355 - val_loss: 3.5207 - val_dice_coef: 0.3181 - val_binary_accuracy: 0.2760 - val_true_positive_rate: 1.0000\n",
      "Finished epoch: 40\n",
      "{'loss': 1.1166479419916868, 'true_positive_rate': 0.6354695335030556, 'binary_accuracy': 0.8301836252212524, 'dice_coef': 0.2705315765924752, 'val_binary_accuracy': 0.2760444386146369, 'val_loss': 3.5207161498866535, 'val_true_positive_rate': 1.0, 'val_dice_coef': 0.31811387135927355, 'lr': 8e-07}\n",
      "\n",
      "Epoch 00041: val_loss did not improve\n",
      "Epoch 42/3000\n",
      " - 8s - loss: 1.1355 - dice_coef: 0.2486 - binary_accuracy: 0.8297 - true_positive_rate: 0.6100 - val_loss: 3.5230 - val_dice_coef: 0.3181 - val_binary_accuracy: 0.2761 - val_true_positive_rate: 1.0000\n",
      "Finished epoch: 41\n",
      "{'loss': 1.1354962028563023, 'true_positive_rate': 0.6099870121106505, 'binary_accuracy': 0.8297407031059265, 'dice_coef': 0.24857524828985333, 'val_binary_accuracy': 0.2760759760604113, 'val_loss': 3.5230183356218903, 'val_true_positive_rate': 1.0, 'val_dice_coef': 0.31812688876853196, 'lr': 8e-07}\n",
      "\n",
      "Epoch 00042: val_loss did not improve\n",
      "Epoch 43/3000\n",
      " - 8s - loss: 1.0938 - dice_coef: 0.2900 - binary_accuracy: 0.8345 - true_positive_rate: 0.6499 - val_loss: 3.5324 - val_dice_coef: 0.3182 - val_binary_accuracy: 0.2760 - val_true_positive_rate: 1.0000\n"
     ]
    },
    {
     "name": "stdout",
     "output_type": "stream",
     "text": [
      "Finished epoch: 42\n",
      "{'loss': 1.093782575801015, 'true_positive_rate': 0.6499480046331882, 'binary_accuracy': 0.834534764289856, 'dice_coef': 0.2900441810488701, 'val_binary_accuracy': 0.27602765002410024, 'val_loss': 3.5324154139177963, 'val_true_positive_rate': 1.0, 'val_dice_coef': 0.31815856388724556, 'lr': 8e-07}\n",
      "\n",
      "Epoch 00043: val_loss did not improve\n",
      "Epoch 44/3000\n",
      " - 8s - loss: 1.1159 - dice_coef: 0.2717 - binary_accuracy: 0.8273 - true_positive_rate: 0.6510 - val_loss: 3.5345 - val_dice_coef: 0.3182 - val_binary_accuracy: 0.2760 - val_true_positive_rate: 1.0000\n",
      "Finished epoch: 43\n",
      "{'loss': 1.1158719807863235, 'true_positive_rate': 0.6509833140298724, 'binary_accuracy': 0.8272913098335266, 'dice_coef': 0.2716540624387562, 'val_binary_accuracy': 0.27604506622549807, 'val_loss': 3.534497578530201, 'val_true_positive_rate': 1.0, 'val_dice_coef': 0.31816635271270965, 'lr': 8e-07}\n",
      "\n",
      "Epoch 00044: val_loss did not improve\n",
      "\n",
      "Epoch 00044: ReduceLROnPlateau reducing learning rate to 1.600000018697756e-07.\n",
      "Epoch 45/3000\n",
      " - 8s - loss: 1.1226 - dice_coef: 0.2653 - binary_accuracy: 0.8279 - true_positive_rate: 0.6312 - val_loss: 3.5338 - val_dice_coef: 0.3182 - val_binary_accuracy: 0.2761 - val_true_positive_rate: 1.0000\n",
      "Finished epoch: 44\n",
      "{'loss': 1.1226020567119122, 'true_positive_rate': 0.6311872089281678, 'binary_accuracy': 0.8279082775115967, 'dice_coef': 0.2653408688493073, 'val_binary_accuracy': 0.2760521268476864, 'val_loss': 3.533828819319031, 'val_true_positive_rate': 1.0, 'val_dice_coef': 0.3181650607935261, 'lr': 8e-07}\n",
      "\n",
      "Epoch 00045: val_loss did not improve\n",
      "Epoch 46/3000\n",
      " - 8s - loss: 1.1122 - dice_coef: 0.2705 - binary_accuracy: 0.8326 - true_positive_rate: 0.6268 - val_loss: 3.5350 - val_dice_coef: 0.3182 - val_binary_accuracy: 0.2761 - val_true_positive_rate: 1.0000\n",
      "Finished epoch: 45\n",
      "{'loss': 1.1122348178178072, 'true_positive_rate': 0.6268461891449988, 'binary_accuracy': 0.8326419591903687, 'dice_coef': 0.27048373268917203, 'val_binary_accuracy': 0.2760588736644441, 'val_loss': 3.5350191556396093, 'val_true_positive_rate': 1.0, 'val_dice_coef': 0.3181701710873827, 'lr': 1.6e-07}\n",
      "\n",
      "Epoch 00046: val_loss did not improve\n",
      "Epoch 47/3000\n",
      " - 8s - loss: 1.1061 - dice_coef: 0.2918 - binary_accuracy: 0.8220 - true_positive_rate: 0.6385 - val_loss: 3.5365 - val_dice_coef: 0.3182 - val_binary_accuracy: 0.2761 - val_true_positive_rate: 1.0000\n",
      "Finished epoch: 46\n",
      "{'loss': 1.1060709077864885, 'true_positive_rate': 0.6384628806263208, 'binary_accuracy': 0.8219742774963379, 'dice_coef': 0.29177989065647125, 'val_binary_accuracy': 0.2760511854313946, 'val_loss': 3.5364717407520754, 'val_true_positive_rate': 1.0, 'val_dice_coef': 0.3181751160511321, 'lr': 1.6e-07}\n",
      "\n",
      "Epoch 00047: val_loss did not improve\n",
      "Epoch 48/3000\n",
      " - 8s - loss: 1.1188 - dice_coef: 0.2629 - binary_accuracy: 0.8313 - true_positive_rate: 0.6458 - val_loss: 3.5370 - val_dice_coef: 0.3182 - val_binary_accuracy: 0.2761 - val_true_positive_rate: 1.0000\n",
      "Finished epoch: 47\n",
      "{'loss': 1.1187870912253857, 'true_positive_rate': 0.6457840828225017, 'binary_accuracy': 0.8312532901763916, 'dice_coef': 0.2628591046668589, 'val_binary_accuracy': 0.27605040091781813, 'val_loss': 3.5369836726348014, 'val_true_positive_rate': 1.0, 'val_dice_coef': 0.3181771845927888, 'lr': 1.6e-07}\n",
      "\n",
      "Epoch 00048: val_loss did not improve\n",
      "Epoch 49/3000\n",
      " - 8s - loss: 1.1095 - dice_coef: 0.2747 - binary_accuracy: 0.8316 - true_positive_rate: 0.6420 - val_loss: 3.5372 - val_dice_coef: 0.3182 - val_binary_accuracy: 0.2761 - val_true_positive_rate: 1.0000\n",
      "Finished epoch: 48\n",
      "{'loss': 1.1094772387295961, 'true_positive_rate': 0.6420072456821799, 'binary_accuracy': 0.8315826654434204, 'dice_coef': 0.27466013841331005, 'val_binary_accuracy': 0.27605400968026994, 'val_loss': 3.5371894493201093, 'val_true_positive_rate': 1.0, 'val_dice_coef': 0.3181783815122815, 'lr': 1.6e-07}\n",
      "\n",
      "Epoch 00049: val_loss did not improve\n",
      "Epoch 50/3000\n",
      " - 8s - loss: 1.1176 - dice_coef: 0.2728 - binary_accuracy: 0.8307 - true_positive_rate: 0.6448 - val_loss: 3.5381 - val_dice_coef: 0.3182 - val_binary_accuracy: 0.2761 - val_true_positive_rate: 1.0000\n",
      "Finished epoch: 49\n",
      "{'loss': 1.117569088935852, 'true_positive_rate': 0.644847041927278, 'binary_accuracy': 0.8307434916496277, 'dice_coef': 0.2727738358080387, 'val_binary_accuracy': 0.2760546372911311, 'val_loss': 3.5381363725294492, 'val_true_positive_rate': 1.0, 'val_dice_coef': 0.3181818542872726, 'lr': 1.6e-07}\n",
      "\n",
      "Epoch 00050: val_loss did not improve\n",
      "Epoch 51/3000\n",
      " - 8s - loss: 1.1131 - dice_coef: 0.2652 - binary_accuracy: 0.8329 - true_positive_rate: 0.6244 - val_loss: 3.5387 - val_dice_coef: 0.3182 - val_binary_accuracy: 0.2761 - val_true_positive_rate: 1.0000\n",
      "Finished epoch: 50\n",
      "{'loss': 1.113135814666748, 'true_positive_rate': 0.6244223853573203, 'binary_accuracy': 0.832875669002533, 'dice_coef': 0.2651851649861783, 'val_binary_accuracy': 0.2760547941938464, 'val_loss': 3.5387453150320174, 'val_true_positive_rate': 1.0, 'val_dice_coef': 0.3181842213884417, 'lr': 1.6e-07}\n",
      "\n",
      "Epoch 00051: val_loss did not improve\n",
      "Epoch 52/3000\n",
      " - 8s - loss: 1.1107 - dice_coef: 0.2881 - binary_accuracy: 0.8253 - true_positive_rate: 0.6549 - val_loss: 3.5407 - val_dice_coef: 0.3182 - val_binary_accuracy: 0.2761 - val_true_positive_rate: 1.0000\n",
      "Finished epoch: 51\n",
      "{'loss': 1.1107144802808762, 'true_positive_rate': 0.6548996884375811, 'binary_accuracy': 0.8253076076507568, 'dice_coef': 0.288072895957157, 'val_binary_accuracy': 0.27605087162596403, 'val_loss': 3.540721727214313, 'val_true_positive_rate': 1.0, 'val_dice_coef': 0.3181913755546805, 'lr': 1.6e-07}\n",
      "\n",
      "Epoch 00052: val_loss did not improve\n",
      "Epoch 53/3000\n",
      " - 8s - loss: 1.1042 - dice_coef: 0.2728 - binary_accuracy: 0.8322 - true_positive_rate: 0.6706 - val_loss: 3.5402 - val_dice_coef: 0.3182 - val_binary_accuracy: 0.2761 - val_true_positive_rate: 1.0000\n",
      "Finished epoch: 52\n",
      "{'loss': 1.1041531804949045, 'true_positive_rate': 0.6706097703427076, 'binary_accuracy': 0.8322350978851318, 'dice_coef': 0.2727582580409944, 'val_binary_accuracy': 0.2760544803884158, 'val_loss': 3.540222818869858, 'val_true_positive_rate': 1.0, 'val_dice_coef': 0.31819014117160005, 'lr': 1.6e-07}\n",
      "\n",
      "Epoch 00053: val_loss did not improve\n",
      "Epoch 54/3000\n",
      " - 8s - loss: 1.1108 - dice_coef: 0.2692 - binary_accuracy: 0.8337 - true_positive_rate: 0.6341 - val_loss: 3.5409 - val_dice_coef: 0.3182 - val_binary_accuracy: 0.2761 - val_true_positive_rate: 1.0000\n",
      "Finished epoch: 53\n",
      "{'loss': 1.1107588335871696, 'true_positive_rate': 0.6341151855885983, 'binary_accuracy': 0.8337205648422241, 'dice_coef': 0.2692164611071348, 'val_binary_accuracy': 0.2760533820694087, 'val_loss': 3.5409004718908, 'val_true_positive_rate': 1.0, 'val_dice_coef': 0.31819297921075307, 'lr': 1.6e-07}\n",
      "\n",
      "Epoch 00054: val_loss did not improve\n",
      "\n",
      "Epoch 00054: ReduceLROnPlateau reducing learning rate to 3.199999980552093e-08.\n",
      "Epoch 55/3000\n",
      " - 8s - loss: 1.1178 - dice_coef: 0.2723 - binary_accuracy: 0.8280 - true_positive_rate: 0.6335 - val_loss: 3.5409 - val_dice_coef: 0.3182 - val_binary_accuracy: 0.2761 - val_true_positive_rate: 1.0000\n",
      "Finished epoch: 54\n",
      "{'loss': 1.117782799527049, 'true_positive_rate': 0.633504425175488, 'binary_accuracy': 0.827988862991333, 'dice_coef': 0.27227354561910033, 'val_binary_accuracy': 0.2760549510965617, 'val_loss': 3.5408935503971914, 'val_true_positive_rate': 1.0, 'val_dice_coef': 0.3181930922910303, 'lr': 1.6e-07}\n",
      "\n",
      "Epoch 00055: val_loss did not improve\n",
      "Epoch 56/3000\n",
      " - 8s - loss: 1.1015 - dice_coef: 0.2675 - binary_accuracy: 0.8386 - true_positive_rate: 0.6429 - val_loss: 3.5413 - val_dice_coef: 0.3182 - val_binary_accuracy: 0.2761 - val_true_positive_rate: 1.0000\n",
      "Finished epoch: 55\n",
      "{'loss': 1.1015087347477674, 'true_positive_rate': 0.6428913557901978, 'binary_accuracy': 0.8385707139968872, 'dice_coef': 0.2674650722183287, 'val_binary_accuracy': 0.2760549510965617, 'val_loss': 3.5412907496209622, 'val_true_positive_rate': 1.0, 'val_dice_coef': 0.31819460761271284, 'lr': 3.2e-08}\n",
      "\n",
      "Epoch 00056: val_loss did not improve\n",
      "Epoch 57/3000\n",
      " - 8s - loss: 1.1136 - dice_coef: 0.2728 - binary_accuracy: 0.8305 - true_positive_rate: 0.6485 - val_loss: 3.5414 - val_dice_coef: 0.3182 - val_binary_accuracy: 0.2761 - val_true_positive_rate: 1.0000\n"
     ]
    },
    {
     "name": "stdout",
     "output_type": "stream",
     "text": [
      "Finished epoch: 56\n",
      "{'loss': 1.1135669462382793, 'true_positive_rate': 0.6485166065394878, 'binary_accuracy': 0.8304951786994934, 'dice_coef': 0.27278199745342135, 'val_binary_accuracy': 0.2760546372911311, 'val_loss': 3.5413863327938366, 'val_true_positive_rate': 1.0, 'val_dice_coef': 0.3181950444580657, 'lr': 3.2e-08}\n",
      "\n",
      "Epoch 00057: val_loss did not improve\n",
      "Epoch 58/3000\n",
      " - 8s - loss: 1.1303 - dice_coef: 0.2698 - binary_accuracy: 0.8199 - true_positive_rate: 0.6252 - val_loss: 3.5412 - val_dice_coef: 0.3182 - val_binary_accuracy: 0.2761 - val_true_positive_rate: 1.0000\n",
      "Finished epoch: 57\n",
      "{'loss': 1.1302956622093916, 'true_positive_rate': 0.6251648040488362, 'binary_accuracy': 0.8198941946029663, 'dice_coef': 0.2698056837543845, 'val_binary_accuracy': 0.2760552649019923, 'val_loss': 3.541206020315999, 'val_true_positive_rate': 1.0, 'val_dice_coef': 0.3181944676413941, 'lr': 3.2e-08}\n",
      "\n",
      "Epoch 00058: val_loss did not improve\n",
      "Epoch 59/3000\n",
      " - 8s - loss: 1.1010 - dice_coef: 0.2842 - binary_accuracy: 0.8332 - true_positive_rate: 0.6577 - val_loss: 3.5413 - val_dice_coef: 0.3182 - val_binary_accuracy: 0.2761 - val_true_positive_rate: 1.0000\n",
      "Finished epoch: 58\n",
      "{'loss': 1.1009929310530424, 'true_positive_rate': 0.6576582528650761, 'binary_accuracy': 0.8332017660140991, 'dice_coef': 0.28415672620758414, 'val_binary_accuracy': 0.2760541665829852, 'val_loss': 3.5413368005679016, 'val_true_positive_rate': 1.0, 'val_dice_coef': 0.3181949297689227, 'lr': 3.2e-08}\n",
      "\n",
      "Epoch 00059: val_loss did not improve\n",
      "Epoch 60/3000\n",
      " - 8s - loss: 1.1142 - dice_coef: 0.2693 - binary_accuracy: 0.8329 - true_positive_rate: 0.6620 - val_loss: 3.5415 - val_dice_coef: 0.3182 - val_binary_accuracy: 0.2761 - val_true_positive_rate: 1.0000\n",
      "Finished epoch: 59\n",
      "{'loss': 1.1141694001853466, 'true_positive_rate': 0.6620141658931971, 'binary_accuracy': 0.8329168558120728, 'dice_coef': 0.26931305369362235, 'val_binary_accuracy': 0.276055107999277, 'val_loss': 3.541540446195627, 'val_true_positive_rate': 1.0, 'val_dice_coef': 0.31819578415323957, 'lr': 3.2e-08}\n",
      "\n",
      "Epoch 00060: val_loss did not improve\n",
      "Epoch 61/3000\n",
      " - 8s - loss: 1.1006 - dice_coef: 0.2676 - binary_accuracy: 0.8383 - true_positive_rate: 0.6358 - val_loss: 3.5416 - val_dice_coef: 0.3182 - val_binary_accuracy: 0.2761 - val_true_positive_rate: 1.0000\n",
      "Finished epoch: 60\n",
      "{'loss': 1.1006379164755344, 'true_positive_rate': 0.6358252847567201, 'binary_accuracy': 0.838333010673523, 'dice_coef': 0.2676329077221453, 'val_binary_accuracy': 0.27605667702642994, 'val_loss': 3.541616935043531, 'val_true_positive_rate': 1.0, 'val_dice_coef': 0.318196287958052, 'lr': 3.2e-08}\n",
      "\n",
      "Epoch 00061: val_loss did not improve\n",
      "Epoch 62/3000\n",
      " - 8s - loss: 1.1170 - dice_coef: 0.2881 - binary_accuracy: 0.8227 - true_positive_rate: 0.6394 - val_loss: 3.5420 - val_dice_coef: 0.3182 - val_binary_accuracy: 0.2761 - val_true_positive_rate: 1.0000\n",
      "Finished epoch: 61\n",
      "{'loss': 1.117029968649149, 'true_positive_rate': 0.6394155090674758, 'binary_accuracy': 0.8226615190505981, 'dice_coef': 0.2880921456962824, 'val_binary_accuracy': 0.2760552649019923, 'val_loss': 3.541985725069414, 'val_true_positive_rate': 1.0, 'val_dice_coef': 0.31819751835727444, 'lr': 3.2e-08}\n",
      "\n",
      "Epoch 00062: val_loss did not improve\n",
      "Epoch 63/3000\n",
      " - 8s - loss: 1.1059 - dice_coef: 0.2678 - binary_accuracy: 0.8350 - true_positive_rate: 0.6335 - val_loss: 3.5423 - val_dice_coef: 0.3182 - val_binary_accuracy: 0.2761 - val_true_positive_rate: 1.0000\n",
      "Finished epoch: 62\n",
      "{'loss': 1.1059147622436285, 'true_positive_rate': 0.6335009983740747, 'binary_accuracy': 0.8349729180335999, 'dice_coef': 0.2677655299194157, 'val_binary_accuracy': 0.276055107999277, 'val_loss': 3.542276279478882, 'val_true_positive_rate': 1.0, 'val_dice_coef': 0.318198575611899, 'lr': 3.2e-08}\n",
      "\n",
      "Epoch 00063: val_loss did not improve\n",
      "Epoch 64/3000\n",
      " - 8s - loss: 1.1050 - dice_coef: 0.2582 - binary_accuracy: 0.8418 - true_positive_rate: 0.6460 - val_loss: 3.5424 - val_dice_coef: 0.3182 - val_binary_accuracy: 0.2761 - val_true_positive_rate: 1.0000\n",
      "Finished epoch: 63\n",
      "{'loss': 1.1049889288842678, 'true_positive_rate': 0.6459787730127573, 'binary_accuracy': 0.8418439626693726, 'dice_coef': 0.25815788842737675, 'val_binary_accuracy': 0.2760569908318605, 'val_loss': 3.5424133340006927, 'val_true_positive_rate': 1.0, 'val_dice_coef': 0.318199319061093, 'lr': 3.2e-08}\n",
      "\n",
      "Epoch 00064: val_loss did not improve\n",
      "\n",
      "Epoch 00064: ReduceLROnPlateau reducing learning rate to 6.399999818995639e-09.\n",
      "Epoch 65/3000\n",
      " - 8s - loss: 1.1081 - dice_coef: 0.2798 - binary_accuracy: 0.8292 - true_positive_rate: 0.6541 - val_loss: 3.5424 - val_dice_coef: 0.3182 - val_binary_accuracy: 0.2761 - val_true_positive_rate: 1.0000\n",
      "Finished epoch: 64\n",
      "{'loss': 1.1081453375518322, 'true_positive_rate': 0.6541487919166684, 'binary_accuracy': 0.8292340040206909, 'dice_coef': 0.27982479706406593, 'val_binary_accuracy': 0.27605683392914526, 'val_loss': 3.5424232538071267, 'val_true_positive_rate': 1.0, 'val_dice_coef': 0.3181993635730449, 'lr': 3.2e-08}\n",
      "\n",
      "Epoch 00065: val_loss did not improve\n",
      "Epoch 66/3000\n",
      " - 8s - loss: 1.1326 - dice_coef: 0.2624 - binary_accuracy: 0.8288 - true_positive_rate: 0.6311 - val_loss: 3.5424 - val_dice_coef: 0.3182 - val_binary_accuracy: 0.2761 - val_true_positive_rate: 1.0000\n",
      "Finished epoch: 65\n",
      "{'loss': 1.1326193325221539, 'true_positive_rate': 0.6311249826103449, 'binary_accuracy': 0.8288213014602661, 'dice_coef': 0.26239160797558725, 'val_binary_accuracy': 0.27605683392914526, 'val_loss': 3.5424204969773867, 'val_true_positive_rate': 1.0, 'val_dice_coef': 0.3181993411255373, 'lr': 6.3999996e-09}\n",
      "\n",
      "Epoch 00066: val_loss did not improve\n",
      "Epoch 67/3000\n",
      " - 8s - loss: 1.1025 - dice_coef: 0.2796 - binary_accuracy: 0.8284 - true_positive_rate: 0.6598 - val_loss: 3.5424 - val_dice_coef: 0.3182 - val_binary_accuracy: 0.2761 - val_true_positive_rate: 1.0000\n",
      "Finished epoch: 66\n",
      "{'loss': 1.1025197505950928, 'true_positive_rate': 0.6598405186086893, 'binary_accuracy': 0.828352689743042, 'dice_coef': 0.27956121042370796, 'val_binary_accuracy': 0.2760569908318605, 'val_loss': 3.5424266400864313, 'val_true_positive_rate': 1.0, 'val_dice_coef': 0.31819937828267447, 'lr': 6.3999996e-09}\n",
      "\n",
      "Epoch 00067: val_loss did not improve\n",
      "Epoch 68/3000\n",
      " - 8s - loss: 1.1236 - dice_coef: 0.2694 - binary_accuracy: 0.8240 - true_positive_rate: 0.6139 - val_loss: 3.5424 - val_dice_coef: 0.3182 - val_binary_accuracy: 0.2761 - val_true_positive_rate: 1.0000\n",
      "Finished epoch: 67\n",
      "{'loss': 1.1236047893762589, 'true_positive_rate': 0.6139277294278145, 'binary_accuracy': 0.8239881992340088, 'dice_coef': 0.269364379812032, 'val_binary_accuracy': 0.2760569908318605, 'val_loss': 3.5424319257466528, 'val_true_positive_rate': 1.0, 'val_dice_coef': 0.3181994060164552, 'lr': 6.3999996e-09}\n",
      "\n",
      "Epoch 00068: val_loss did not improve\n",
      "Epoch 69/3000\n",
      " - 8s - loss: 1.1210 - dice_coef: 0.2872 - binary_accuracy: 0.8224 - true_positive_rate: 0.6491 - val_loss: 3.5424 - val_dice_coef: 0.3182 - val_binary_accuracy: 0.2761 - val_true_positive_rate: 1.0000\n",
      "Finished epoch: 68\n",
      "{'loss': 1.1209599822759628, 'true_positive_rate': 0.6490527065470815, 'binary_accuracy': 0.8224130272865295, 'dice_coef': 0.28723468352109194, 'val_binary_accuracy': 0.27605667702642994, 'val_loss': 3.5424353598322535, 'val_true_positive_rate': 1.0, 'val_dice_coef': 0.31819940724225765, 'lr': 6.3999996e-09}\n",
      "\n",
      "Epoch 00069: val_loss did not improve\n",
      "Epoch 70/3000\n",
      " - 8s - loss: 1.1017 - dice_coef: 0.2653 - binary_accuracy: 0.8402 - true_positive_rate: 0.6435 - val_loss: 3.5425 - val_dice_coef: 0.3182 - val_binary_accuracy: 0.2761 - val_true_positive_rate: 1.0000\n",
      "Finished epoch: 69\n",
      "{'loss': 1.1016567014157772, 'true_positive_rate': 0.6434999955818057, 'binary_accuracy': 0.8401511311531067, 'dice_coef': 0.26525985123589635, 'val_binary_accuracy': 0.27605667702642994, 'val_loss': 3.542450819040019, 'val_true_positive_rate': 1.0, 'val_dice_coef': 0.3181994787218638, 'lr': 6.3999996e-09}\n",
      "\n",
      "Epoch 00070: val_loss did not improve\n",
      "Epoch 71/3000\n",
      " - 8s - loss: 1.1253 - dice_coef: 0.2591 - binary_accuracy: 0.8258 - true_positive_rate: 0.6255 - val_loss: 3.5425 - val_dice_coef: 0.3182 - val_binary_accuracy: 0.2761 - val_true_positive_rate: 1.0000\n",
      "Finished epoch: 70\n",
      "{'loss': 1.1253247261047363, 'true_positive_rate': 0.6255349116399884, 'binary_accuracy': 0.8258441686630249, 'dice_coef': 0.25908776046708226, 'val_binary_accuracy': 0.2760569908318605, 'val_loss': 3.542462788388171, 'val_true_positive_rate': 1.0, 'val_dice_coef': 0.3181995268346105, 'lr': 6.3999996e-09}\n",
      "\n",
      "Epoch 00071: val_loss did not improve\n",
      "Epoch 72/3000\n"
     ]
    },
    {
     "name": "stdout",
     "output_type": "stream",
     "text": [
      " - 8s - loss: 1.1136 - dice_coef: 0.2669 - binary_accuracy: 0.8330 - true_positive_rate: 0.6482 - val_loss: 3.5425 - val_dice_coef: 0.3182 - val_binary_accuracy: 0.2761 - val_true_positive_rate: 1.0000\n",
      "Finished epoch: 71\n",
      "{'loss': 1.1136459801346064, 'true_positive_rate': 0.6481705997139215, 'binary_accuracy': 0.833044707775116, 'dice_coef': 0.266891174018383, 'val_binary_accuracy': 0.2760569908318605, 'val_loss': 3.542477849210136, 'val_true_positive_rate': 1.0, 'val_dice_coef': 0.3181995983142166, 'lr': 6.3999996e-09}\n",
      "\n",
      "Epoch 00072: val_loss did not improve\n",
      "Epoch 73/3000\n",
      " - 8s - loss: 1.1230 - dice_coef: 0.2671 - binary_accuracy: 0.8252 - true_positive_rate: 0.6286 - val_loss: 3.5425 - val_dice_coef: 0.3182 - val_binary_accuracy: 0.2761 - val_true_positive_rate: 1.0000\n",
      "Finished epoch: 72\n",
      "{'loss': 1.1229820996522903, 'true_positive_rate': 0.6286339135840535, 'binary_accuracy': 0.8251684904098511, 'dice_coef': 0.26706795301288366, 'val_binary_accuracy': 0.2760569908318605, 'val_loss': 3.542490097428349, 'val_true_positive_rate': 1.0, 'val_dice_coef': 0.31819963340281215, 'lr': 6.3999996e-09}\n",
      "\n",
      "Epoch 00073: val_loss did not improve\n",
      "Epoch 74/3000\n",
      " - 8s - loss: 1.1115 - dice_coef: 0.2838 - binary_accuracy: 0.8260 - true_positive_rate: 0.6491 - val_loss: 3.5425 - val_dice_coef: 0.3182 - val_binary_accuracy: 0.2761 - val_true_positive_rate: 1.0000\n",
      "Finished epoch: 73\n",
      "{'loss': 1.1114687155932188, 'true_positive_rate': 0.6491230372339487, 'binary_accuracy': 0.8259651064872742, 'dice_coef': 0.283787137363106, 'val_binary_accuracy': 0.27605714773457585, 'val_loss': 3.542478158725258, 'val_true_positive_rate': 1.0, 'val_dice_coef': 0.3181996105722413, 'lr': 6.3999996e-09}\n",
      "\n",
      "Epoch 00074: val_loss did not improve\n",
      "\n",
      "Epoch 00074: ReduceLROnPlateau reducing learning rate to 1.279999928271991e-09.\n",
      "Epoch 75/3000\n",
      " - 8s - loss: 1.1126 - dice_coef: 0.2540 - binary_accuracy: 0.8414 - true_positive_rate: 0.6191 - val_loss: 3.5425 - val_dice_coef: 0.3182 - val_binary_accuracy: 0.2761 - val_true_positive_rate: 1.0000\n",
      "Finished epoch: 74\n",
      "{'loss': 1.1126372702419758, 'true_positive_rate': 0.6190713932737708, 'binary_accuracy': 0.8413534164428711, 'dice_coef': 0.253958520013839, 'val_binary_accuracy': 0.27605714773457585, 'val_loss': 3.5424809382323432, 'val_true_positive_rate': 1.0, 'val_dice_coef': 0.3181996248221949, 'lr': 6.3999996e-09}\n",
      "\n",
      "Epoch 00075: val_loss did not improve\n",
      "Epoch 76/3000\n",
      " - 8s - loss: 1.1114 - dice_coef: 0.2829 - binary_accuracy: 0.8281 - true_positive_rate: 0.6453 - val_loss: 3.5425 - val_dice_coef: 0.3182 - val_binary_accuracy: 0.2761 - val_true_positive_rate: 1.0000\n",
      "Finished epoch: 75\n",
      "{'loss': 1.1113550178706646, 'true_positive_rate': 0.6452597007155418, 'binary_accuracy': 0.8280820846557617, 'dice_coef': 0.2829309026710689, 'val_binary_accuracy': 0.27605714773457585, 'val_loss': 3.5424824306468423, 'val_true_positive_rate': 1.0, 'val_dice_coef': 0.3181996216044634, 'lr': 1.2799999e-09}\n",
      "\n",
      "Epoch 00076: val_loss did not improve\n",
      "Epoch 77/3000\n",
      " - 8s - loss: 1.1119 - dice_coef: 0.2747 - binary_accuracy: 0.8291 - true_positive_rate: 0.6421 - val_loss: 3.5425 - val_dice_coef: 0.3182 - val_binary_accuracy: 0.2761 - val_true_positive_rate: 1.0000\n",
      "Finished epoch: 76\n",
      "{'loss': 1.1118928492069244, 'true_positive_rate': 0.6421198137104511, 'binary_accuracy': 0.8290829062461853, 'dice_coef': 0.27465379890054464, 'val_binary_accuracy': 0.27605714773457585, 'val_loss': 3.54248381273912, 'val_true_positive_rate': 1.0, 'val_dice_coef': 0.3181996240560684, 'lr': 1.2799999e-09}\n",
      "\n",
      "Epoch 00077: val_loss did not improve\n",
      "Epoch 78/3000\n",
      " - 8s - loss: 1.1041 - dice_coef: 0.2726 - binary_accuracy: 0.8351 - true_positive_rate: 0.6422 - val_loss: 3.5425 - val_dice_coef: 0.3182 - val_binary_accuracy: 0.2761 - val_true_positive_rate: 1.0000\n",
      "Finished epoch: 77\n",
      "{'loss': 1.10410425812006, 'true_positive_rate': 0.6421625362709165, 'binary_accuracy': 0.8350666165351868, 'dice_coef': 0.2725572579074651, 'val_binary_accuracy': 0.27605714773457585, 'val_loss': 3.542484586833375, 'val_true_positive_rate': 1.0, 'val_dice_coef': 0.3181996350882905, 'lr': 1.2799999e-09}\n",
      "\n",
      "Epoch 00078: val_loss did not improve\n",
      "Epoch 79/3000\n",
      " - 8s - loss: 1.1167 - dice_coef: 0.2754 - binary_accuracy: 0.8248 - true_positive_rate: 0.6531 - val_loss: 3.5425 - val_dice_coef: 0.3182 - val_binary_accuracy: 0.2761 - val_true_positive_rate: 1.0000\n",
      "Finished epoch: 78\n",
      "{'loss': 1.1167062316089869, 'true_positive_rate': 0.6530929794535041, 'binary_accuracy': 0.8247664570808411, 'dice_coef': 0.2754114349372685, 'val_binary_accuracy': 0.27605714773457585, 'val_loss': 3.5424851317025703, 'val_true_positive_rate': 1.0, 'val_dice_coef': 0.31819963953182445, 'lr': 1.2799999e-09}\n",
      "\n",
      "Epoch 00079: val_loss did not improve\n",
      "Epoch 80/3000\n",
      " - 8s - loss: 1.1116 - dice_coef: 0.2766 - binary_accuracy: 0.8281 - true_positive_rate: 0.6401 - val_loss: 3.5425 - val_dice_coef: 0.3182 - val_binary_accuracy: 0.2761 - val_true_positive_rate: 1.0000\n",
      "Finished epoch: 79\n",
      "{'loss': 1.111592711880803, 'true_positive_rate': 0.6401049736887217, 'binary_accuracy': 0.8280608057975769, 'dice_coef': 0.27655255515128374, 'val_binary_accuracy': 0.27605714773457585, 'val_loss': 3.542485785055283, 'val_true_positive_rate': 1.0, 'val_dice_coef': 0.31819963953182445, 'lr': 1.2799999e-09}\n",
      "\n",
      "Epoch 00080: val_loss did not improve\n",
      "Epoch 81/3000\n",
      " - 8s - loss: 1.1173 - dice_coef: 0.2682 - binary_accuracy: 0.8309 - true_positive_rate: 0.6527 - val_loss: 3.5425 - val_dice_coef: 0.3182 - val_binary_accuracy: 0.2761 - val_true_positive_rate: 1.0000\n",
      "Finished epoch: 80\n",
      "{'loss': 1.117319280281663, 'true_positive_rate': 0.6526586785912514, 'binary_accuracy': 0.8309146165847778, 'dice_coef': 0.268167941365391, 'val_binary_accuracy': 0.27605714773457585, 'val_loss': 3.5424834989336893, 'val_true_positive_rate': 1.0, 'val_dice_coef': 0.31819962773347577, 'lr': 1.2799999e-09}\n",
      "\n",
      "Epoch 00081: val_loss did not improve\n",
      "Epoch 82/3000\n",
      " - 8s - loss: 1.0827 - dice_coef: 0.2808 - binary_accuracy: 0.8421 - true_positive_rate: 0.6400 - val_loss: 3.5425 - val_dice_coef: 0.3182 - val_binary_accuracy: 0.2761 - val_true_positive_rate: 1.0000\n",
      "Finished epoch: 81\n",
      "{'loss': 1.0827032327651978, 'true_positive_rate': 0.6400100206956267, 'binary_accuracy': 0.8420887589454651, 'dice_coef': 0.28075592732056975, 'val_binary_accuracy': 0.27605714773457585, 'val_loss': 3.542486971019166, 'val_true_positive_rate': 1.0, 'val_dice_coef': 0.31819964198342937, 'lr': 1.2799999e-09}\n",
      "\n",
      "Epoch 00082: val_loss did not improve\n",
      "Epoch 83/3000\n",
      " - 8s - loss: 1.1017 - dice_coef: 0.2746 - binary_accuracy: 0.8351 - true_positive_rate: 0.6597 - val_loss: 3.5425 - val_dice_coef: 0.3182 - val_binary_accuracy: 0.2761 - val_true_positive_rate: 1.0000\n",
      "Finished epoch: 82\n",
      "{'loss': 1.101707773283124, 'true_positive_rate': 0.659706411883235, 'binary_accuracy': 0.8351475596427917, 'dice_coef': 0.2746373536065221, 'val_binary_accuracy': 0.27605714773457585, 'val_loss': 3.542490622684704, 'val_true_positive_rate': 1.0, 'val_dice_coef': 0.3181996603704663, 'lr': 1.2799999e-09}\n",
      "\n",
      "Epoch 00083: val_loss did not improve\n",
      "Epoch 84/3000\n",
      " - 8s - loss: 1.1310 - dice_coef: 0.2714 - binary_accuracy: 0.8215 - true_positive_rate: 0.6236 - val_loss: 3.5425 - val_dice_coef: 0.3182 - val_binary_accuracy: 0.2761 - val_true_positive_rate: 1.0000\n",
      "Finished epoch: 83\n",
      "{'loss': 1.1309547927230597, 'true_positive_rate': 0.6235951259732246, 'binary_accuracy': 0.8215057849884033, 'dice_coef': 0.2714228564873338, 'val_binary_accuracy': 0.27605714773457585, 'val_loss': 3.5424899331708186, 'val_true_positive_rate': 1.0, 'val_dice_coef': 0.31819965914466386, 'lr': 1.2799999e-09}\n",
      "\n",
      "Epoch 00084: val_loss did not improve\n",
      "\n",
      "Epoch 00084: ReduceLROnPlateau reducing learning rate to 2.55999976772614e-10.\n",
      "Epoch 85/3000\n",
      " - 8s - loss: 1.1184 - dice_coef: 0.2646 - binary_accuracy: 0.8310 - true_positive_rate: 0.6230 - val_loss: 3.5425 - val_dice_coef: 0.3182 - val_binary_accuracy: 0.2761 - val_true_positive_rate: 1.0000\n",
      "Finished epoch: 84\n",
      "{'loss': 1.1184308603405952, 'true_positive_rate': 0.6229828586801887, 'binary_accuracy': 0.8310084342956543, 'dice_coef': 0.26455424446612597, 'val_binary_accuracy': 0.27605714773457585, 'val_loss': 3.5424899723964978, 'val_true_positive_rate': 1.0, 'val_dice_coef': 0.31819965669305894, 'lr': 1.2799999e-09}\n",
      "\n",
      "Epoch 00085: val_loss did not improve\n",
      "Epoch 86/3000\n"
     ]
    },
    {
     "name": "stdout",
     "output_type": "stream",
     "text": [
      " - 8s - loss: 1.1318 - dice_coef: 0.2593 - binary_accuracy: 0.8277 - true_positive_rate: 0.6458 - val_loss: 3.5425 - val_dice_coef: 0.3182 - val_binary_accuracy: 0.2761 - val_true_positive_rate: 1.0000\n",
      "Finished epoch: 85\n",
      "{'loss': 1.1317823827266693, 'true_positive_rate': 0.6457975506782532, 'binary_accuracy': 0.8276852369308472, 'dice_coef': 0.2592702640686184, 'val_binary_accuracy': 0.27605714773457585, 'val_loss': 3.542489815493782, 'val_true_positive_rate': 1.0, 'val_dice_coef': 0.31819965914466386, 'lr': 2.5599997e-10}\n",
      "\n",
      "Epoch 00086: val_loss did not improve\n",
      "Epoch 87/3000\n",
      " - 8s - loss: 1.1104 - dice_coef: 0.2764 - binary_accuracy: 0.8288 - true_positive_rate: 0.6237 - val_loss: 3.5425 - val_dice_coef: 0.3182 - val_binary_accuracy: 0.2761 - val_true_positive_rate: 1.0000\n",
      "Finished epoch: 86\n",
      "{'loss': 1.110362034291029, 'true_positive_rate': 0.6237023724243045, 'binary_accuracy': 0.8287531733512878, 'dice_coef': 0.2764452318660915, 'val_binary_accuracy': 0.27605714773457585, 'val_loss': 3.542489835106622, 'val_true_positive_rate': 1.0, 'val_dice_coef': 0.3181996517898491, 'lr': 2.5599997e-10}\n",
      "\n",
      "Epoch 00087: val_loss did not improve\n",
      "Epoch 88/3000\n",
      " - 8s - loss: 1.1173 - dice_coef: 0.2674 - binary_accuracy: 0.8304 - true_positive_rate: 0.6410 - val_loss: 3.5425 - val_dice_coef: 0.3182 - val_binary_accuracy: 0.2761 - val_true_positive_rate: 1.0000\n",
      "Finished epoch: 87\n",
      "{'loss': 1.1172650028020144, 'true_positive_rate': 0.6409571850672364, 'binary_accuracy': 0.830405056476593, 'dice_coef': 0.26737398374825716, 'val_binary_accuracy': 0.27605714773457585, 'val_loss': 3.5424898743323006, 'val_true_positive_rate': 1.0, 'val_dice_coef': 0.31819965669305894, 'lr': 2.5599997e-10}\n",
      "\n",
      "Epoch 00088: val_loss did not improve\n",
      "Epoch 89/3000\n",
      " - 8s - loss: 1.1094 - dice_coef: 0.2788 - binary_accuracy: 0.8262 - true_positive_rate: 0.6571 - val_loss: 3.5425 - val_dice_coef: 0.3182 - val_binary_accuracy: 0.2761 - val_true_positive_rate: 1.0000\n",
      "Finished epoch: 88\n",
      "{'loss': 1.1094437204301357, 'true_positive_rate': 0.6570686241611838, 'binary_accuracy': 0.8262360692024231, 'dice_coef': 0.27883258648216724, 'val_binary_accuracy': 0.27605714773457585, 'val_loss': 3.54248980936477, 'val_true_positive_rate': 1.0, 'val_dice_coef': 0.31819965914466386, 'lr': 2.5599997e-10}\n",
      "\n",
      "Epoch 00089: val_loss did not improve\n",
      "Epoch 90/3000\n",
      " - 8s - loss: 1.1047 - dice_coef: 0.2913 - binary_accuracy: 0.8275 - true_positive_rate: 0.6366 - val_loss: 3.5425 - val_dice_coef: 0.3182 - val_binary_accuracy: 0.2761 - val_true_positive_rate: 1.0000\n",
      "Finished epoch: 89\n",
      "{'loss': 1.1046702060848475, 'true_positive_rate': 0.6365650910884142, 'binary_accuracy': 0.827545702457428, 'dice_coef': 0.2913487940095365, 'val_binary_accuracy': 0.27605714773457585, 'val_loss': 3.542490050847855, 'val_true_positive_rate': 1.0, 'val_dice_coef': 0.318199654241454, 'lr': 2.5599997e-10}\n",
      "\n",
      "Epoch 00090: val_loss did not improve\n",
      "Epoch 91/3000\n",
      " - 8s - loss: 1.1076 - dice_coef: 0.2779 - binary_accuracy: 0.8279 - true_positive_rate: 0.6463 - val_loss: 3.5425 - val_dice_coef: 0.3182 - val_binary_accuracy: 0.2761 - val_true_positive_rate: 1.0000\n",
      "Finished epoch: 90\n",
      "{'loss': 1.1075755003839731, 'true_positive_rate': 0.6462514670565724, 'binary_accuracy': 0.8278626799583435, 'dice_coef': 0.2779445103369653, 'val_binary_accuracy': 0.27605714773457585, 'val_loss': 3.5424901685248917, 'val_true_positive_rate': 1.0, 'val_dice_coef': 0.31819965301565156, 'lr': 2.5599997e-10}\n",
      "\n",
      "Epoch 00091: val_loss did not improve\n",
      "Epoch 92/3000\n",
      " - 8s - loss: 1.1238 - dice_coef: 0.2440 - binary_accuracy: 0.8396 - true_positive_rate: 0.6257 - val_loss: 3.5425 - val_dice_coef: 0.3182 - val_binary_accuracy: 0.2761 - val_true_positive_rate: 1.0000\n",
      "Finished epoch: 91\n",
      "{'loss': 1.1237945966422558, 'true_positive_rate': 0.625693186186254, 'binary_accuracy': 0.839555561542511, 'dice_coef': 0.2440262334421277, 'val_binary_accuracy': 0.27605714773457585, 'val_loss': 3.5424901096863732, 'val_true_positive_rate': 1.0, 'val_dice_coef': 0.31819965914466386, 'lr': 2.5599997e-10}\n",
      "\n",
      "Epoch 00092: val_loss did not improve\n",
      "Epoch 93/3000\n",
      " - 8s - loss: 1.1205 - dice_coef: 0.2581 - binary_accuracy: 0.8330 - true_positive_rate: 0.6268 - val_loss: 3.5425 - val_dice_coef: 0.3182 - val_binary_accuracy: 0.2761 - val_true_positive_rate: 1.0000\n",
      "Finished epoch: 92\n",
      "{'loss': 1.1205261014401913, 'true_positive_rate': 0.6267873113974929, 'binary_accuracy': 0.8330358266830444, 'dice_coef': 0.25809027161449194, 'val_binary_accuracy': 0.27605714773457585, 'val_loss': 3.5424901685248917, 'val_true_positive_rate': 1.0, 'val_dice_coef': 0.31819965669305894, 'lr': 2.5599997e-10}\n",
      "\n",
      "Epoch 00093: val_loss did not improve\n",
      "Epoch 94/3000\n"
     ]
    }
   ],
   "source": [
    "train_util.train(unet_m, train_gen, val_gen, loss=train_util.dice_p_bce, metrics=[train_util.dice_coef, 'binary_accuracy', train_util.true_positive_rate], epochs=3000, steps_per_epoch=32\n",
    "# rmsprop = keras.optimizers.RMSprop(lr=1e-4)\n",
    "# train_util.train(unet_m, train_gen, val_gen, metrics=[train_util.mean_iou], epochs=3000, steps_per_epoch=32, optimizer=rmsprop)"
   ]
  },
  {
   "cell_type": "code",
   "execution_count": null,
   "metadata": {},
   "outputs": [],
   "source": [
    "val_gen"
   ]
  },
  {
   "cell_type": "code",
   "execution_count": null,
   "metadata": {},
   "outputs": [],
   "source": []
  }
 ],
 "metadata": {
  "anaconda-cloud": {},
  "kernelspec": {
   "display_name": "Python [anaconda3]",
   "language": "python",
   "name": "Python [anaconda3]"
  },
  "language_info": {
   "codemirror_mode": {
    "name": "ipython",
    "version": 3
   },
   "file_extension": ".py",
   "mimetype": "text/x-python",
   "name": "python",
   "nbconvert_exporter": "python",
   "pygments_lexer": "ipython3",
   "version": "3.5.2"
  }
 },
 "nbformat": 4,
 "nbformat_minor": 1
}
