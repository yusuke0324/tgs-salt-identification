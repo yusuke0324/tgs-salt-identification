{
 "cells": [
  {
   "cell_type": "markdown",
   "metadata": {},
   "source": [
    "## Train with imgaug generator"
   ]
  },
  {
   "cell_type": "code",
   "execution_count": 1,
   "metadata": {},
   "outputs": [
    {
     "name": "stderr",
     "output_type": "stream",
     "text": [
      "/root/anaconda3/lib/python3.5/site-packages/h5py/__init__.py:34: FutureWarning: Conversion of the second argument of issubdtype from `float` to `np.floating` is deprecated. In future, it will be treated as `np.float64 == np.dtype(float).type`.\n",
      "  from ._conv import register_converters as _register_converters\n",
      "Using TensorFlow backend.\n"
     ]
    }
   ],
   "source": [
    "import numpy as np\n",
    "import pandas as pd\n",
    "import matplotlib.pyplot as plt\n",
    "from glob import glob\n",
    "from tqdm import tqdm\n",
    "from skimage.transform import resize\n",
    "import keras\n",
    "import cv2\n",
    "%matplotlib inline\n",
    "\n",
    "import train_util\n",
    "import util\n",
    "from image_generator import Generator\n",
    "%load_ext autoreload\n",
    "%autoreload 2\n"
   ]
  },
  {
   "cell_type": "markdown",
   "metadata": {},
   "source": [
    "### Make {'image_id':depth} dictionary and train-val split"
   ]
  },
  {
   "cell_type": "code",
   "execution_count": 2,
   "metadata": {},
   "outputs": [],
   "source": [
    "master_df = pd.read_csv('./data/depth_prop_cls_bad_mask.csv')\n",
    "id_depth_df = master_df[['id', 'z']].set_index('id')['z']\n",
    "depth_dict = id_depth_df.to_dict()"
   ]
  },
  {
   "cell_type": "code",
   "execution_count": 3,
   "metadata": {},
   "outputs": [],
   "source": [
    "# data_type is 'train', 'test' and 'bad_train'\n",
    "train_val_df = master_df[(master_df['data_type'] == 'train')]\n",
    "ids = train_val_df['id'].values\n",
    "classes = train_val_df['salt_propotion_class'].values"
   ]
  },
  {
   "cell_type": "code",
   "execution_count": 4,
   "metadata": {},
   "outputs": [],
   "source": [
    "from sklearn.cross_validation import train_test_split\n",
    "train_ids, val_ids = train_test_split(ids, test_size=0.2, random_state=43, stratify=classes)"
   ]
  },
  {
   "cell_type": "code",
   "execution_count": 5,
   "metadata": {},
   "outputs": [],
   "source": [
    "# make generator\n",
    "batch_size = 32\n",
    "tgs_generator = Generator(train_ids = train_ids, depth_dict=depth_dict, val_ids=val_ids, batch_size=batch_size)"
   ]
  },
  {
   "cell_type": "code",
   "execution_count": 6,
   "metadata": {},
   "outputs": [
    {
     "name": "stdout",
     "output_type": "stream",
     "text": [
      "97\n",
      "24\n"
     ]
    }
   ],
   "source": [
    "# steps_per_epoch\n",
    "steps_per_epoch = len(train_ids) //  batch_size\n",
    "validation_steps = len(val_ids) //  batch_size\n",
    "# validation batch will be all validation\n",
    "# validation_steps = 1\n",
    "print(steps_per_epoch)\n",
    "print(validation_steps)"
   ]
  },
  {
   "cell_type": "markdown",
   "metadata": {},
   "source": [
    "### Make val data"
   ]
  },
  {
   "cell_type": "code",
   "execution_count": 7,
   "metadata": {},
   "outputs": [],
   "source": [
    "# X_val = np.zeros((len(val_ids), 128, 128, 3), dtype=np.float32)\n",
    "# X_feat_val = np.zeros((len(val_ids), 1), dtype=np.float32)\n",
    "# Y_val_true = np.zeros((len(val_ids), 128, 128, 1), dtype=np.float32)\n",
    "\n",
    "# for i, im_id in enumerate(val_ids):\n",
    "# #     image\n",
    "#     im = cv2.imread('./data/train/images/' + im_id + '.png')\n",
    "#     im = cv2.resize(im, (128, 128))\n",
    "#     im = np.array(im, dtype='float32')\n",
    "#     im /= 255\n",
    "#     X_val[i] = im\n",
    "#     #     feature\n",
    "#     X_feat_val[i] = depth_dict[im_id]\n",
    "# #     mask\n",
    "#     mask = cv2.imread('./data/train/masks/' + im_id + '.png')\n",
    "#     mask = cv2.resize(mask, (128, 128), interpolation=cv2.INTER_NEAREST)\n",
    "#     mask = np.array((mask > 127.5), dtype='float32')\n",
    "#     mask = np.expand_dims(mask[:, :, 0], axis=-1)\n",
    "#     Y_val_true[i] = mask\n",
    "\n",
    "# val_gen = ([X_val, X_feat_val], Y_val_true)"
   ]
  },
  {
   "cell_type": "markdown",
   "metadata": {},
   "source": [
    "### Model"
   ]
  },
  {
   "cell_type": "code",
   "execution_count": 8,
   "metadata": {},
   "outputs": [],
   "source": [
    "unet_m = util.unet_model(min_filter_num=16, with_vec=True)"
   ]
  },
  {
   "cell_type": "markdown",
   "metadata": {},
   "source": [
    "## Train"
   ]
  },
  {
   "cell_type": "code",
   "execution_count": null,
   "metadata": {},
   "outputs": [
    {
     "name": "stdout",
     "output_type": "stream",
     "text": [
      "__________________________________________________________________________________________________\n",
      "Layer (type)                    Output Shape         Param #     Connected to                     \n",
      "==================================================================================================\n",
      "input_layer (InputLayer)        (None, 128, 128, 3)  0                                            \n",
      "__________________________________________________________________________________________________\n",
      "encoder_block_1 (Conv2D)        (None, 128, 128, 16) 448         input_layer[0][0]                \n",
      "__________________________________________________________________________________________________\n",
      "batch_normalization_1 (BatchNor (None, 128, 128, 16) 64          encoder_block_1[0][0]            \n",
      "__________________________________________________________________________________________________\n",
      "elu_1 (ELU)                     (None, 128, 128, 16) 0           batch_normalization_1[0][0]      \n",
      "__________________________________________________________________________________________________\n",
      "dropout_1 (Dropout)             (None, 128, 128, 16) 0           elu_1[0][0]                      \n",
      "__________________________________________________________________________________________________\n",
      "conv2d_1 (Conv2D)               (None, 128, 128, 16) 2320        dropout_1[0][0]                  \n",
      "__________________________________________________________________________________________________\n",
      "batch_normalization_2 (BatchNor (None, 128, 128, 16) 64          conv2d_1[0][0]                   \n",
      "__________________________________________________________________________________________________\n",
      "elu_2 (ELU)                     (None, 128, 128, 16) 0           batch_normalization_2[0][0]      \n",
      "__________________________________________________________________________________________________\n",
      "batch_normalization_3 (BatchNor (None, 128, 128, 16) 64          elu_2[0][0]                      \n",
      "__________________________________________________________________________________________________\n",
      "max_pooling2d_1 (MaxPooling2D)  (None, 64, 64, 16)   0           batch_normalization_3[0][0]      \n",
      "__________________________________________________________________________________________________\n",
      "encoder_block_2 (Conv2D)        (None, 64, 64, 32)   4640        max_pooling2d_1[0][0]            \n",
      "__________________________________________________________________________________________________\n",
      "batch_normalization_4 (BatchNor (None, 64, 64, 32)   128         encoder_block_2[0][0]            \n",
      "__________________________________________________________________________________________________\n",
      "elu_3 (ELU)                     (None, 64, 64, 32)   0           batch_normalization_4[0][0]      \n",
      "__________________________________________________________________________________________________\n",
      "dropout_2 (Dropout)             (None, 64, 64, 32)   0           elu_3[0][0]                      \n",
      "__________________________________________________________________________________________________\n",
      "conv2d_2 (Conv2D)               (None, 64, 64, 32)   9248        dropout_2[0][0]                  \n",
      "__________________________________________________________________________________________________\n",
      "batch_normalization_5 (BatchNor (None, 64, 64, 32)   128         conv2d_2[0][0]                   \n",
      "__________________________________________________________________________________________________\n",
      "elu_4 (ELU)                     (None, 64, 64, 32)   0           batch_normalization_5[0][0]      \n",
      "__________________________________________________________________________________________________\n",
      "batch_normalization_6 (BatchNor (None, 64, 64, 32)   128         elu_4[0][0]                      \n",
      "__________________________________________________________________________________________________\n",
      "max_pooling2d_2 (MaxPooling2D)  (None, 32, 32, 32)   0           batch_normalization_6[0][0]      \n",
      "__________________________________________________________________________________________________\n",
      "encoder_block_3 (Conv2D)        (None, 32, 32, 64)   18496       max_pooling2d_2[0][0]            \n",
      "__________________________________________________________________________________________________\n",
      "batch_normalization_7 (BatchNor (None, 32, 32, 64)   256         encoder_block_3[0][0]            \n",
      "__________________________________________________________________________________________________\n",
      "elu_5 (ELU)                     (None, 32, 32, 64)   0           batch_normalization_7[0][0]      \n",
      "__________________________________________________________________________________________________\n",
      "dropout_3 (Dropout)             (None, 32, 32, 64)   0           elu_5[0][0]                      \n",
      "__________________________________________________________________________________________________\n",
      "conv2d_3 (Conv2D)               (None, 32, 32, 64)   36928       dropout_3[0][0]                  \n",
      "__________________________________________________________________________________________________\n",
      "batch_normalization_8 (BatchNor (None, 32, 32, 64)   256         conv2d_3[0][0]                   \n",
      "__________________________________________________________________________________________________\n",
      "elu_6 (ELU)                     (None, 32, 32, 64)   0           batch_normalization_8[0][0]      \n",
      "__________________________________________________________________________________________________\n",
      "batch_normalization_9 (BatchNor (None, 32, 32, 64)   256         elu_6[0][0]                      \n",
      "__________________________________________________________________________________________________\n",
      "max_pooling2d_3 (MaxPooling2D)  (None, 16, 16, 64)   0           batch_normalization_9[0][0]      \n",
      "__________________________________________________________________________________________________\n",
      "encoder_block_4 (Conv2D)        (None, 16, 16, 128)  73856       max_pooling2d_3[0][0]            \n",
      "__________________________________________________________________________________________________\n",
      "batch_normalization_10 (BatchNo (None, 16, 16, 128)  512         encoder_block_4[0][0]            \n",
      "__________________________________________________________________________________________________\n",
      "elu_7 (ELU)                     (None, 16, 16, 128)  0           batch_normalization_10[0][0]     \n",
      "__________________________________________________________________________________________________\n",
      "dropout_4 (Dropout)             (None, 16, 16, 128)  0           elu_7[0][0]                      \n",
      "__________________________________________________________________________________________________\n",
      "conv2d_4 (Conv2D)               (None, 16, 16, 128)  147584      dropout_4[0][0]                  \n",
      "__________________________________________________________________________________________________\n",
      "batch_normalization_11 (BatchNo (None, 16, 16, 128)  512         conv2d_4[0][0]                   \n",
      "__________________________________________________________________________________________________\n",
      "feature (InputLayer)            (None, 1)            0                                            \n",
      "__________________________________________________________________________________________________\n",
      "elu_8 (ELU)                     (None, 16, 16, 128)  0           batch_normalization_11[0][0]     \n",
      "__________________________________________________________________________________________________\n",
      "repeat_vector_1 (RepeatVector)  (None, 64, 1)        0           feature[0][0]                    \n",
      "__________________________________________________________________________________________________\n",
      "batch_normalization_12 (BatchNo (None, 16, 16, 128)  512         elu_8[0][0]                      \n",
      "__________________________________________________________________________________________________\n",
      "reshape_1 (Reshape)             (None, 8, 8, 1)      0           repeat_vector_1[0][0]            \n",
      "__________________________________________________________________________________________________\n",
      "max_pooling2d_4 (MaxPooling2D)  (None, 8, 8, 128)    0           batch_normalization_12[0][0]     \n",
      "__________________________________________________________________________________________________\n",
      "concatenate_1 (Concatenate)     (None, 8, 8, 129)    0           reshape_1[0][0]                  \n",
      "                                                                 max_pooling2d_4[0][0]            \n",
      "__________________________________________________________________________________________________\n",
      "encoder_block_5 (Conv2D)        (None, 8, 8, 256)    297472      concatenate_1[0][0]              \n",
      "__________________________________________________________________________________________________\n",
      "batch_normalization_13 (BatchNo (None, 8, 8, 256)    1024        encoder_block_5[0][0]            \n",
      "__________________________________________________________________________________________________\n",
      "elu_9 (ELU)                     (None, 8, 8, 256)    0           batch_normalization_13[0][0]     \n",
      "__________________________________________________________________________________________________\n",
      "dropout_5 (Dropout)             (None, 8, 8, 256)    0           elu_9[0][0]                      \n",
      "__________________________________________________________________________________________________\n",
      "conv2d_5 (Conv2D)               (None, 8, 8, 256)    590080      dropout_5[0][0]                  \n",
      "__________________________________________________________________________________________________\n",
      "batch_normalization_14 (BatchNo (None, 8, 8, 256)    1024        conv2d_5[0][0]                   \n",
      "__________________________________________________________________________________________________\n",
      "elu_10 (ELU)                    (None, 8, 8, 256)    0           batch_normalization_14[0][0]     \n",
      "__________________________________________________________________________________________________\n",
      "batch_normalization_15 (BatchNo (None, 8, 8, 256)    1024        elu_10[0][0]                     \n",
      "__________________________________________________________________________________________________\n",
      "decoder_block_1 (Conv2DTranspos (None, 16, 16, 128)  131200      batch_normalization_15[0][0]     \n",
      "__________________________________________________________________________________________________\n",
      "batch_normalization_16 (BatchNo (None, 16, 16, 128)  512         decoder_block_1[0][0]            \n",
      "__________________________________________________________________________________________________\n",
      "elu_11 (ELU)                    (None, 16, 16, 128)  0           batch_normalization_16[0][0]     \n",
      "__________________________________________________________________________________________________\n",
      "concatenate_2 (Concatenate)     (None, 16, 16, 256)  0           elu_11[0][0]                     \n",
      "                                                                 batch_normalization_12[0][0]     \n",
      "__________________________________________________________________________________________________\n",
      "conv2d_6 (Conv2D)               (None, 16, 16, 128)  295040      concatenate_2[0][0]              \n",
      "__________________________________________________________________________________________________\n",
      "batch_normalization_17 (BatchNo (None, 16, 16, 128)  512         conv2d_6[0][0]                   \n",
      "__________________________________________________________________________________________________\n",
      "elu_12 (ELU)                    (None, 16, 16, 128)  0           batch_normalization_17[0][0]     \n",
      "__________________________________________________________________________________________________\n",
      "dropout_6 (Dropout)             (None, 16, 16, 128)  0           elu_12[0][0]                     \n",
      "__________________________________________________________________________________________________\n",
      "conv2d_7 (Conv2D)               (None, 16, 16, 128)  147584      dropout_6[0][0]                  \n",
      "__________________________________________________________________________________________________\n",
      "batch_normalization_18 (BatchNo (None, 16, 16, 128)  512         conv2d_7[0][0]                   \n",
      "__________________________________________________________________________________________________\n",
      "elu_13 (ELU)                    (None, 16, 16, 128)  0           batch_normalization_18[0][0]     \n",
      "__________________________________________________________________________________________________\n",
      "decoder_block_2 (Conv2DTranspos (None, 32, 32, 64)   32832       elu_13[0][0]                     \n",
      "__________________________________________________________________________________________________\n",
      "batch_normalization_19 (BatchNo (None, 32, 32, 64)   256         decoder_block_2[0][0]            \n",
      "__________________________________________________________________________________________________\n",
      "elu_14 (ELU)                    (None, 32, 32, 64)   0           batch_normalization_19[0][0]     \n",
      "__________________________________________________________________________________________________\n",
      "concatenate_3 (Concatenate)     (None, 32, 32, 128)  0           elu_14[0][0]                     \n",
      "                                                                 batch_normalization_9[0][0]      \n",
      "__________________________________________________________________________________________________\n",
      "conv2d_8 (Conv2D)               (None, 32, 32, 64)   73792       concatenate_3[0][0]              \n",
      "__________________________________________________________________________________________________\n",
      "batch_normalization_20 (BatchNo (None, 32, 32, 64)   256         conv2d_8[0][0]                   \n",
      "__________________________________________________________________________________________________\n",
      "elu_15 (ELU)                    (None, 32, 32, 64)   0           batch_normalization_20[0][0]     \n",
      "__________________________________________________________________________________________________\n",
      "dropout_7 (Dropout)             (None, 32, 32, 64)   0           elu_15[0][0]                     \n",
      "__________________________________________________________________________________________________\n",
      "conv2d_9 (Conv2D)               (None, 32, 32, 64)   36928       dropout_7[0][0]                  \n",
      "__________________________________________________________________________________________________\n",
      "batch_normalization_21 (BatchNo (None, 32, 32, 64)   256         conv2d_9[0][0]                   \n",
      "__________________________________________________________________________________________________\n",
      "elu_16 (ELU)                    (None, 32, 32, 64)   0           batch_normalization_21[0][0]     \n",
      "__________________________________________________________________________________________________\n",
      "decoder_block_3 (Conv2DTranspos (None, 64, 64, 32)   8224        elu_16[0][0]                     \n",
      "__________________________________________________________________________________________________\n",
      "batch_normalization_22 (BatchNo (None, 64, 64, 32)   128         decoder_block_3[0][0]            \n",
      "__________________________________________________________________________________________________\n",
      "elu_17 (ELU)                    (None, 64, 64, 32)   0           batch_normalization_22[0][0]     \n",
      "__________________________________________________________________________________________________\n",
      "concatenate_4 (Concatenate)     (None, 64, 64, 64)   0           elu_17[0][0]                     \n",
      "                                                                 batch_normalization_6[0][0]      \n",
      "__________________________________________________________________________________________________\n",
      "conv2d_10 (Conv2D)              (None, 64, 64, 32)   18464       concatenate_4[0][0]              \n",
      "__________________________________________________________________________________________________\n",
      "batch_normalization_23 (BatchNo (None, 64, 64, 32)   128         conv2d_10[0][0]                  \n",
      "__________________________________________________________________________________________________\n",
      "elu_18 (ELU)                    (None, 64, 64, 32)   0           batch_normalization_23[0][0]     \n",
      "__________________________________________________________________________________________________\n",
      "dropout_8 (Dropout)             (None, 64, 64, 32)   0           elu_18[0][0]                     \n",
      "__________________________________________________________________________________________________\n",
      "conv2d_11 (Conv2D)              (None, 64, 64, 32)   9248        dropout_8[0][0]                  \n",
      "__________________________________________________________________________________________________\n",
      "batch_normalization_24 (BatchNo (None, 64, 64, 32)   128         conv2d_11[0][0]                  \n",
      "__________________________________________________________________________________________________\n",
      "elu_19 (ELU)                    (None, 64, 64, 32)   0           batch_normalization_24[0][0]     \n",
      "__________________________________________________________________________________________________\n",
      "decoder_block_4 (Conv2DTranspos (None, 128, 128, 16) 2064        elu_19[0][0]                     \n",
      "__________________________________________________________________________________________________\n",
      "batch_normalization_25 (BatchNo (None, 128, 128, 16) 64          decoder_block_4[0][0]            \n",
      "__________________________________________________________________________________________________\n",
      "elu_20 (ELU)                    (None, 128, 128, 16) 0           batch_normalization_25[0][0]     \n",
      "__________________________________________________________________________________________________\n",
      "concatenate_5 (Concatenate)     (None, 128, 128, 32) 0           elu_20[0][0]                     \n",
      "                                                                 batch_normalization_3[0][0]      \n",
      "__________________________________________________________________________________________________\n",
      "conv2d_12 (Conv2D)              (None, 128, 128, 16) 4624        concatenate_5[0][0]              \n",
      "__________________________________________________________________________________________________\n",
      "batch_normalization_26 (BatchNo (None, 128, 128, 16) 64          conv2d_12[0][0]                  \n",
      "__________________________________________________________________________________________________\n",
      "elu_21 (ELU)                    (None, 128, 128, 16) 0           batch_normalization_26[0][0]     \n",
      "__________________________________________________________________________________________________\n",
      "dropout_9 (Dropout)             (None, 128, 128, 16) 0           elu_21[0][0]                     \n",
      "__________________________________________________________________________________________________\n",
      "conv2d_13 (Conv2D)              (None, 128, 128, 16) 2320        dropout_9[0][0]                  \n",
      "__________________________________________________________________________________________________\n",
      "batch_normalization_27 (BatchNo (None, 128, 128, 16) 64          conv2d_13[0][0]                  \n",
      "__________________________________________________________________________________________________\n",
      "elu_22 (ELU)                    (None, 128, 128, 16) 0           batch_normalization_27[0][0]     \n",
      "__________________________________________________________________________________________________\n",
      "conv2d_14 (Conv2D)              (None, 128, 128, 1)  17          elu_22[0][0]                     \n",
      "==================================================================================================\n",
      "Total params: 1,952,241\n",
      "Trainable params: 1,947,825\n",
      "Non-trainable params: 4,416\n",
      "__________________________________________________________________________________________________\n",
      "None\n"
     ]
    },
    {
     "name": "stdout",
     "output_type": "stream",
     "text": [
      "Epoch 1/3000\n",
      " - 72s - loss: 0.7801 - dice_coef: 0.2020 - binary_accuracy: 0.5406 - true_positive_rate: 0.3953 - iou_coef: 0.1211 - mean_iou_threshold: 4.5103e-04 - val_loss: 0.6775 - val_dice_coef: 0.2087 - val_binary_accuracy: 0.5757 - val_true_positive_rate: 0.3135 - val_iou_coef: 0.1009 - val_mean_iou_threshold: 0.0038\n",
      "Finished epoch: 0\n",
      "{'val_mean_iou_threshold': 0.0037760417423366257, 'val_true_positive_rate': 0.31348626750210923, 'binary_accuracy': 0.5405520409652868, 'val_iou_coef': 0.10091938373322289, 'val_binary_accuracy': 0.5756503740946451, 'val_dice_coef': 0.20866317177812257, 'iou_coef': 0.12109856123162299, 'mean_iou_threshold': 0.0004510309345559361, 'true_positive_rate': 0.39525366536120776, 'dice_coef': 0.2020259984221655, 'loss': 0.7801187271924362, 'val_loss': 0.6774720574418703}\n",
      "\n",
      "Epoch 00001: val_loss improved from inf to 0.67747, saving model to ./log/2018_0808_1951/best_weights.hdf5\n",
      "Epoch 2/3000\n",
      " - 60s - loss: 0.7598 - dice_coef: 0.2006 - binary_accuracy: 0.5521 - true_positive_rate: 0.3771 - iou_coef: 0.1174 - mean_iou_threshold: 0.0000e+00 - val_loss: 0.6680 - val_dice_coef: 0.2076 - val_binary_accuracy: 0.5929 - val_true_positive_rate: 0.2794 - val_iou_coef: 0.0930 - val_mean_iou_threshold: 0.0000e+00\n",
      "Finished epoch: 1\n",
      "{'val_mean_iou_threshold': 0.0, 'val_true_positive_rate': 0.2793950332949559, 'binary_accuracy': 0.5521322427336702, 'val_iou_coef': 0.0929737181092302, 'val_binary_accuracy': 0.5929013888041178, 'val_dice_coef': 0.20762821473181248, 'iou_coef': 0.11736279103866558, 'mean_iou_threshold': 0.0, 'true_positive_rate': 0.3770913699853052, 'dice_coef': 0.2006394030507078, 'loss': 0.7597954807822237, 'val_loss': 0.6679937417308489, 'lr': 1e-04}\n",
      "\n",
      "Epoch 00002: val_loss improved from 0.67747 to 0.66799, saving model to ./log/2018_0808_1951/best_weights.hdf5\n",
      "Epoch 3/3000\n",
      " - 63s - loss: 0.7427 - dice_coef: 0.1994 - binary_accuracy: 0.5629 - true_positive_rate: 0.3574 - iou_coef: 0.1134 - mean_iou_threshold: 0.0000e+00 - val_loss: 0.6604 - val_dice_coef: 0.2067 - val_binary_accuracy: 0.6083 - val_true_positive_rate: 0.2493 - val_iou_coef: 0.0855 - val_mean_iou_threshold: 0.0000e+00\n",
      "Finished epoch: 2\n",
      "{'val_mean_iou_threshold': 0.0, 'val_true_positive_rate': 0.24934116626779237, 'binary_accuracy': 0.5629115547101522, 'val_iou_coef': 0.08551949728280306, 'val_binary_accuracy': 0.6083176930745443, 'val_dice_coef': 0.20667915108303228, 'iou_coef': 0.11335974997005512, 'mean_iou_threshold': 0.0, 'true_positive_rate': 0.3574082169336142, 'dice_coef': 0.19938813157610058, 'loss': 0.7426525772232371, 'val_loss': 0.6604338263471922, 'lr': 1e-04}\n",
      "\n",
      "Epoch 00003: val_loss improved from 0.66799 to 0.66043, saving model to ./log/2018_0808_1951/best_weights.hdf5\n",
      "Epoch 4/3000\n",
      " - 63s - loss: 0.7259 - dice_coef: 0.1956 - binary_accuracy: 0.5747 - true_positive_rate: 0.3389 - iou_coef: 0.1080 - mean_iou_threshold: 0.0000e+00 - val_loss: 0.6547 - val_dice_coef: 0.2061 - val_binary_accuracy: 0.6211 - val_true_positive_rate: 0.2304 - val_iou_coef: 0.0806 - val_mean_iou_threshold: 0.0000e+00\n",
      "Finished epoch: 3\n",
      "{'val_mean_iou_threshold': 0.0, 'val_true_positive_rate': 0.23038114669422308, 'binary_accuracy': 0.5746916348172217, 'val_iou_coef': 0.08061583215991656, 'val_binary_accuracy': 0.6211157639821371, 'val_dice_coef': 0.20607970903317133, 'iou_coef': 0.10797019149224783, 'mean_iou_threshold': 0.0, 'true_positive_rate': 0.33889401634943855, 'dice_coef': 0.19556747807055405, 'loss': 0.7258915077779711, 'val_loss': 0.654671331246694, 'lr': 1e-04}\n",
      "\n",
      "Epoch 00004: val_loss improved from 0.66043 to 0.65467, saving model to ./log/2018_0808_1951/best_weights.hdf5\n",
      "Epoch 5/3000\n",
      " - 69s - loss: 0.7124 - dice_coef: 0.1940 - binary_accuracy: 0.5849 - true_positive_rate: 0.3206 - iou_coef: 0.1039 - mean_iou_threshold: 0.0000e+00 - val_loss: 0.6488 - val_dice_coef: 0.2052 - val_binary_accuracy: 0.6344 - val_true_positive_rate: 0.2094 - val_iou_coef: 0.0749 - val_mean_iou_threshold: 0.0000e+00\n",
      "Finished epoch: 4\n",
      "{'val_mean_iou_threshold': 0.0, 'val_true_positive_rate': 0.2093666431804498, 'binary_accuracy': 0.5848591401404941, 'val_iou_coef': 0.07493409514427185, 'val_binary_accuracy': 0.6344331105550131, 'val_dice_coef': 0.20522608856360117, 'iou_coef': 0.10392893470593334, 'mean_iou_threshold': 0.0, 'true_positive_rate': 0.3206161997981907, 'dice_coef': 0.1940468760956194, 'loss': 0.7123732314896338, 'val_loss': 0.6488376880685488, 'lr': 1e-04}\n",
      "\n",
      "Epoch 00005: val_loss improved from 0.65467 to 0.64884, saving model to ./log/2018_0808_1951/best_weights.hdf5\n",
      "Epoch 6/3000\n",
      " - 62s - loss: 0.6996 - dice_coef: 0.1917 - binary_accuracy: 0.5954 - true_positive_rate: 0.3028 - iou_coef: 0.0992 - mean_iou_threshold: 0.0000e+00 - val_loss: 0.6445 - val_dice_coef: 0.2047 - val_binary_accuracy: 0.6452 - val_true_positive_rate: 0.1969 - val_iou_coef: 0.0715 - val_mean_iou_threshold: 0.0000e+00\n",
      "Finished epoch: 5\n",
      "{'val_mean_iou_threshold': 0.0, 'val_true_positive_rate': 0.19691910097996393, 'binary_accuracy': 0.5953850500362435, 'val_iou_coef': 0.07147358016421397, 'val_binary_accuracy': 0.6452454725901285, 'val_dice_coef': 0.2047415648897489, 'iou_coef': 0.0992495258982034, 'mean_iou_threshold': 0.0, 'true_positive_rate': 0.3028218583347871, 'dice_coef': 0.19166946011720246, 'loss': 0.6995711400336826, 'val_loss': 0.6444873238603274, 'lr': 1e-04}\n",
      "\n",
      "Epoch 00006: val_loss improved from 0.64884 to 0.64449, saving model to ./log/2018_0808_1951/best_weights.hdf5\n",
      "Epoch 7/3000\n",
      " - 63s - loss: 0.6881 - dice_coef: 0.1899 - binary_accuracy: 0.6054 - true_positive_rate: 0.2857 - iou_coef: 0.0950 - mean_iou_threshold: 0.0000e+00 - val_loss: 0.6398 - val_dice_coef: 0.2040 - val_binary_accuracy: 0.6569 - val_true_positive_rate: 0.1822 - val_iou_coef: 0.0672 - val_mean_iou_threshold: 0.0000e+00\n",
      "Finished epoch: 6\n",
      "{'val_mean_iou_threshold': 0.0, 'val_true_positive_rate': 0.182159544279178, 'binary_accuracy': 0.6053848659869322, 'val_iou_coef': 0.06717789576699336, 'val_binary_accuracy': 0.6569364070892334, 'val_dice_coef': 0.20400137019654116, 'iou_coef': 0.09502536576894141, 'mean_iou_threshold': 0.0, 'true_positive_rate': 0.28571060576389745, 'dice_coef': 0.18993840043999485, 'loss': 0.6880693140718126, 'val_loss': 0.6397783185044924, 'lr': 1e-04}\n",
      "\n",
      "Epoch 00007: val_loss improved from 0.64449 to 0.63978, saving model to ./log/2018_0808_1951/best_weights.hdf5\n",
      "Epoch 8/3000\n",
      " - 65s - loss: 0.6782 - dice_coef: 0.1887 - binary_accuracy: 0.6146 - true_positive_rate: 0.2696 - iou_coef: 0.0912 - mean_iou_threshold: 0.0000e+00 - val_loss: 0.6356 - val_dice_coef: 0.2034 - val_binary_accuracy: 0.6677 - val_true_positive_rate: 0.1697 - val_iou_coef: 0.0635 - val_mean_iou_threshold: 0.0000e+00\n",
      "Finished epoch: 7\n",
      "{'val_mean_iou_threshold': 0.0, 'val_true_positive_rate': 0.1697448498258988, 'binary_accuracy': 0.6145566370069366, 'val_iou_coef': 0.06345495131487648, 'val_binary_accuracy': 0.6677191257476807, 'val_dice_coef': 0.2033518422394991, 'iou_coef': 0.09121124611533794, 'mean_iou_threshold': 0.0, 'true_positive_rate': 0.2696335801144236, 'dice_coef': 0.18870980392411812, 'loss': 0.6781682937415605, 'val_loss': 0.6355989178021749, 'lr': 1e-04}\n",
      "\n",
      "Epoch 00008: val_loss improved from 0.63978 to 0.63560, saving model to ./log/2018_0808_1951/best_weights.hdf5\n",
      "Epoch 9/3000\n",
      " - 63s - loss: 0.6712 - dice_coef: 0.1894 - binary_accuracy: 0.6216 - true_positive_rate: 0.2533 - iou_coef: 0.0880 - mean_iou_threshold: 0.0000e+00 - val_loss: 0.6314 - val_dice_coef: 0.2026 - val_binary_accuracy: 0.6784 - val_true_positive_rate: 0.1568 - val_iou_coef: 0.0594 - val_mean_iou_threshold: 0.0000e+00\n",
      "Finished epoch: 8\n",
      "{'val_mean_iou_threshold': 0.0, 'val_true_positive_rate': 0.15678189073999724, 'binary_accuracy': 0.6215696039888048, 'val_iou_coef': 0.05938976351171732, 'val_binary_accuracy': 0.6783793767293295, 'val_dice_coef': 0.20259578774372736, 'iou_coef': 0.08803648321130841, 'mean_iou_threshold': 0.0, 'true_positive_rate': 0.2533311384547617, 'dice_coef': 0.1893727075039726, 'loss': 0.6711738134167858, 'val_loss': 0.6314089968800545, 'lr': 1e-04}\n",
      "\n",
      "Epoch 00009: val_loss improved from 0.63560 to 0.63141, saving model to ./log/2018_0808_1951/best_weights.hdf5\n",
      "Epoch 10/3000\n",
      " - 71s - loss: 0.6612 - dice_coef: 0.1856 - binary_accuracy: 0.6316 - true_positive_rate: 0.2387 - iou_coef: 0.0832 - mean_iou_threshold: 0.0000e+00 - val_loss: 0.6274 - val_dice_coef: 0.2018 - val_binary_accuracy: 0.6882 - val_true_positive_rate: 0.1448 - val_iou_coef: 0.0556 - val_mean_iou_threshold: 0.0000e+00\n"
     ]
    },
    {
     "name": "stdout",
     "output_type": "stream",
     "text": [
      "Finished epoch: 9\n",
      "{'val_mean_iou_threshold': 0.0, 'val_true_positive_rate': 0.14480340108275414, 'binary_accuracy': 0.6315605714149082, 'val_iou_coef': 0.05559112085029483, 'val_binary_accuracy': 0.6882306734720866, 'val_dice_coef': 0.20184108801186085, 'iou_coef': 0.0831661341500651, 'mean_iou_threshold': 0.0, 'true_positive_rate': 0.2386714809948636, 'dice_coef': 0.18561706807195527, 'loss': 0.6612467225064936, 'val_loss': 0.6274499197800955, 'lr': 1e-04}\n",
      "\n",
      "Epoch 00010: val_loss improved from 0.63141 to 0.62745, saving model to ./log/2018_0808_1951/best_weights.hdf5\n",
      "Epoch 11/3000\n",
      " - 66s - loss: 0.6536 - dice_coef: 0.1835 - binary_accuracy: 0.6397 - true_positive_rate: 0.2246 - iou_coef: 0.0790 - mean_iou_threshold: 0.0000e+00 - val_loss: 0.6241 - val_dice_coef: 0.2013 - val_binary_accuracy: 0.6968 - val_true_positive_rate: 0.1350 - val_iou_coef: 0.0523 - val_mean_iou_threshold: 0.0000e+00\n",
      "Finished epoch: 10\n",
      "{'val_mean_iou_threshold': 0.0, 'val_true_positive_rate': 0.13498716428875923, 'binary_accuracy': 0.6396722695262161, 'val_iou_coef': 0.052339136910935245, 'val_binary_accuracy': 0.6967636744181315, 'val_dice_coef': 0.20128122655053934, 'iou_coef': 0.07901517758818016, 'mean_iou_threshold': 0.0, 'true_positive_rate': 0.22464292580933914, 'dice_coef': 0.18345388324604822, 'loss': 0.6536409529214052, 'val_loss': 0.6241444945335388, 'lr': 1e-04}\n",
      "\n",
      "Epoch 00011: val_loss improved from 0.62745 to 0.62414, saving model to ./log/2018_0808_1951/best_weights.hdf5\n",
      "Epoch 12/3000\n",
      " - 62s - loss: 0.6462 - dice_coef: 0.1815 - binary_accuracy: 0.6478 - true_positive_rate: 0.2106 - iou_coef: 0.0750 - mean_iou_threshold: 0.0000e+00 - val_loss: 0.6206 - val_dice_coef: 0.2006 - val_binary_accuracy: 0.7052 - val_true_positive_rate: 0.1243 - val_iou_coef: 0.0487 - val_mean_iou_threshold: 0.0000e+00\n",
      "Finished epoch: 11\n",
      "{'val_mean_iou_threshold': 0.0, 'val_true_positive_rate': 0.12434574402868748, 'binary_accuracy': 0.6478333030779337, 'val_iou_coef': 0.048716701567173004, 'val_binary_accuracy': 0.7052225271860758, 'val_dice_coef': 0.20060583328207335, 'iou_coef': 0.07502091038472873, 'mean_iou_threshold': 0.0, 'true_positive_rate': 0.21061508787661484, 'dice_coef': 0.1815318347713382, 'loss': 0.6461692071452583, 'val_loss': 0.6206491266687711, 'lr': 1e-04}\n",
      "\n",
      "Epoch 00012: val_loss improved from 0.62414 to 0.62065, saving model to ./log/2018_0808_1951/best_weights.hdf5\n",
      "Epoch 13/3000\n",
      " - 61s - loss: 0.6407 - dice_coef: 0.1805 - binary_accuracy: 0.6543 - true_positive_rate: 0.1978 - iou_coef: 0.0715 - mean_iou_threshold: 0.0000e+00 - val_loss: 0.6169 - val_dice_coef: 0.1997 - val_binary_accuracy: 0.7134 - val_true_positive_rate: 0.1122 - val_iou_coef: 0.0445 - val_mean_iou_threshold: 0.0000e+00\n",
      "Finished epoch: 12\n",
      "{'val_mean_iou_threshold': 0.0, 'val_true_positive_rate': 0.1121799914787213, 'binary_accuracy': 0.6543113079267678, 'val_iou_coef': 0.04448731414352854, 'val_binary_accuracy': 0.7133820056915283, 'val_dice_coef': 0.1997330809632937, 'iou_coef': 0.07152590616462157, 'mean_iou_threshold': 0.0, 'true_positive_rate': 0.1977647774920021, 'dice_coef': 0.18050862011528507, 'loss': 0.6406873292529706, 'val_loss': 0.6168918088078499, 'lr': 1e-04}\n",
      "\n",
      "Epoch 00013: val_loss improved from 0.62065 to 0.61689, saving model to ./log/2018_0808_1951/best_weights.hdf5\n",
      "Epoch 14/3000\n",
      " - 63s - loss: 0.6342 - dice_coef: 0.1791 - binary_accuracy: 0.6616 - true_positive_rate: 0.1852 - iou_coef: 0.0679 - mean_iou_threshold: 0.0000e+00 - val_loss: 0.6141 - val_dice_coef: 0.1992 - val_binary_accuracy: 0.7194 - val_true_positive_rate: 0.1043 - val_iou_coef: 0.0417 - val_mean_iou_threshold: 0.0000e+00\n",
      "Finished epoch: 13\n",
      "{'val_mean_iou_threshold': 0.0, 'val_true_positive_rate': 0.10428084215770166, 'binary_accuracy': 0.6615903992013833, 'val_iou_coef': 0.041677395114675164, 'val_binary_accuracy': 0.7193641662597656, 'val_dice_coef': 0.1992162906875213, 'iou_coef': 0.06785420147874921, 'mean_iou_threshold': 0.0, 'true_positive_rate': 0.1851981142439793, 'dice_coef': 0.1791308443878115, 'loss': 0.6341783084820226, 'val_loss': 0.6141213675340017, 'lr': 1e-04}\n",
      "\n",
      "Epoch 00014: val_loss improved from 0.61689 to 0.61412, saving model to ./log/2018_0808_1951/best_weights.hdf5\n",
      "Epoch 15/3000\n",
      " - 58s - loss: 0.6292 - dice_coef: 0.1773 - binary_accuracy: 0.6682 - true_positive_rate: 0.1736 - iou_coef: 0.0642 - mean_iou_threshold: 0.0000e+00 - val_loss: 0.6112 - val_dice_coef: 0.1986 - val_binary_accuracy: 0.7250 - val_true_positive_rate: 0.0955 - val_iou_coef: 0.0385 - val_mean_iou_threshold: 0.0000e+00\n",
      "Finished epoch: 14\n",
      "{'val_mean_iou_threshold': 0.0, 'val_true_positive_rate': 0.09548591387768586, 'binary_accuracy': 0.668223076259967, 'val_iou_coef': 0.03846525323266784, 'val_binary_accuracy': 0.7250353495279948, 'val_dice_coef': 0.1985788761327664, 'iou_coef': 0.06420905696055323, 'mean_iou_threshold': 0.0, 'true_positive_rate': 0.1736324470989483, 'dice_coef': 0.17728673451647317, 'loss': 0.629188602118148, 'val_loss': 0.611197404563427, 'lr': 1e-04}\n",
      "\n",
      "Epoch 00015: val_loss improved from 0.61412 to 0.61120, saving model to ./log/2018_0808_1951/best_weights.hdf5\n",
      "Epoch 16/3000\n",
      " - 60s - loss: 0.6254 - dice_coef: 0.1768 - binary_accuracy: 0.6734 - true_positive_rate: 0.1627 - iou_coef: 0.0612 - mean_iou_threshold: 0.0000e+00 - val_loss: 0.6085 - val_dice_coef: 0.1980 - val_binary_accuracy: 0.7301 - val_true_positive_rate: 0.0873 - val_iou_coef: 0.0354 - val_mean_iou_threshold: 0.0000e+00\n",
      "Finished epoch: 15\n",
      "{'val_mean_iou_threshold': 0.0, 'val_true_positive_rate': 0.08733937563374639, 'binary_accuracy': 0.6733876257827601, 'val_iou_coef': 0.03541395983969172, 'val_binary_accuracy': 0.7300577163696289, 'val_dice_coef': 0.19798223239680132, 'iou_coef': 0.06124642840826634, 'mean_iou_threshold': 0.0, 'true_positive_rate': 0.1626995144431124, 'dice_coef': 0.1768283930021463, 'loss': 0.6253803052853063, 'val_loss': 0.6084816033641497, 'lr': 1e-04}\n",
      "\n",
      "Epoch 00016: val_loss improved from 0.61120 to 0.60848, saving model to ./log/2018_0808_1951/best_weights.hdf5\n",
      "Epoch 17/3000\n",
      " - 61s - loss: 0.6206 - dice_coef: 0.1756 - binary_accuracy: 0.6793 - true_positive_rate: 0.1528 - iou_coef: 0.0582 - mean_iou_threshold: 0.0000e+00 - val_loss: 0.6057 - val_dice_coef: 0.1973 - val_binary_accuracy: 0.7349 - val_true_positive_rate: 0.0779 - val_iou_coef: 0.0319 - val_mean_iou_threshold: 0.0000e+00\n",
      "Finished epoch: 16\n",
      "{'val_mean_iou_threshold': 0.0, 'val_true_positive_rate': 0.07794565008953214, 'binary_accuracy': 0.6792755126953125, 'val_iou_coef': 0.03187631396576762, 'val_binary_accuracy': 0.7349479993184408, 'val_dice_coef': 0.19728725776076317, 'iou_coef': 0.05815074777173013, 'mean_iou_threshold': 0.0, 'true_positive_rate': 0.1528388742626328, 'dice_coef': 0.1755683505043541, 'loss': 0.6205961261827921, 'val_loss': 0.6056764622529348, 'lr': 1e-04}\n",
      "\n",
      "Epoch 00017: val_loss improved from 0.60848 to 0.60568, saving model to ./log/2018_0808_1951/best_weights.hdf5\n",
      "Epoch 18/3000\n",
      " - 60s - loss: 0.6161 - dice_coef: 0.1748 - binary_accuracy: 0.6854 - true_positive_rate: 0.1432 - iou_coef: 0.0554 - mean_iou_threshold: 0.0000e+00 - val_loss: 0.6028 - val_dice_coef: 0.1965 - val_binary_accuracy: 0.7396 - val_true_positive_rate: 0.0677 - val_iou_coef: 0.0280 - val_mean_iou_threshold: 0.0000e+00\n",
      "Finished epoch: 17\n",
      "{'val_mean_iou_threshold': 0.0, 'val_true_positive_rate': 0.0676697208546102, 'binary_accuracy': 0.685397295607734, 'val_iou_coef': 0.02795495263611277, 'val_binary_accuracy': 0.7395661671956381, 'val_dice_coef': 0.1964692169179519, 'iou_coef': 0.05541031851826869, 'mean_iou_threshold': 0.0, 'true_positive_rate': 0.14318163646865137, 'dice_coef': 0.17479289230919376, 'loss': 0.6161478684120572, 'val_loss': 0.6027910883227984, 'lr': 1e-04}\n",
      "\n",
      "Epoch 00018: val_loss improved from 0.60568 to 0.60279, saving model to ./log/2018_0808_1951/best_weights.hdf5\n",
      "Epoch 19/3000\n",
      " - 63s - loss: 0.6132 - dice_coef: 0.1733 - binary_accuracy: 0.6894 - true_positive_rate: 0.1337 - iou_coef: 0.0522 - mean_iou_threshold: 0.0000e+00 - val_loss: 0.6007 - val_dice_coef: 0.1960 - val_binary_accuracy: 0.7429 - val_true_positive_rate: 0.0605 - val_iou_coef: 0.0252 - val_mean_iou_threshold: 0.0000e+00\n",
      "Finished epoch: 18\n",
      "{'val_mean_iou_threshold': 0.0, 'val_true_positive_rate': 0.060506364330649376, 'binary_accuracy': 0.6894051070065842, 'val_iou_coef': 0.02518319299754997, 'val_binary_accuracy': 0.7428736686706543, 'val_dice_coef': 0.19599692896008492, 'iou_coef': 0.052199122851196024, 'mean_iou_threshold': 0.0, 'true_positive_rate': 0.13374534725528403, 'dice_coef': 0.17329063712014364, 'loss': 0.6131645551661855, 'val_loss': 0.6006514231363932, 'lr': 1e-04}\n",
      "\n",
      "Epoch 00019: val_loss improved from 0.60279 to 0.60065, saving model to ./log/2018_0808_1951/best_weights.hdf5\n"
     ]
    },
    {
     "name": "stdout",
     "output_type": "stream",
     "text": [
      "Epoch 20/3000\n",
      " - 61s - loss: 0.6084 - dice_coef: 0.1708 - binary_accuracy: 0.6959 - true_positive_rate: 0.1258 - iou_coef: 0.0492 - mean_iou_threshold: 0.0000e+00 - val_loss: 0.5988 - val_dice_coef: 0.1956 - val_binary_accuracy: 0.7456 - val_true_positive_rate: 0.0550 - val_iou_coef: 0.0230 - val_mean_iou_threshold: 0.0000e+00\n",
      "Finished epoch: 19\n",
      "{'val_mean_iou_threshold': 0.0, 'val_true_positive_rate': 0.05504590288425485, 'binary_accuracy': 0.6958512375035237, 'val_iou_coef': 0.023022031566749018, 'val_binary_accuracy': 0.7455641428629557, 'val_dice_coef': 0.19562368777891, 'iou_coef': 0.04920047020405224, 'mean_iou_threshold': 0.0, 'true_positive_rate': 0.12578113115939898, 'dice_coef': 0.1707635379790031, 'loss': 0.6083593995300765, 'val_loss': 0.5988276203473409, 'lr': 1e-04}\n",
      "\n",
      "Epoch 00020: val_loss improved from 0.60065 to 0.59883, saving model to ./log/2018_0808_1951/best_weights.hdf5\n",
      "Epoch 21/3000\n",
      " - 62s - loss: 0.6047 - dice_coef: 0.1705 - binary_accuracy: 0.7003 - true_positive_rate: 0.1178 - iou_coef: 0.0468 - mean_iou_threshold: 0.0000e+00 - val_loss: 0.5969 - val_dice_coef: 0.1952 - val_binary_accuracy: 0.7482 - val_true_positive_rate: 0.0491 - val_iou_coef: 0.0207 - val_mean_iou_threshold: 0.0000e+00\n",
      "Finished epoch: 20\n",
      "{'val_mean_iou_threshold': 0.0, 'val_true_positive_rate': 0.049144265707582235, 'binary_accuracy': 0.7003053094922882, 'val_iou_coef': 0.02066122096342345, 'val_binary_accuracy': 0.7481768925984701, 'val_dice_coef': 0.1951799045006434, 'iou_coef': 0.0467593672387686, 'mean_iou_threshold': 0.0, 'true_positive_rate': 0.11776446589489573, 'dice_coef': 0.17049347378851212, 'loss': 0.6046650016430727, 'val_loss': 0.596927081545194, 'lr': 1e-04}\n",
      "\n",
      "Epoch 00021: val_loss improved from 0.59883 to 0.59693, saving model to ./log/2018_0808_1951/best_weights.hdf5\n",
      "Epoch 22/3000\n",
      " - 59s - loss: 0.6035 - dice_coef: 0.1704 - binary_accuracy: 0.7030 - true_positive_rate: 0.1103 - iou_coef: 0.0445 - mean_iou_threshold: 0.0000e+00 - val_loss: 0.5949 - val_dice_coef: 0.1947 - val_binary_accuracy: 0.7505 - val_true_positive_rate: 0.0429 - val_iou_coef: 0.0182 - val_mean_iou_threshold: 0.0000e+00\n",
      "Finished epoch: 21\n",
      "{'val_mean_iou_threshold': 0.0, 'val_true_positive_rate': 0.04292134242132306, 'binary_accuracy': 0.7030245987410398, 'val_iou_coef': 0.01816761256971707, 'val_binary_accuracy': 0.7505371570587158, 'val_dice_coef': 0.19467993701497713, 'iou_coef': 0.04451334222997587, 'mean_iou_threshold': 0.0, 'true_positive_rate': 0.11029060561325132, 'dice_coef': 0.17037981095695004, 'loss': 0.6034519211533144, 'val_loss': 0.5948769574364027, 'lr': 1e-04}\n",
      "\n",
      "Epoch 00022: val_loss improved from 0.59693 to 0.59488, saving model to ./log/2018_0808_1951/best_weights.hdf5\n",
      "Epoch 23/3000\n",
      " - 63s - loss: 0.5986 - dice_coef: 0.1679 - binary_accuracy: 0.7086 - true_positive_rate: 0.1028 - iou_coef: 0.0415 - mean_iou_threshold: 0.0000e+00 - val_loss: 0.5926 - val_dice_coef: 0.1941 - val_binary_accuracy: 0.7529 - val_true_positive_rate: 0.0362 - val_iou_coef: 0.0154 - val_mean_iou_threshold: 0.0000e+00\n",
      "Finished epoch: 22\n",
      "{'val_mean_iou_threshold': 0.0, 'val_true_positive_rate': 0.03617557518494626, 'binary_accuracy': 0.7085652498854804, 'val_iou_coef': 0.015419348414676884, 'val_binary_accuracy': 0.7528657913208008, 'val_dice_coef': 0.19406404284139475, 'iou_coef': 0.04152179872329088, 'mean_iou_threshold': 0.0, 'true_positive_rate': 0.10283162314252756, 'dice_coef': 0.16794086163191452, 'loss': 0.5985908035150508, 'val_loss': 0.5926361878712972, 'lr': 1e-04}\n",
      "\n",
      "Epoch 00023: val_loss improved from 0.59488 to 0.59264, saving model to ./log/2018_0808_1951/best_weights.hdf5\n",
      "Epoch 24/3000\n",
      " - 60s - loss: 0.5946 - dice_coef: 0.1669 - binary_accuracy: 0.7131 - true_positive_rate: 0.0966 - iou_coef: 0.0394 - mean_iou_threshold: 0.0000e+00 - val_loss: 0.5910 - val_dice_coef: 0.1936 - val_binary_accuracy: 0.7546 - val_true_positive_rate: 0.0312 - val_iou_coef: 0.0134 - val_mean_iou_threshold: 0.0000e+00\n",
      "Finished epoch: 23\n",
      "{'val_mean_iou_threshold': 0.0, 'val_true_positive_rate': 0.031187543645501137, 'binary_accuracy': 0.7131025176687339, 'val_iou_coef': 0.013375286711379886, 'val_binary_accuracy': 0.7546025117238363, 'val_dice_coef': 0.19361606799066067, 'iou_coef': 0.039397009734794035, 'mean_iou_threshold': 0.0, 'true_positive_rate': 0.09663632796289995, 'dice_coef': 0.16694895208803648, 'loss': 0.5946045152305328, 'val_loss': 0.5909514377514521, 'lr': 1e-04}\n",
      "\n",
      "Epoch 00024: val_loss improved from 0.59264 to 0.59095, saving model to ./log/2018_0808_1951/best_weights.hdf5\n",
      "Epoch 25/3000\n",
      " - 62s - loss: 0.5941 - dice_coef: 0.1664 - binary_accuracy: 0.7153 - true_positive_rate: 0.0905 - iou_coef: 0.0373 - mean_iou_threshold: 0.0000e+00 - val_loss: 0.5894 - val_dice_coef: 0.1932 - val_binary_accuracy: 0.7560 - val_true_positive_rate: 0.0272 - val_iou_coef: 0.0117 - val_mean_iou_threshold: 0.0000e+00\n",
      "Finished epoch: 24\n",
      "{'val_mean_iou_threshold': 0.0, 'val_true_positive_rate': 0.027198971559604008, 'binary_accuracy': 0.7152639172740818, 'val_iou_coef': 0.011723771167453378, 'val_binary_accuracy': 0.7560046513875326, 'val_dice_coef': 0.19322289526462555, 'iou_coef': 0.037342176167774445, 'mean_iou_threshold': 0.0, 'true_positive_rate': 0.09047638724759682, 'dice_coef': 0.16636843434006898, 'loss': 0.5940934011002177, 'val_loss': 0.5893574655056, 'lr': 1e-04}\n",
      "\n",
      "Epoch 00025: val_loss improved from 0.59095 to 0.58936, saving model to ./log/2018_0808_1951/best_weights.hdf5\n",
      "Epoch 26/3000\n",
      " - 63s - loss: 0.5916 - dice_coef: 0.1657 - binary_accuracy: 0.7185 - true_positive_rate: 0.0847 - iou_coef: 0.0353 - mean_iou_threshold: 0.0000e+00 - val_loss: 0.5879 - val_dice_coef: 0.1928 - val_binary_accuracy: 0.7572 - val_true_positive_rate: 0.0233 - val_iou_coef: 0.0101 - val_mean_iou_threshold: 0.0000e+00\n",
      "Finished epoch: 25\n",
      "{'val_mean_iou_threshold': 0.0, 'val_true_positive_rate': 0.023268093122169375, 'binary_accuracy': 0.7185011991520518, 'val_iou_coef': 0.010068613143327335, 'val_binary_accuracy': 0.757219394048055, 'val_dice_coef': 0.19283917111655077, 'iou_coef': 0.035313241855846236, 'mean_iou_threshold': 0.0, 'true_positive_rate': 0.08466061427421176, 'dice_coef': 0.16570759011605352, 'loss': 0.5916331075515944, 'val_loss': 0.587910994887352, 'lr': 1e-04}\n",
      "\n",
      "Epoch 00026: val_loss improved from 0.58936 to 0.58791, saving model to ./log/2018_0808_1951/best_weights.hdf5\n",
      "Epoch 27/3000\n",
      " - 61s - loss: 0.5881 - dice_coef: 0.1639 - binary_accuracy: 0.7233 - true_positive_rate: 0.0790 - iou_coef: 0.0332 - mean_iou_threshold: 0.0000e+00 - val_loss: 0.5863 - val_dice_coef: 0.1924 - val_binary_accuracy: 0.7584 - val_true_positive_rate: 0.0193 - val_iou_coef: 0.0097 - val_mean_iou_threshold: 0.0013\n",
      "Finished epoch: 26\n",
      "{'val_mean_iou_threshold': 0.0013020833333333333, 'val_true_positive_rate': 0.019316835755792756, 'binary_accuracy': 0.7233172937766793, 'val_iou_coef': 0.009659768353837231, 'val_binary_accuracy': 0.7583762804667155, 'val_dice_coef': 0.19239139494796595, 'iou_coef': 0.0331578154846565, 'mean_iou_threshold': 0.0, 'true_positive_rate': 0.07900949229591901, 'dice_coef': 0.1638689579576561, 'loss': 0.5881365580657094, 'val_loss': 0.5863122666875521, 'lr': 1e-04}\n",
      "\n",
      "Epoch 00027: val_loss improved from 0.58791 to 0.58631, saving model to ./log/2018_0808_1951/best_weights.hdf5\n",
      "Epoch 28/3000\n",
      " - 63s - loss: 0.5887 - dice_coef: 0.1639 - binary_accuracy: 0.7236 - true_positive_rate: 0.0741 - iou_coef: 0.0315 - mean_iou_threshold: 0.0000e+00 - val_loss: 0.5848 - val_dice_coef: 0.1920 - val_binary_accuracy: 0.7593 - val_true_positive_rate: 0.0158 - val_iou_coef: 0.0329 - val_mean_iou_threshold: 0.0260\n",
      "Finished epoch: 27\n",
      "{'val_mean_iou_threshold': 0.026041666666666668, 'val_true_positive_rate': 0.015843363323559363, 'binary_accuracy': 0.7235656423667043, 'val_iou_coef': 0.03291171358432621, 'val_binary_accuracy': 0.7592895030975342, 'val_dice_coef': 0.1919909988840421, 'iou_coef': 0.031456585819880985, 'mean_iou_threshold': 0.0, 'true_positive_rate': 0.07409710552274566, 'dice_coef': 0.16394019334279386, 'loss': 0.5886575413733414, 'val_loss': 0.5848079646627108, 'lr': 1e-04}\n",
      "\n",
      "Epoch 00028: val_loss improved from 0.58631 to 0.58481, saving model to ./log/2018_0808_1951/best_weights.hdf5\n",
      "Epoch 29/3000\n"
     ]
    },
    {
     "name": "stdout",
     "output_type": "stream",
     "text": [
      " - 61s - loss: 0.5875 - dice_coef: 0.1637 - binary_accuracy: 0.7254 - true_positive_rate: 0.0693 - iou_coef: 0.0297 - mean_iou_threshold: 0.0000e+00 - val_loss: 0.5838 - val_dice_coef: 0.1918 - val_binary_accuracy: 0.7599 - val_true_positive_rate: 0.0136 - val_iou_coef: 0.0319 - val_mean_iou_threshold: 0.0260\n",
      "Finished epoch: 28\n",
      "{'val_mean_iou_threshold': 0.026041666666666668, 'val_true_positive_rate': 0.0136114452034235, 'binary_accuracy': 0.7253731599788076, 'val_iou_coef': 0.03192065933641667, 'val_binary_accuracy': 0.7599023183186849, 'val_dice_coef': 0.19178517224888006, 'iou_coef': 0.02969519651888572, 'mean_iou_threshold': 0.0, 'true_positive_rate': 0.06928608727823828, 'dice_coef': 0.1636615797262831, 'loss': 0.5874574073811167, 'val_loss': 0.5837627351284027, 'lr': 1e-04}\n",
      "\n",
      "Epoch 00029: val_loss improved from 0.58481 to 0.58376, saving model to ./log/2018_0808_1951/best_weights.hdf5\n",
      "Epoch 30/3000\n",
      " - 60s - loss: 0.5852 - dice_coef: 0.1634 - binary_accuracy: 0.7283 - true_positive_rate: 0.0651 - iou_coef: 0.0282 - mean_iou_threshold: 0.0000e+00 - val_loss: 0.5828 - val_dice_coef: 0.1916 - val_binary_accuracy: 0.7605 - val_true_positive_rate: 0.0115 - val_iou_coef: 0.0310 - val_mean_iou_threshold: 0.0260\n",
      "Finished epoch: 29\n",
      "{'val_mean_iou_threshold': 0.026041666666666668, 'val_true_positive_rate': 0.01151826351027315, 'binary_accuracy': 0.7283312807378081, 'val_iou_coef': 0.031010184184803318, 'val_binary_accuracy': 0.760467529296875, 'val_dice_coef': 0.19155152700841427, 'iou_coef': 0.028178448625600216, 'mean_iou_threshold': 0.0, 'true_positive_rate': 0.06507673172145775, 'dice_coef': 0.16342575947955712, 'loss': 0.5851930204740504, 'val_loss': 0.5827533006668091, 'lr': 1e-04}\n",
      "\n",
      "Epoch 00030: val_loss improved from 0.58376 to 0.58275, saving model to ./log/2018_0808_1951/best_weights.hdf5\n",
      "Epoch 31/3000\n",
      " - 62s - loss: 0.5819 - dice_coef: 0.1618 - binary_accuracy: 0.7319 - true_positive_rate: 0.0608 - iou_coef: 0.0265 - mean_iou_threshold: 0.0000e+00 - val_loss: 0.5813 - val_dice_coef: 0.1911 - val_binary_accuracy: 0.7611 - val_true_positive_rate: 0.0089 - val_iou_coef: 0.0312 - val_mean_iou_threshold: 0.0273\n",
      "Finished epoch: 30\n",
      "{'val_mean_iou_threshold': 0.02734375, 'val_true_positive_rate': 0.008923380829704305, 'binary_accuracy': 0.7319183152975496, 'val_iou_coef': 0.03115581549354829, 'val_binary_accuracy': 0.7610718409220377, 'val_dice_coef': 0.19109882103900114, 'iou_coef': 0.026472106422345664, 'mean_iou_threshold': 0.0, 'true_positive_rate': 0.06081272185463266, 'dice_coef': 0.16179033614618263, 'loss': 0.5819001627951553, 'val_loss': 0.5812836736440659, 'lr': 1e-04}\n",
      "\n",
      "Epoch 00031: val_loss improved from 0.58275 to 0.58128, saving model to ./log/2018_0808_1951/best_weights.hdf5\n",
      "Epoch 32/3000\n",
      " - 64s - loss: 0.5811 - dice_coef: 0.1618 - binary_accuracy: 0.7329 - true_positive_rate: 0.0571 - iou_coef: 0.0250 - mean_iou_threshold: 0.0000e+00 - val_loss: 0.5802 - val_dice_coef: 0.1909 - val_binary_accuracy: 0.7614 - val_true_positive_rate: 0.0073 - val_iou_coef: 0.0305 - val_mean_iou_threshold: 0.0273\n",
      "Finished epoch: 31\n",
      "{'val_mean_iou_threshold': 0.02734375, 'val_true_positive_rate': 0.007335136159478377, 'binary_accuracy': 0.7329028218062883, 'val_iou_coef': 0.030487459026820336, 'val_binary_accuracy': 0.7614468733469645, 'val_dice_coef': 0.19085091662903628, 'iou_coef': 0.025004604850540457, 'mean_iou_threshold': 0.0, 'true_positive_rate': 0.05712717072558157, 'dice_coef': 0.16181282076946238, 'loss': 0.5811304351718155, 'val_loss': 0.5802237913012505, 'lr': 1e-04}\n",
      "\n",
      "Epoch 00032: val_loss improved from 0.58128 to 0.58022, saving model to ./log/2018_0808_1951/best_weights.hdf5\n",
      "Epoch 33/3000\n",
      " - 60s - loss: 0.5777 - dice_coef: 0.1595 - binary_accuracy: 0.7370 - true_positive_rate: 0.0536 - iou_coef: 0.0235 - mean_iou_threshold: 0.0000e+00 - val_loss: 0.5793 - val_dice_coef: 0.1906 - val_binary_accuracy: 0.7617 - val_true_positive_rate: 0.0061 - val_iou_coef: 0.0300 - val_mean_iou_threshold: 0.0273\n",
      "Finished epoch: 32\n",
      "{'val_mean_iou_threshold': 0.02734375, 'val_true_positive_rate': 0.006107688425496842, 'binary_accuracy': 0.7370256246979704, 'val_iou_coef': 0.029952660920874525, 'val_binary_accuracy': 0.7617471218109131, 'val_dice_coef': 0.19062420663734278, 'iou_coef': 0.023475120765800328, 'mean_iou_threshold': 0.0, 'true_positive_rate': 0.05360153459550179, 'dice_coef': 0.15953854794047542, 'loss': 0.5776770812334474, 'val_loss': 0.579288716117541, 'lr': 1e-04}\n",
      "\n",
      "Epoch 00033: val_loss improved from 0.58022 to 0.57929, saving model to ./log/2018_0808_1951/best_weights.hdf5\n",
      "Epoch 34/3000\n",
      " - 60s - loss: 0.5777 - dice_coef: 0.1596 - binary_accuracy: 0.7372 - true_positive_rate: 0.0505 - iou_coef: 0.0223 - mean_iou_threshold: 0.0000e+00 - val_loss: 0.5786 - val_dice_coef: 0.1905 - val_binary_accuracy: 0.7620 - val_true_positive_rate: 0.0053 - val_iou_coef: 0.0322 - val_mean_iou_threshold: 0.0299\n",
      "Finished epoch: 33\n",
      "{'val_mean_iou_threshold': 0.029947916666666668, 'val_true_positive_rate': 0.0053466245396217955, 'binary_accuracy': 0.7371563272377879, 'val_iou_coef': 0.032203434607557334, 'val_binary_accuracy': 0.7619635264078776, 'val_dice_coef': 0.19054127732912698, 'iou_coef': 0.02232382614549595, 'mean_iou_threshold': 0.0, 'true_positive_rate': 0.05045205773305647, 'dice_coef': 0.15964260274909206, 'loss': 0.5777311724485811, 'val_loss': 0.5785746599237124, 'lr': 1e-04}\n",
      "\n",
      "Epoch 00034: val_loss improved from 0.57929 to 0.57857, saving model to ./log/2018_0808_1951/best_weights.hdf5\n",
      "Epoch 35/3000\n",
      " - 60s - loss: 0.5760 - dice_coef: 0.1604 - binary_accuracy: 0.7390 - true_positive_rate: 0.0473 - iou_coef: 0.0213 - mean_iou_threshold: 0.0000e+00 - val_loss: 0.5781 - val_dice_coef: 0.1906 - val_binary_accuracy: 0.7621 - val_true_positive_rate: 0.0048 - val_iou_coef: 0.0333 - val_mean_iou_threshold: 0.0312\n",
      "Finished epoch: 34\n",
      "{'val_mean_iou_threshold': 0.03125, 'val_true_positive_rate': 0.004848729169073825, 'binary_accuracy': 0.7389627830269411, 'val_iou_coef': 0.0332779678380272, 'val_binary_accuracy': 0.7620996634165446, 'val_dice_coef': 0.19058152101933956, 'iou_coef': 0.021315328834443977, 'mean_iou_threshold': 0.0, 'true_positive_rate': 0.04728668709237551, 'dice_coef': 0.16038081756572134, 'loss': 0.5760069845877972, 'val_loss': 0.5780603165427843, 'lr': 1e-04}\n",
      "\n",
      "Epoch 00035: val_loss improved from 0.57857 to 0.57806, saving model to ./log/2018_0808_1951/best_weights.hdf5\n",
      "Epoch 36/3000\n",
      " - 62s - loss: 0.5750 - dice_coef: 0.1592 - binary_accuracy: 0.7404 - true_positive_rate: 0.0447 - iou_coef: 0.0201 - mean_iou_threshold: 0.0000e+00 - val_loss: 0.5774 - val_dice_coef: 0.1905 - val_binary_accuracy: 0.7622 - val_true_positive_rate: 0.0042 - val_iou_coef: 0.0343 - val_mean_iou_threshold: 0.0326\n",
      "Finished epoch: 35\n",
      "{'val_mean_iou_threshold': 0.032552083333333336, 'val_true_positive_rate': 0.004249066570385669, 'binary_accuracy': 0.7403692068512907, 'val_iou_coef': 0.034323943487834185, 'val_binary_accuracy': 0.7622431914011637, 'val_dice_coef': 0.19051798433065414, 'iou_coef': 0.020103850805191035, 'mean_iou_threshold': 0.0, 'true_positive_rate': 0.044737069070646444, 'dice_coef': 0.15918732157994792, 'loss': 0.5750367048474931, 'val_loss': 0.5773838932315508, 'lr': 1e-04}\n",
      "\n",
      "Epoch 00036: val_loss improved from 0.57806 to 0.57738, saving model to ./log/2018_0808_1951/best_weights.hdf5\n",
      "Epoch 37/3000\n",
      " - 61s - loss: 0.5749 - dice_coef: 0.1590 - binary_accuracy: 0.7410 - true_positive_rate: 0.0417 - iou_coef: 0.0189 - mean_iou_threshold: 0.0000e+00 - val_loss: 0.5767 - val_dice_coef: 0.1904 - val_binary_accuracy: 0.7624 - val_true_positive_rate: 0.0035 - val_iou_coef: 0.0340 - val_mean_iou_threshold: 0.0326\n",
      "Finished epoch: 36\n",
      "{'val_mean_iou_threshold': 0.032552083333333336, 'val_true_positive_rate': 0.003529803366594327, 'binary_accuracy': 0.7410178430301627, 'val_iou_coef': 0.03402694395238844, 'val_binary_accuracy': 0.7623616059621176, 'val_dice_coef': 0.1904057034601768, 'iou_coef': 0.018862149380531507, 'mean_iou_threshold': 0.0, 'true_positive_rate': 0.04174377296849625, 'dice_coef': 0.15903035881593056, 'loss': 0.574856966426692, 'val_loss': 0.5766548737883568, 'lr': 1e-04}\n",
      "\n",
      "Epoch 00037: val_loss improved from 0.57738 to 0.57665, saving model to ./log/2018_0808_1951/best_weights.hdf5\n"
     ]
    },
    {
     "name": "stdout",
     "output_type": "stream",
     "text": [
      "Epoch 38/3000\n",
      " - 58s - loss: 0.5713 - dice_coef: 0.1580 - binary_accuracy: 0.7440 - true_positive_rate: 0.0394 - iou_coef: 0.0179 - mean_iou_threshold: 0.0000e+00 - val_loss: 0.5761 - val_dice_coef: 0.1904 - val_binary_accuracy: 0.7624 - val_true_positive_rate: 0.0032 - val_iou_coef: 0.0352 - val_mean_iou_threshold: 0.0339\n",
      "Finished epoch: 37\n",
      "{'val_mean_iou_threshold': 0.033854166666666664, 'val_true_positive_rate': 0.003187012960552238, 'binary_accuracy': 0.7439595645235986, 'val_iou_coef': 0.03518658106622752, 'val_binary_accuracy': 0.7624440987904867, 'val_dice_coef': 0.1904352599134048, 'iou_coef': 0.017860072444087452, 'mean_iou_threshold': 0.0, 'true_positive_rate': 0.03939335654998563, 'dice_coef': 0.15798715394489543, 'loss': 0.5712792215888033, 'val_loss': 0.5761149078607559, 'lr': 1e-04}\n",
      "\n",
      "Epoch 00038: val_loss improved from 0.57665 to 0.57611, saving model to ./log/2018_0808_1951/best_weights.hdf5\n",
      "Epoch 39/3000\n",
      " - 58s - loss: 0.5731 - dice_coef: 0.1580 - binary_accuracy: 0.7434 - true_positive_rate: 0.0370 - iou_coef: 0.0168 - mean_iou_threshold: 0.0000e+00 - val_loss: 0.5753 - val_dice_coef: 0.1903 - val_binary_accuracy: 0.7625 - val_true_positive_rate: 0.0026 - val_iou_coef: 0.0349 - val_mean_iou_threshold: 0.0339\n",
      "Finished epoch: 38\n",
      "{'val_mean_iou_threshold': 0.033854166666666664, 'val_true_positive_rate': 0.002582288405392319, 'binary_accuracy': 0.7433978798463172, 'val_iou_coef': 0.03493930015732379, 'val_binary_accuracy': 0.7625108559926351, 'val_dice_coef': 0.19026006944477558, 'iou_coef': 0.016842844339145215, 'mean_iou_threshold': 0.0, 'true_positive_rate': 0.03702427923064871, 'dice_coef': 0.15798604941552447, 'loss': 0.5730585489690918, 'val_loss': 0.5753154307603836, 'lr': 1e-04}\n",
      "\n",
      "Epoch 00039: val_loss improved from 0.57611 to 0.57532, saving model to ./log/2018_0808_1951/best_weights.hdf5\n",
      "Epoch 40/3000\n",
      " - 58s - loss: 0.5704 - dice_coef: 0.1577 - binary_accuracy: 0.7452 - true_positive_rate: 0.0350 - iou_coef: 0.0160 - mean_iou_threshold: 0.0000e+00 - val_loss: 0.5750 - val_dice_coef: 0.1904 - val_binary_accuracy: 0.7626 - val_true_positive_rate: 0.0024 - val_iou_coef: 0.0375 - val_mean_iou_threshold: 0.0365\n",
      "Finished epoch: 39\n",
      "{'val_mean_iou_threshold': 0.036458333333333336, 'val_true_positive_rate': 0.0024298560165334493, 'binary_accuracy': 0.7451924196223623, 'val_iou_coef': 0.03748006392076301, 'val_binary_accuracy': 0.7625589370727539, 'val_dice_coef': 0.1903681382536888, 'iou_coef': 0.01603927304872225, 'mean_iou_threshold': 0.0, 'true_positive_rate': 0.03502511446239408, 'dice_coef': 0.15774502935483284, 'loss': 0.5704146350167462, 'val_loss': 0.5749697784582773, 'lr': 1e-04}\n",
      "\n",
      "Epoch 00040: val_loss improved from 0.57532 to 0.57497, saving model to ./log/2018_0808_1951/best_weights.hdf5\n",
      "Epoch 41/3000\n",
      " - 60s - loss: 0.5701 - dice_coef: 0.1577 - binary_accuracy: 0.7454 - true_positive_rate: 0.0334 - iou_coef: 0.0154 - mean_iou_threshold: 0.0000e+00 - val_loss: 0.5746 - val_dice_coef: 0.1904 - val_binary_accuracy: 0.7626 - val_true_positive_rate: 0.0022 - val_iou_coef: 0.0400 - val_mean_iou_threshold: 0.0391\n",
      "Finished epoch: 40\n",
      "{'val_mean_iou_threshold': 0.0390625, 'val_true_positive_rate': 0.0022338308529773108, 'binary_accuracy': 0.7454369731785095, 'val_iou_coef': 0.04000130758989447, 'val_binary_accuracy': 0.7625997066497803, 'val_dice_coef': 0.19041078040997186, 'iou_coef': 0.01536826563749424, 'mean_iou_threshold': 0.0, 'true_positive_rate': 0.03336716320404073, 'dice_coef': 0.1577039336420826, 'loss': 0.5700786058435735, 'val_loss': 0.5745965416232744, 'lr': 1e-04}\n",
      "\n",
      "Epoch 00041: val_loss improved from 0.57497 to 0.57460, saving model to ./log/2018_0808_1951/best_weights.hdf5\n",
      "Epoch 42/3000\n",
      " - 63s - loss: 0.5691 - dice_coef: 0.1573 - binary_accuracy: 0.7463 - true_positive_rate: 0.0313 - iou_coef: 0.0145 - mean_iou_threshold: 0.0000e+00 - val_loss: 0.5742 - val_dice_coef: 0.1905 - val_binary_accuracy: 0.7626 - val_true_positive_rate: 0.0021 - val_iou_coef: 0.0412 - val_mean_iou_threshold: 0.0404\n",
      "Finished epoch: 41\n",
      "{'val_mean_iou_threshold': 0.040364583333333336, 'val_true_positive_rate': 0.0020665724926705784, 'binary_accuracy': 0.7463049937769309, 'val_iou_coef': 0.04122306996578118, 'val_binary_accuracy': 0.7626361052195231, 'val_dice_coef': 0.19047251095374426, 'iou_coef': 0.014476588245519657, 'mean_iou_threshold': 0.0, 'true_positive_rate': 0.031326768689395226, 'dice_coef': 0.15733073359912203, 'loss': 0.5690938599945343, 'val_loss': 0.5741751963893572, 'lr': 1e-04}\n",
      "\n",
      "Epoch 00042: val_loss improved from 0.57460 to 0.57418, saving model to ./log/2018_0808_1951/best_weights.hdf5\n",
      "Epoch 43/3000\n",
      " - 59s - loss: 0.5687 - dice_coef: 0.1568 - binary_accuracy: 0.7478 - true_positive_rate: 0.0296 - iou_coef: 0.0137 - mean_iou_threshold: 0.0000e+00 - val_loss: 0.5736 - val_dice_coef: 0.1904 - val_binary_accuracy: 0.7627 - val_true_positive_rate: 0.0018 - val_iou_coef: 0.0437 - val_mean_iou_threshold: 0.0430\n",
      "Finished epoch: 42\n",
      "{'val_mean_iou_threshold': 0.04296875, 'val_true_positive_rate': 0.001760498833997796, 'binary_accuracy': 0.7478322097935628, 'val_iou_coef': 0.04370581000694074, 'val_binary_accuracy': 0.7626725832621256, 'val_dice_coef': 0.19041928773125014, 'iou_coef': 0.01371979859379149, 'mean_iou_threshold': 0.0, 'true_positive_rate': 0.02958928670772572, 'dice_coef': 0.15683545909591556, 'loss': 0.5686527994490161, 'val_loss': 0.5736064463853836, 'lr': 1e-04}\n",
      "\n",
      "Epoch 00043: val_loss improved from 0.57418 to 0.57361, saving model to ./log/2018_0808_1951/best_weights.hdf5\n",
      "Epoch 44/3000\n",
      " - 61s - loss: 0.5650 - dice_coef: 0.1555 - binary_accuracy: 0.7507 - true_positive_rate: 0.0283 - iou_coef: 0.0131 - mean_iou_threshold: 0.0000e+00 - val_loss: 0.5734 - val_dice_coef: 0.1905 - val_binary_accuracy: 0.7627 - val_true_positive_rate: 0.0017 - val_iou_coef: 0.0489 - val_mean_iou_threshold: 0.0482\n",
      "Finished epoch: 43\n",
      "{'val_mean_iou_threshold': 0.048177083333333336, 'val_true_positive_rate': 0.0016832562735847507, 'binary_accuracy': 0.750718637840035, 'val_iou_coef': 0.04888105427623183, 'val_binary_accuracy': 0.7626903057098389, 'val_dice_coef': 0.19052741738657156, 'iou_coef': 0.013085737219560392, 'mean_iou_threshold': 0.0, 'true_positive_rate': 0.028296135058722544, 'dice_coef': 0.15548241591637896, 'loss': 0.5650216918630698, 'val_loss': 0.5734385574857394, 'lr': 1e-04}\n",
      "\n",
      "Epoch 00044: val_loss improved from 0.57361 to 0.57344, saving model to ./log/2018_0808_1951/best_weights.hdf5\n",
      "Epoch 45/3000\n",
      " - 58s - loss: 0.5641 - dice_coef: 0.1552 - binary_accuracy: 0.7512 - true_positive_rate: 0.0264 - iou_coef: 0.0123 - mean_iou_threshold: 0.0000e+00 - val_loss: 0.5728 - val_dice_coef: 0.1905 - val_binary_accuracy: 0.7627 - val_true_positive_rate: 0.0015 - val_iou_coef: 0.0579 - val_mean_iou_threshold: 0.0573\n",
      "Finished epoch: 44\n",
      "{'val_mean_iou_threshold': 0.057291666666666664, 'val_true_positive_rate': 0.001462340194848366, 'binary_accuracy': 0.7512218829282781, 'val_iou_coef': 0.05790375976357609, 'val_binary_accuracy': 0.7627136707305908, 'val_dice_coef': 0.19051945768296719, 'iou_coef': 0.012254016291465341, 'mean_iou_threshold': 0.0, 'true_positive_rate': 0.026409223176462136, 'dice_coef': 0.15523673448058747, 'loss': 0.5641130715915837, 'val_loss': 0.5728088716665903, 'lr': 1e-04}\n",
      "\n",
      "Epoch 00045: val_loss improved from 0.57344 to 0.57281, saving model to ./log/2018_0808_1951/best_weights.hdf5\n",
      "Epoch 46/3000\n",
      " - 64s - loss: 0.5647 - dice_coef: 0.1557 - binary_accuracy: 0.7510 - true_positive_rate: 0.0251 - iou_coef: 0.0117 - mean_iou_threshold: 0.0000e+00 - val_loss: 0.5727 - val_dice_coef: 0.1907 - val_binary_accuracy: 0.7627 - val_true_positive_rate: 0.0014 - val_iou_coef: 0.0631 - val_mean_iou_threshold: 0.0625\n",
      "Finished epoch: 45\n",
      "{'val_mean_iou_threshold': 0.0625, 'val_true_positive_rate': 0.0014202389284037054, 'binary_accuracy': 0.751022614154619, 'val_iou_coef': 0.06308744507259689, 'val_binary_accuracy': 0.7627213001251221, 'val_dice_coef': 0.190668365607659, 'iou_coef': 0.011730564983811267, 'mean_iou_threshold': 0.0, 'true_positive_rate': 0.025091397969685878, 'dice_coef': 0.1557183721938084, 'loss': 0.5647232673831821, 'val_loss': 0.5727041934927305, 'lr': 1e-04}\n",
      "\n",
      "Epoch 00046: val_loss improved from 0.57281 to 0.57270, saving model to ./log/2018_0808_1951/best_weights.hdf5\n"
     ]
    },
    {
     "name": "stdout",
     "output_type": "stream",
     "text": [
      "Epoch 47/3000\n",
      " - 59s - loss: 0.5634 - dice_coef: 0.1548 - binary_accuracy: 0.7522 - true_positive_rate: 0.0238 - iou_coef: 0.0111 - mean_iou_threshold: 0.0000e+00 - val_loss: 0.5723 - val_dice_coef: 0.1907 - val_binary_accuracy: 0.7627 - val_true_positive_rate: 0.0013 - val_iou_coef: 0.0696 - val_mean_iou_threshold: 0.0690\n",
      "Finished epoch: 46\n",
      "{'val_mean_iou_threshold': 0.06901041666666667, 'val_true_positive_rate': 0.0013104345416650176, 'binary_accuracy': 0.7521786443965951, 'val_iou_coef': 0.06955471183512903, 'val_binary_accuracy': 0.762732187906901, 'val_dice_coef': 0.19073361655076346, 'iou_coef': 0.011134699025412196, 'mean_iou_threshold': 0.0, 'true_positive_rate': 0.023846104261033313, 'dice_coef': 0.15480566946501584, 'loss': 0.56335225639884, 'val_loss': 0.5723146225015322, 'lr': 1e-04}\n",
      "\n",
      "Epoch 00047: val_loss improved from 0.57270 to 0.57231, saving model to ./log/2018_0808_1951/best_weights.hdf5\n",
      "Epoch 48/3000\n",
      " - 61s - loss: 0.5618 - dice_coef: 0.1540 - binary_accuracy: 0.7535 - true_positive_rate: 0.0227 - iou_coef: 0.0106 - mean_iou_threshold: 0.0000e+00 - val_loss: 0.5723 - val_dice_coef: 0.1911 - val_binary_accuracy: 0.7627 - val_true_positive_rate: 0.0014 - val_iou_coef: 0.0696 - val_mean_iou_threshold: 0.0690\n",
      "Finished epoch: 47\n",
      "{'val_mean_iou_threshold': 0.06901041666666667, 'val_true_positive_rate': 0.0013673981326671008, 'binary_accuracy': 0.7535356541269833, 'val_iou_coef': 0.06957766505123193, 'val_binary_accuracy': 0.762743870417277, 'val_dice_coef': 0.19106615396837393, 'iou_coef': 0.010577919513716833, 'mean_iou_threshold': 0.0, 'true_positive_rate': 0.02265417909960157, 'dice_coef': 0.153985190022852, 'loss': 0.5618177981106276, 'val_loss': 0.5723444620768229, 'lr': 1e-04}\n",
      "\n",
      "Epoch 00048: val_loss did not improve\n",
      "Epoch 49/3000\n",
      " - 57s - loss: 0.5616 - dice_coef: 0.1547 - binary_accuracy: 0.7532 - true_positive_rate: 0.0215 - iou_coef: 0.0101 - mean_iou_threshold: 0.0000e+00 - val_loss: 0.5717 - val_dice_coef: 0.1910 - val_binary_accuracy: 0.7627 - val_true_positive_rate: 0.0012 - val_iou_coef: 0.0851 - val_mean_iou_threshold: 0.0846\n",
      "Finished epoch: 48\n",
      "{'val_mean_iou_threshold': 0.08463541666666667, 'val_true_positive_rate': 0.0012016861607359413, 'binary_accuracy': 0.7532322873774263, 'val_iou_coef': 0.08513545161379928, 'val_binary_accuracy': 0.7627491156260172, 'val_dice_coef': 0.19096320929626623, 'iou_coef': 0.01008459034654283, 'mean_iou_threshold': 0.0, 'true_positive_rate': 0.021463523417250396, 'dice_coef': 0.1546539459953603, 'loss': 0.561571239810629, 'val_loss': 0.5717298462986946, 'lr': 1e-04}\n",
      "\n",
      "Epoch 00049: val_loss improved from 0.57231 to 0.57173, saving model to ./log/2018_0808_1951/best_weights.hdf5\n",
      "Epoch 50/3000\n"
     ]
    }
   ],
   "source": [
    "optimizer = keras.optimizers.SGD(lr=0.01, momentum=0.9, decay=0.0, nesterov=True) \n",
    "# Todo Adam \n",
    "# train_util.train(unet_m, tgs_generator.generate(True), tgs_generator.generate(False), loss=train_util.dice_p_bce, metrics=[train_util.dice_coef, 'binary_accuracy', train_util.true_positive_rate, train_util.iou_coef], epochs=3000, steps_per_epoch=steps_per_epoch, validation_steps=validation_steps)\n",
    "train_util.train(unet_m, \n",
    "                 tgs_generator.generate(True), \n",
    "                 tgs_generator.generate(False), \n",
    "                 metrics=[train_util.dice_coef, 'binary_accuracy', train_util.true_positive_rate, train_util.iou_coef, train_util.mean_iou_threshold],\n",
    "                 epochs=3000, steps_per_epoch=steps_per_epoch, \n",
    "                 validation_steps=validation_steps, \n",
    "                 optimizer=optimizer)"
   ]
  },
  {
   "cell_type": "markdown",
   "metadata": {},
   "source": [
    "## Check iou_coef"
   ]
  },
  {
   "cell_type": "code",
   "execution_count": 7,
   "metadata": {},
   "outputs": [],
   "source": [
    "from keras.models import load_model\n",
    "model = load_model('./log/2018_0807_2002/best_weights.hdf5', custom_objects={\n",
    "    'mean_iou': train_util.mean_iou, \n",
    "    'dice_p_bce':train_util.dice_p_bce, \n",
    "    'dice_coef':train_util.dice_coef,\n",
    "    'true_positive_rate':train_util.true_positive_rate,\n",
    "    'iou_coef':train_util.iou_coef\n",
    "})"
   ]
  },
  {
   "cell_type": "code",
   "execution_count": 28,
   "metadata": {},
   "outputs": [],
   "source": []
  },
  {
   "cell_type": "code",
   "execution_count": 29,
   "metadata": {},
   "outputs": [],
   "source": [
    "preds = model.predict([X_val, X_feat_val])"
   ]
  },
  {
   "cell_type": "code",
   "execution_count": 30,
   "metadata": {},
   "outputs": [],
   "source": [
    "preds_t = (preds > 0.5).astype(np.uint8)"
   ]
  },
  {
   "cell_type": "code",
   "execution_count": 33,
   "metadata": {},
   "outputs": [],
   "source": [
    "ious = []\n",
    "for i in range(0, len(preds_t)):\n",
    "    y_true = Y_val_true[i]\n",
    "    y_pred = preds_t[i]\n",
    "    ious.append(train_util.compute_iou(y_true, y_pred))"
   ]
  },
  {
   "cell_type": "code",
   "execution_count": 36,
   "metadata": {},
   "outputs": [
    {
     "data": {
      "text/plain": [
       "0.7901850010723667"
      ]
     },
     "execution_count": 36,
     "metadata": {},
     "output_type": "execute_result"
    }
   ],
   "source": [
    "np.mean(ious)"
   ]
  },
  {
   "cell_type": "code",
   "execution_count": 37,
   "metadata": {},
   "outputs": [
    {
     "data": {
      "text/plain": [
       "113"
      ]
     },
     "execution_count": 37,
     "metadata": {},
     "output_type": "execute_result"
    }
   ],
   "source": [
    "len(train_util.BAD_MASKS)"
   ]
  },
  {
   "cell_type": "code",
   "execution_count": 41,
   "metadata": {},
   "outputs": [
    {
     "data": {
      "text/plain": [
       "0.02904884318766067"
      ]
     },
     "execution_count": 41,
     "metadata": {},
     "output_type": "execute_result"
    }
   ],
   "source": [
    "113/(len(preds) * 5)"
   ]
  },
  {
   "cell_type": "code",
   "execution_count": 45,
   "metadata": {},
   "outputs": [
    {
     "data": {
      "text/plain": [
       "0.7745098039215687"
      ]
     },
     "execution_count": 45,
     "metadata": {},
     "output_type": "execute_result"
    }
   ],
   "source": [
    "0.79/1.02"
   ]
  },
  {
   "cell_type": "code",
   "execution_count": 52,
   "metadata": {},
   "outputs": [],
   "source": [
    "iou = train_util.iou_coef(Y_val_true, np.float32(preds_t))"
   ]
  },
  {
   "cell_type": "code",
   "execution_count": 58,
   "metadata": {},
   "outputs": [
    {
     "data": {
      "text/plain": [
       "0.78863376"
      ]
     },
     "execution_count": 58,
     "metadata": {},
     "output_type": "execute_result"
    }
   ],
   "source": [
    "from keras import backend as K\n",
    "K.get_value(K.mean((iou)))"
   ]
  },
  {
   "cell_type": "code",
   "execution_count": null,
   "metadata": {},
   "outputs": [],
   "source": []
  }
 ],
 "metadata": {
  "anaconda-cloud": {},
  "kernelspec": {
   "display_name": "Python [anaconda3]",
   "language": "python",
   "name": "Python [anaconda3]"
  },
  "language_info": {
   "codemirror_mode": {
    "name": "ipython",
    "version": 3
   },
   "file_extension": ".py",
   "mimetype": "text/x-python",
   "name": "python",
   "nbconvert_exporter": "python",
   "pygments_lexer": "ipython3",
   "version": "3.5.2"
  }
 },
 "nbformat": 4,
 "nbformat_minor": 1
}
