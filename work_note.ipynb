{
 "cells": [
  {
   "cell_type": "code",
   "execution_count": 49,
   "metadata": {},
   "outputs": [
    {
     "name": "stdout",
     "output_type": "stream",
     "text": [
      "The autoreload extension is already loaded. To reload it, use:\n",
      "  %reload_ext autoreload\n"
     ]
    }
   ],
   "source": [
    "import pandas as pd\n",
    "import numpy as np\n",
    "import matplotlib.pyplot as plt\n",
    "import cv2\n",
    "from tqdm import tqdm\n",
    "from glob import glob\n",
    "from tqdm import tqdm\n",
    "import seaborn as sns\n",
    "%matplotlib inline\n",
    "import train_util\n",
    "import util\n",
    "from image_generator import Generator\n",
    "%load_ext autoreload\n",
    "%autoreload 2\n",
    "\n",
    "from keras import backend as K\n",
    "\n",
    "from keras.models import load_model"
   ]
  },
  {
   "cell_type": "code",
   "execution_count": 50,
   "metadata": {},
   "outputs": [
    {
     "name": "stdout",
     "output_type": "stream",
     "text": [
      "97\n",
      "24\n"
     ]
    }
   ],
   "source": [
    "master_df = pd.read_csv('./data/depth_prop_cls_bad_mask.csv')\n",
    "id_depth_df = master_df[['id', 'z']].set_index('id')['z']\n",
    "depth_dict = id_depth_df.to_dict()\n",
    "# data_type is 'train', 'test' and 'bad_train'\n",
    "train_val_df = master_df[(master_df['data_type'] == 'train')]\n",
    "ids = train_val_df['id'].values\n",
    "classes = train_val_df['salt_propotion_class'].values\n",
    "from sklearn.cross_validation import train_test_split\n",
    "train_ids, val_ids = train_test_split(ids, test_size=0.2, random_state=43, stratify=classes)\n",
    "batch_size = 32\n",
    "# not feature (depth) vec\n",
    "tgs_generator = Generator(train_ids = train_ids, depth_dict=depth_dict, val_ids=val_ids, batch_size=batch_size, feature_out=False)\n",
    "\n",
    "# steps_per_epoch\n",
    "steps_per_epoch = len(train_ids) //  batch_size\n",
    "validation_steps = len(val_ids) //  batch_size\n",
    "# validation batch will be all validation\n",
    "\n",
    "# validation_steps = 1\n",
    "print(steps_per_epoch)\n",
    "print(validation_steps)"
   ]
  },
  {
   "cell_type": "code",
   "execution_count": 53,
   "metadata": {},
   "outputs": [],
   "source": [
    "images, depths, masks = tgs_generator.get_val_data()"
   ]
  },
  {
   "cell_type": "code",
   "execution_count": null,
   "metadata": {},
   "outputs": [],
   "source": []
  },
  {
   "cell_type": "code",
   "execution_count": 30,
   "metadata": {},
   "outputs": [],
   "source": [
    "im_id = train_ids[0]"
   ]
  },
  {
   "cell_type": "code",
   "execution_count": 31,
   "metadata": {},
   "outputs": [],
   "source": [
    "im = cv2.imread('./data/train/images/' + im_id + '.png')"
   ]
  },
  {
   "cell_type": "code",
   "execution_count": 36,
   "metadata": {},
   "outputs": [],
   "source": [
    "from skimage.transform import resize\n",
    "im_resize = resize(im, (128, 128), mode='constant', preserve_range=True)"
   ]
  },
  {
   "cell_type": "code",
   "execution_count": 37,
   "metadata": {},
   "outputs": [],
   "source": [
    "im_resize_return = resize(im_resize, (101, 101), mode='constant', preserve_range=True)"
   ]
  },
  {
   "cell_type": "code",
   "execution_count": 42,
   "metadata": {},
   "outputs": [
    {
     "data": {
      "text/plain": [
       "array(['ad1e8ef844', '33f32ff406', '085e7a048e', ..., 'de08c5a3b7',\n",
       "       'a50ac7d1e2', '9e7d89d4c0'], dtype=object)"
      ]
     },
     "execution_count": 42,
     "metadata": {},
     "output_type": "execute_result"
    }
   ],
   "source": [
    "train_ids"
   ]
  },
  {
   "cell_type": "code",
   "execution_count": 43,
   "metadata": {},
   "outputs": [
    {
     "name": "stderr",
     "output_type": "stream",
     "text": [
      "100%|██████████| 3887/3887 [00:49<00:00, 78.01it/s]\n"
     ]
    }
   ],
   "source": [
    "X_train, X_feat_train, Y_train, Y_no_sult, Y_salt_cls = train_util.get_data(data_type='train', size=(128, 128, 3))"
   ]
  },
  {
   "cell_type": "code",
   "execution_count": 44,
   "metadata": {},
   "outputs": [],
   "source": [
    "from sklearn.cross_validation import train_test_split\n",
    "x_train, x_test, x_feat_train, x_feat_test, y_train, y_test, y_no_sult_train, y_no_sult_test = train_test_split(X_train, X_feat_train, Y_train, Y_no_sult, test_size=0.2, random_state=42, stratify= Y_salt_cls)"
   ]
  },
  {
   "cell_type": "code",
   "execution_count": 45,
   "metadata": {},
   "outputs": [
    {
     "data": {
      "text/plain": [
       "array([[[[0.52156866, 0.52156866, 0.52156866],\n",
       "         [0.49803922, 0.49803922, 0.49803922],\n",
       "         [0.49411765, 0.49411765, 0.49411765],\n",
       "         ...,\n",
       "         [0.49019608, 0.49019608, 0.49019608],\n",
       "         [0.49411765, 0.49411765, 0.49411765],\n",
       "         [0.50980395, 0.50980395, 0.50980395]],\n",
       "\n",
       "        [[0.5411765 , 0.5411765 , 0.5411765 ],\n",
       "         [0.5176471 , 0.5176471 , 0.5176471 ],\n",
       "         [0.50980395, 0.50980395, 0.50980395],\n",
       "         ...,\n",
       "         [0.49019608, 0.49019608, 0.49019608],\n",
       "         [0.49803922, 0.49803922, 0.49803922],\n",
       "         [0.50980395, 0.50980395, 0.50980395]],\n",
       "\n",
       "        [[0.5411765 , 0.5411765 , 0.5411765 ],\n",
       "         [0.52156866, 0.52156866, 0.52156866],\n",
       "         [0.5137255 , 0.5137255 , 0.5137255 ],\n",
       "         ...,\n",
       "         [0.49411765, 0.49411765, 0.49411765],\n",
       "         [0.50980395, 0.50980395, 0.50980395],\n",
       "         [0.52156866, 0.52156866, 0.52156866]],\n",
       "\n",
       "        ...,\n",
       "\n",
       "        [[0.5254902 , 0.5254902 , 0.5254902 ],\n",
       "         [0.5137255 , 0.5137255 , 0.5137255 ],\n",
       "         [0.49803922, 0.49803922, 0.49803922],\n",
       "         ...,\n",
       "         [0.44313726, 0.44313726, 0.44313726],\n",
       "         [0.54509807, 0.54509807, 0.54509807],\n",
       "         [0.6431373 , 0.6431373 , 0.6431373 ]],\n",
       "\n",
       "        [[0.46666667, 0.46666667, 0.46666667],\n",
       "         [0.4509804 , 0.4509804 , 0.4509804 ],\n",
       "         [0.43529412, 0.43529412, 0.43529412],\n",
       "         ...,\n",
       "         [0.4862745 , 0.4862745 , 0.4862745 ],\n",
       "         [0.62352943, 0.62352943, 0.62352943],\n",
       "         [0.7411765 , 0.7411765 , 0.7411765 ]],\n",
       "\n",
       "        [[0.42352942, 0.42352942, 0.42352942],\n",
       "         [0.40784314, 0.40784314, 0.40784314],\n",
       "         [0.39215687, 0.39215687, 0.39215687],\n",
       "         ...,\n",
       "         [0.54509807, 0.54509807, 0.54509807],\n",
       "         [0.6784314 , 0.6784314 , 0.6784314 ],\n",
       "         [0.77254903, 0.77254903, 0.77254903]]],\n",
       "\n",
       "\n",
       "       [[[0.35686275, 0.35686275, 0.35686275],\n",
       "         [0.34117648, 0.34117648, 0.34117648],\n",
       "         [0.3372549 , 0.3372549 , 0.3372549 ],\n",
       "         ...,\n",
       "         [0.57254905, 0.57254905, 0.57254905],\n",
       "         [0.5921569 , 0.5921569 , 0.5921569 ],\n",
       "         [0.5803922 , 0.5803922 , 0.5803922 ]],\n",
       "\n",
       "        [[0.36078432, 0.36078432, 0.36078432],\n",
       "         [0.3882353 , 0.3882353 , 0.3882353 ],\n",
       "         [0.4       , 0.4       , 0.4       ],\n",
       "         ...,\n",
       "         [0.57254905, 0.57254905, 0.57254905],\n",
       "         [0.5882353 , 0.5882353 , 0.5882353 ],\n",
       "         [0.5921569 , 0.5921569 , 0.5921569 ]],\n",
       "\n",
       "        [[0.44313726, 0.44313726, 0.44313726],\n",
       "         [0.4745098 , 0.4745098 , 0.4745098 ],\n",
       "         [0.4862745 , 0.4862745 , 0.4862745 ],\n",
       "         ...,\n",
       "         [0.5803922 , 0.5803922 , 0.5803922 ],\n",
       "         [0.57254905, 0.57254905, 0.57254905],\n",
       "         [0.56078434, 0.56078434, 0.56078434]],\n",
       "\n",
       "        ...,\n",
       "\n",
       "        [[0.69803923, 0.69803923, 0.69803923],\n",
       "         [0.69411767, 0.69411767, 0.69411767],\n",
       "         [0.67058825, 0.67058825, 0.67058825],\n",
       "         ...,\n",
       "         [0.5176471 , 0.5176471 , 0.5176471 ],\n",
       "         [0.5019608 , 0.5019608 , 0.5019608 ],\n",
       "         [0.47843137, 0.47843137, 0.47843137]],\n",
       "\n",
       "        [[0.69803923, 0.69803923, 0.69803923],\n",
       "         [0.69803923, 0.69803923, 0.69803923],\n",
       "         [0.6745098 , 0.6745098 , 0.6745098 ],\n",
       "         ...,\n",
       "         [0.4117647 , 0.4117647 , 0.4117647 ],\n",
       "         [0.43137255, 0.43137255, 0.43137255],\n",
       "         [0.43529412, 0.43529412, 0.43529412]],\n",
       "\n",
       "        [[0.65882355, 0.65882355, 0.65882355],\n",
       "         [0.67058825, 0.67058825, 0.67058825],\n",
       "         [0.654902  , 0.654902  , 0.654902  ],\n",
       "         ...,\n",
       "         [0.3137255 , 0.3137255 , 0.3137255 ],\n",
       "         [0.34117648, 0.34117648, 0.34117648],\n",
       "         [0.3647059 , 0.3647059 , 0.3647059 ]]],\n",
       "\n",
       "\n",
       "       [[[0.46666667, 0.46666667, 0.46666667],\n",
       "         [0.45882353, 0.45882353, 0.45882353],\n",
       "         [0.4509804 , 0.4509804 , 0.4509804 ],\n",
       "         ...,\n",
       "         [0.19215687, 0.19215687, 0.19215687],\n",
       "         [0.21568628, 0.21568628, 0.21568628],\n",
       "         [0.24313726, 0.24313726, 0.24313726]],\n",
       "\n",
       "        [[0.38431373, 0.38431373, 0.38431373],\n",
       "         [0.38039216, 0.38039216, 0.38039216],\n",
       "         [0.3764706 , 0.3764706 , 0.3764706 ],\n",
       "         ...,\n",
       "         [0.25490198, 0.25490198, 0.25490198],\n",
       "         [0.27058825, 0.27058825, 0.27058825],\n",
       "         [0.28235295, 0.28235295, 0.28235295]],\n",
       "\n",
       "        [[0.32156864, 0.32156864, 0.32156864],\n",
       "         [0.32156864, 0.32156864, 0.32156864],\n",
       "         [0.32156864, 0.32156864, 0.32156864],\n",
       "         ...,\n",
       "         [0.36862746, 0.36862746, 0.36862746],\n",
       "         [0.38039216, 0.38039216, 0.38039216],\n",
       "         [0.3882353 , 0.3882353 , 0.3882353 ]],\n",
       "\n",
       "        ...,\n",
       "\n",
       "        [[0.39607844, 0.39607844, 0.39607844],\n",
       "         [0.40392157, 0.40392157, 0.40392157],\n",
       "         [0.41960785, 0.41960785, 0.41960785],\n",
       "         ...,\n",
       "         [0.32156864, 0.32156864, 0.32156864],\n",
       "         [0.34509805, 0.34509805, 0.34509805],\n",
       "         [0.3647059 , 0.3647059 , 0.3647059 ]],\n",
       "\n",
       "        [[0.41960785, 0.41960785, 0.41960785],\n",
       "         [0.44313726, 0.44313726, 0.44313726],\n",
       "         [0.48235294, 0.48235294, 0.48235294],\n",
       "         ...,\n",
       "         [0.34901962, 0.34901962, 0.34901962],\n",
       "         [0.38431373, 0.38431373, 0.38431373],\n",
       "         [0.4       , 0.4       , 0.4       ]],\n",
       "\n",
       "        [[0.45882353, 0.45882353, 0.45882353],\n",
       "         [0.49411765, 0.49411765, 0.49411765],\n",
       "         [0.53333336, 0.53333336, 0.53333336],\n",
       "         ...,\n",
       "         [0.35686275, 0.35686275, 0.35686275],\n",
       "         [0.39215687, 0.39215687, 0.39215687],\n",
       "         [0.40784314, 0.40784314, 0.40784314]]],\n",
       "\n",
       "\n",
       "       ...,\n",
       "\n",
       "\n",
       "       [[[0.65882355, 0.65882355, 0.65882355],\n",
       "         [0.654902  , 0.654902  , 0.654902  ],\n",
       "         [0.6666667 , 0.6666667 , 0.6666667 ],\n",
       "         ...,\n",
       "         [0.5882353 , 0.5882353 , 0.5882353 ],\n",
       "         [0.6117647 , 0.6117647 , 0.6117647 ],\n",
       "         [0.6392157 , 0.6392157 , 0.6392157 ]],\n",
       "\n",
       "        [[0.61960787, 0.61960787, 0.61960787],\n",
       "         [0.60784316, 0.60784316, 0.60784316],\n",
       "         [0.6117647 , 0.6117647 , 0.6117647 ],\n",
       "         ...,\n",
       "         [0.62352943, 0.62352943, 0.62352943],\n",
       "         [0.64705884, 0.64705884, 0.64705884],\n",
       "         [0.67058825, 0.67058825, 0.67058825]],\n",
       "\n",
       "        [[0.5647059 , 0.5647059 , 0.5647059 ],\n",
       "         [0.5568628 , 0.5568628 , 0.5568628 ],\n",
       "         [0.54901963, 0.54901963, 0.54901963],\n",
       "         ...,\n",
       "         [0.63529414, 0.63529414, 0.63529414],\n",
       "         [0.6509804 , 0.6509804 , 0.6509804 ],\n",
       "         [0.6666667 , 0.6666667 , 0.6666667 ]],\n",
       "\n",
       "        ...,\n",
       "\n",
       "        [[0.6039216 , 0.6039216 , 0.6039216 ],\n",
       "         [0.6117647 , 0.6117647 , 0.6117647 ],\n",
       "         [0.62352943, 0.62352943, 0.62352943],\n",
       "         ...,\n",
       "         [0.34117648, 0.34117648, 0.34117648],\n",
       "         [0.33333334, 0.33333334, 0.33333334],\n",
       "         [0.32941177, 0.32941177, 0.32941177]],\n",
       "\n",
       "        [[0.58431375, 0.58431375, 0.58431375],\n",
       "         [0.5921569 , 0.5921569 , 0.5921569 ],\n",
       "         [0.6       , 0.6       , 0.6       ],\n",
       "         ...,\n",
       "         [0.38039216, 0.38039216, 0.38039216],\n",
       "         [0.3764706 , 0.3764706 , 0.3764706 ],\n",
       "         [0.38039216, 0.38039216, 0.38039216]],\n",
       "\n",
       "        [[0.5529412 , 0.5529412 , 0.5529412 ],\n",
       "         [0.5568628 , 0.5568628 , 0.5568628 ],\n",
       "         [0.56078434, 0.56078434, 0.56078434],\n",
       "         ...,\n",
       "         [0.41960785, 0.41960785, 0.41960785],\n",
       "         [0.42745098, 0.42745098, 0.42745098],\n",
       "         [0.43529412, 0.43529412, 0.43529412]]],\n",
       "\n",
       "\n",
       "       [[[0.5137255 , 0.5137255 , 0.5137255 ],\n",
       "         [0.4862745 , 0.4862745 , 0.4862745 ],\n",
       "         [0.4509804 , 0.4509804 , 0.4509804 ],\n",
       "         ...,\n",
       "         [0.43137255, 0.43137255, 0.43137255],\n",
       "         [0.42352942, 0.42352942, 0.42352942],\n",
       "         [0.39607844, 0.39607844, 0.39607844]],\n",
       "\n",
       "        [[0.50980395, 0.50980395, 0.50980395],\n",
       "         [0.48235294, 0.48235294, 0.48235294],\n",
       "         [0.45490196, 0.45490196, 0.45490196],\n",
       "         ...,\n",
       "         [0.44313726, 0.44313726, 0.44313726],\n",
       "         [0.43529412, 0.43529412, 0.43529412],\n",
       "         [0.41960785, 0.41960785, 0.41960785]],\n",
       "\n",
       "        [[0.50980395, 0.50980395, 0.50980395],\n",
       "         [0.4862745 , 0.4862745 , 0.4862745 ],\n",
       "         [0.46666667, 0.46666667, 0.46666667],\n",
       "         ...,\n",
       "         [0.4627451 , 0.4627451 , 0.4627451 ],\n",
       "         [0.44313726, 0.44313726, 0.44313726],\n",
       "         [0.43529412, 0.43529412, 0.43529412]],\n",
       "\n",
       "        ...,\n",
       "\n",
       "        [[0.43137255, 0.43137255, 0.43137255],\n",
       "         [0.43529412, 0.43529412, 0.43529412],\n",
       "         [0.44313726, 0.44313726, 0.44313726],\n",
       "         ...,\n",
       "         [0.4627451 , 0.4627451 , 0.4627451 ],\n",
       "         [0.5058824 , 0.5058824 , 0.5058824 ],\n",
       "         [0.54509807, 0.54509807, 0.54509807]],\n",
       "\n",
       "        [[0.43137255, 0.43137255, 0.43137255],\n",
       "         [0.4392157 , 0.4392157 , 0.4392157 ],\n",
       "         [0.4509804 , 0.4509804 , 0.4509804 ],\n",
       "         ...,\n",
       "         [0.4509804 , 0.4509804 , 0.4509804 ],\n",
       "         [0.49803922, 0.49803922, 0.49803922],\n",
       "         [0.5411765 , 0.5411765 , 0.5411765 ]],\n",
       "\n",
       "        [[0.4392157 , 0.4392157 , 0.4392157 ],\n",
       "         [0.4509804 , 0.4509804 , 0.4509804 ],\n",
       "         [0.4627451 , 0.4627451 , 0.4627451 ],\n",
       "         ...,\n",
       "         [0.44313726, 0.44313726, 0.44313726],\n",
       "         [0.4862745 , 0.4862745 , 0.4862745 ],\n",
       "         [0.53333336, 0.53333336, 0.53333336]]],\n",
       "\n",
       "\n",
       "       [[[0.45882353, 0.45882353, 0.45882353],\n",
       "         [0.4745098 , 0.4745098 , 0.4745098 ],\n",
       "         [0.4862745 , 0.4862745 , 0.4862745 ],\n",
       "         ...,\n",
       "         [0.45490196, 0.45490196, 0.45490196],\n",
       "         [0.4509804 , 0.4509804 , 0.4509804 ],\n",
       "         [0.4392157 , 0.4392157 , 0.4392157 ]],\n",
       "\n",
       "        [[0.45882353, 0.45882353, 0.45882353],\n",
       "         [0.47058824, 0.47058824, 0.47058824],\n",
       "         [0.47843137, 0.47843137, 0.47843137],\n",
       "         ...,\n",
       "         [0.44705883, 0.44705883, 0.44705883],\n",
       "         [0.4392157 , 0.4392157 , 0.4392157 ],\n",
       "         [0.42352942, 0.42352942, 0.42352942]],\n",
       "\n",
       "        [[0.45490196, 0.45490196, 0.45490196],\n",
       "         [0.4627451 , 0.4627451 , 0.4627451 ],\n",
       "         [0.46666667, 0.46666667, 0.46666667],\n",
       "         ...,\n",
       "         [0.43529412, 0.43529412, 0.43529412],\n",
       "         [0.42745098, 0.42745098, 0.42745098],\n",
       "         [0.4117647 , 0.4117647 , 0.4117647 ]],\n",
       "\n",
       "        ...,\n",
       "\n",
       "        [[0.44313726, 0.44313726, 0.44313726],\n",
       "         [0.4627451 , 0.4627451 , 0.4627451 ],\n",
       "         [0.46666667, 0.46666667, 0.46666667],\n",
       "         ...,\n",
       "         [0.43137255, 0.43137255, 0.43137255],\n",
       "         [0.42352942, 0.42352942, 0.42352942],\n",
       "         [0.40784314, 0.40784314, 0.40784314]],\n",
       "\n",
       "        [[0.44313726, 0.44313726, 0.44313726],\n",
       "         [0.4627451 , 0.4627451 , 0.4627451 ],\n",
       "         [0.45882353, 0.45882353, 0.45882353],\n",
       "         ...,\n",
       "         [0.42745098, 0.42745098, 0.42745098],\n",
       "         [0.42352942, 0.42352942, 0.42352942],\n",
       "         [0.41568628, 0.41568628, 0.41568628]],\n",
       "\n",
       "        [[0.4509804 , 0.4509804 , 0.4509804 ],\n",
       "         [0.4627451 , 0.4627451 , 0.4627451 ],\n",
       "         [0.4509804 , 0.4509804 , 0.4509804 ],\n",
       "         ...,\n",
       "         [0.42352942, 0.42352942, 0.42352942],\n",
       "         [0.42352942, 0.42352942, 0.42352942],\n",
       "         [0.41960785, 0.41960785, 0.41960785]]]], dtype=float32)"
      ]
     },
     "execution_count": 45,
     "metadata": {},
     "output_type": "execute_result"
    }
   ],
   "source": [
    "x_train"
   ]
  },
  {
   "cell_type": "code",
   "execution_count": 22,
   "metadata": {},
   "outputs": [
    {
     "name": "stderr",
     "output_type": "stream",
     "text": [
      " 12%|█▏        | 464/3887 [00:05<00:41, 81.68it/s]\n"
     ]
    },
    {
     "ename": "KeyboardInterrupt",
     "evalue": "",
     "output_type": "error",
     "traceback": [
      "\u001b[1;31m\u001b[0m",
      "\u001b[1;31mKeyboardInterrupt\u001b[0mTraceback (most recent call last)",
      "\u001b[1;32m<ipython-input-22-701622dec79b>\u001b[0m in \u001b[0;36m<module>\u001b[1;34m()\u001b[0m\n\u001b[1;32m----> 1\u001b[1;33m \u001b[0mX_train\u001b[0m\u001b[1;33m,\u001b[0m \u001b[0mX_feat_train\u001b[0m\u001b[1;33m,\u001b[0m \u001b[0mY_train\u001b[0m\u001b[1;33m,\u001b[0m \u001b[0mY_no_salt\u001b[0m\u001b[1;33m,\u001b[0m \u001b[0mY_salt_cls\u001b[0m \u001b[1;33m=\u001b[0m \u001b[0mtrain_util\u001b[0m\u001b[1;33m.\u001b[0m\u001b[0mget_data\u001b[0m\u001b[1;33m(\u001b[0m\u001b[0mdata_type\u001b[0m\u001b[1;33m=\u001b[0m\u001b[1;34m'train'\u001b[0m\u001b[1;33m,\u001b[0m \u001b[0msize\u001b[0m\u001b[1;33m=\u001b[0m\u001b[1;33m(\u001b[0m\u001b[1;36m128\u001b[0m\u001b[1;33m,\u001b[0m \u001b[1;36m128\u001b[0m\u001b[1;33m,\u001b[0m \u001b[1;36m3\u001b[0m\u001b[1;33m)\u001b[0m\u001b[1;33m)\u001b[0m\u001b[1;33m\u001b[0m\u001b[0m\n\u001b[0m",
      "\u001b[1;32m/home/yusuke/tgs-salt-identification/train_util.py\u001b[0m in \u001b[0;36mget_data\u001b[1;34m(data_type, size)\u001b[0m\n\u001b[0;32m    238\u001b[0m             \u001b[0mmask\u001b[0m \u001b[1;33m=\u001b[0m \u001b[0mnp\u001b[0m\u001b[1;33m.\u001b[0m\u001b[0marray\u001b[0m\u001b[1;33m(\u001b[0m\u001b[0mmask\u001b[0m\u001b[1;33m,\u001b[0m \u001b[0mdtype\u001b[0m\u001b[1;33m=\u001b[0m\u001b[1;34m'float32'\u001b[0m\u001b[1;33m)\u001b[0m\u001b[1;33m\u001b[0m\u001b[0m\n\u001b[0;32m    239\u001b[0m             \u001b[0mmask\u001b[0m \u001b[1;33m=\u001b[0m \u001b[0mmask\u001b[0m \u001b[1;33m/\u001b[0m \u001b[1;36m255\u001b[0m\u001b[1;33m\u001b[0m\u001b[0m\n\u001b[1;32m--> 240\u001b[1;33m             \u001b[0mY\u001b[0m\u001b[1;33m[\u001b[0m\u001b[0mi\u001b[0m\u001b[1;33m]\u001b[0m \u001b[1;33m=\u001b[0m \u001b[0mresize\u001b[0m\u001b[1;33m(\u001b[0m\u001b[0mmask\u001b[0m\u001b[1;33m[\u001b[0m\u001b[1;33m:\u001b[0m\u001b[1;33m,\u001b[0m \u001b[1;33m:\u001b[0m\u001b[1;33m,\u001b[0m \u001b[1;36m0\u001b[0m\u001b[1;33m]\u001b[0m\u001b[1;33m,\u001b[0m \u001b[1;33m(\u001b[0m\u001b[0msize\u001b[0m\u001b[1;33m[\u001b[0m\u001b[1;36m0\u001b[0m\u001b[1;33m]\u001b[0m\u001b[1;33m,\u001b[0m \u001b[0msize\u001b[0m\u001b[1;33m[\u001b[0m\u001b[1;36m1\u001b[0m\u001b[1;33m]\u001b[0m\u001b[1;33m,\u001b[0m \u001b[1;36m1\u001b[0m\u001b[1;33m)\u001b[0m\u001b[1;33m)\u001b[0m\u001b[1;33m\u001b[0m\u001b[0m\n\u001b[0m\u001b[0;32m    241\u001b[0m             \u001b[0mY_no_salt\u001b[0m\u001b[1;33m.\u001b[0m\u001b[0mappend\u001b[0m\u001b[1;33m(\u001b[0m\u001b[0mdepth_csv\u001b[0m\u001b[1;33m[\u001b[0m\u001b[0mdepth_csv\u001b[0m\u001b[1;33m[\u001b[0m\u001b[1;34m'id'\u001b[0m\u001b[1;33m]\u001b[0m\u001b[1;33m==\u001b[0m\u001b[0mim_id\u001b[0m\u001b[1;33m.\u001b[0m\u001b[0msplit\u001b[0m\u001b[1;33m(\u001b[0m\u001b[1;34m'.'\u001b[0m\u001b[1;33m)\u001b[0m\u001b[1;33m[\u001b[0m\u001b[1;36m0\u001b[0m\u001b[1;33m]\u001b[0m\u001b[1;33m]\u001b[0m\u001b[1;33m[\u001b[0m\u001b[1;34m'no_salt'\u001b[0m\u001b[1;33m]\u001b[0m\u001b[1;33m.\u001b[0m\u001b[0miloc\u001b[0m\u001b[1;33m[\u001b[0m\u001b[1;36m0\u001b[0m\u001b[1;33m]\u001b[0m\u001b[1;33m)\u001b[0m\u001b[1;33m\u001b[0m\u001b[0m\n\u001b[0;32m    242\u001b[0m             \u001b[0mY_salt_cls\u001b[0m\u001b[1;33m.\u001b[0m\u001b[0mappend\u001b[0m\u001b[1;33m(\u001b[0m\u001b[0mdepth_csv\u001b[0m\u001b[1;33m[\u001b[0m\u001b[0mdepth_csv\u001b[0m\u001b[1;33m[\u001b[0m\u001b[1;34m'id'\u001b[0m\u001b[1;33m]\u001b[0m\u001b[1;33m==\u001b[0m\u001b[0mim_id\u001b[0m\u001b[1;33m.\u001b[0m\u001b[0msplit\u001b[0m\u001b[1;33m(\u001b[0m\u001b[1;34m'.'\u001b[0m\u001b[1;33m)\u001b[0m\u001b[1;33m[\u001b[0m\u001b[1;36m0\u001b[0m\u001b[1;33m]\u001b[0m\u001b[1;33m]\u001b[0m\u001b[1;33m[\u001b[0m\u001b[1;34m'salt_propotion_class'\u001b[0m\u001b[1;33m]\u001b[0m\u001b[1;33m.\u001b[0m\u001b[0miloc\u001b[0m\u001b[1;33m[\u001b[0m\u001b[1;36m0\u001b[0m\u001b[1;33m]\u001b[0m\u001b[1;33m)\u001b[0m\u001b[1;33m\u001b[0m\u001b[0m\n",
      "\u001b[1;32m/root/anaconda3/lib/python3.5/site-packages/skimage/transform/_warps.py\u001b[0m in \u001b[0;36mresize\u001b[1;34m(image, output_shape, order, mode, cval, clip, preserve_range)\u001b[0m\n\u001b[0;32m     95\u001b[0m \u001b[1;33m\u001b[0m\u001b[0m\n\u001b[0;32m     96\u001b[0m         out = ndi.map_coordinates(image, coord_map, order=order,\n\u001b[1;32m---> 97\u001b[1;33m                                   mode=ndi_mode, cval=cval)\n\u001b[0m\u001b[0;32m     98\u001b[0m \u001b[1;33m\u001b[0m\u001b[0m\n\u001b[0;32m     99\u001b[0m         \u001b[0m_clip_warp_output\u001b[0m\u001b[1;33m(\u001b[0m\u001b[0mimage\u001b[0m\u001b[1;33m,\u001b[0m \u001b[0mout\u001b[0m\u001b[1;33m,\u001b[0m \u001b[0morder\u001b[0m\u001b[1;33m,\u001b[0m \u001b[0mmode\u001b[0m\u001b[1;33m,\u001b[0m \u001b[0mcval\u001b[0m\u001b[1;33m,\u001b[0m \u001b[0mclip\u001b[0m\u001b[1;33m)\u001b[0m\u001b[1;33m\u001b[0m\u001b[0m\n",
      "\u001b[1;32m/root/anaconda3/lib/python3.5/site-packages/scipy/ndimage/interpolation.py\u001b[0m in \u001b[0;36mmap_coordinates\u001b[1;34m(input, coordinates, output, order, mode, cval, prefilter)\u001b[0m\n\u001b[0;32m    341\u001b[0m                                                    shape=output_shape)\n\u001b[0;32m    342\u001b[0m     _nd_image.geometric_transform(filtered, None, coordinates, None, None,\n\u001b[1;32m--> 343\u001b[1;33m                                   output, order, mode, cval, None, None)\n\u001b[0m\u001b[0;32m    344\u001b[0m     \u001b[1;32mreturn\u001b[0m \u001b[0mreturn_value\u001b[0m\u001b[1;33m\u001b[0m\u001b[0m\n\u001b[0;32m    345\u001b[0m \u001b[1;33m\u001b[0m\u001b[0m\n",
      "\u001b[1;31mKeyboardInterrupt\u001b[0m: "
     ]
    }
   ],
   "source": [
    "X_train, X_feat_train, Y_train, Y_no_salt, Y_salt_cls = train_util.get_data(data_type='train', size=(128, 128, 3))"
   ]
  },
  {
   "cell_type": "code",
   "execution_count": null,
   "metadata": {},
   "outputs": [],
   "source": [
    "inter2 = np.histogram2d(Y_train[0].flatten(), Y_train[0].flatten(), bins=(2, 2))"
   ]
  },
  {
   "cell_type": "code",
   "execution_count": null,
   "metadata": {},
   "outputs": [],
   "source": [
    "Y_train[:10].flatten().shape"
   ]
  },
  {
   "cell_type": "code",
   "execution_count": null,
   "metadata": {},
   "outputs": [],
   "source": [
    "a = np.array([[0, 0, 0, 0, 0, 0],[0, 0, 0, 0, 0, 0],[0, 0, 0, 0, 0, 0],[0, 0, 0, 0, 0, 0]])\n",
    "b = np.array([[0, 1, 0, 1, 0, 1], [1, 1, 0, 1, 1, 1], [0, 1, 0, 1, 0, 0], [0, 1, 0, 1, 1, 1]])"
   ]
  },
  {
   "cell_type": "code",
   "execution_count": null,
   "metadata": {},
   "outputs": [],
   "source": [
    "inter = np.histogram2d(a.flatten(), b.flatten(), bins=(2, 2))[0]"
   ]
  },
  {
   "cell_type": "code",
   "execution_count": null,
   "metadata": {},
   "outputs": [],
   "source": [
    "area_true = np.histogram(a, bins=2)[0]\n",
    "area_pred = np.histogram(b, bins=2)[0]"
   ]
  },
  {
   "cell_type": "code",
   "execution_count": null,
   "metadata": {},
   "outputs": [],
   "source": [
    "area_true = np.expand_dims(area_true, -1)\n",
    "area_pred = np.expand_dims(area_pred, 0)"
   ]
  },
  {
   "cell_type": "code",
   "execution_count": null,
   "metadata": {},
   "outputs": [],
   "source": [
    "area_true"
   ]
  },
  {
   "cell_type": "code",
   "execution_count": null,
   "metadata": {},
   "outputs": [],
   "source": [
    "inter = inter[1:, 1:]"
   ]
  },
  {
   "cell_type": "code",
   "execution_count": null,
   "metadata": {},
   "outputs": [],
   "source": [
    "area_pred"
   ]
  },
  {
   "cell_type": "code",
   "execution_count": null,
   "metadata": {},
   "outputs": [],
   "source": [
    "area_true + area_pred - inter"
   ]
  },
  {
   "cell_type": "code",
   "execution_count": null,
   "metadata": {},
   "outputs": [],
   "source": [
    "union = area_true + area_pred -inter"
   ]
  },
  {
   "cell_type": "code",
   "execution_count": null,
   "metadata": {},
   "outputs": [],
   "source": [
    "uni = union[1:, 1:]"
   ]
  },
  {
   "cell_type": "code",
   "execution_count": null,
   "metadata": {},
   "outputs": [],
   "source": [
    "uni[uni == 0]"
   ]
  },
  {
   "cell_type": "code",
   "execution_count": null,
   "metadata": {},
   "outputs": [],
   "source": [
    "iou = inter / uni"
   ]
  },
  {
   "cell_type": "code",
   "execution_count": null,
   "metadata": {},
   "outputs": [],
   "source": [
    "matches = iou > 0.5"
   ]
  },
  {
   "cell_type": "code",
   "execution_count": null,
   "metadata": {},
   "outputs": [],
   "source": [
    "np.sum(matches, axis=0) == 0"
   ]
  },
  {
   "cell_type": "code",
   "execution_count": null,
   "metadata": {},
   "outputs": [],
   "source": [
    "def iou_coef(y_true, y_pred, smooth=1):\n",
    "    \"\"\"\n",
    "    IoU = (|X & Y|)/ (|X or Y|)\n",
    "    \"\"\"\n",
    "    intersection = K.sum(K.abs(y_true * y_pred), axis=-1)\n",
    "    return intersection\n",
    "#     union = K.sum((y_true,-1) + K.sum(y_pred,-1)) - intersection\n",
    "#     return (intersection + smooth) / ( union + smooth)"
   ]
  },
  {
   "cell_type": "code",
   "execution_count": null,
   "metadata": {},
   "outputs": [],
   "source": [
    "a = np.array([[0, 0, 0, 0, 0, 0],[0, 0, 0, 0, 0, 0],[0, 0, 0, 0, 0, 0],[0, 0, 0, 0, 0, 0]])\n",
    "b = np.array([[0, 1, 0, 1, 0, 1], [1, 1, 0, 1, 1, 1], [0, 1, 0, 1, 0, 0], [0, 1, 0, 1, 1, 1]])"
   ]
  },
  {
   "cell_type": "code",
   "execution_count": null,
   "metadata": {},
   "outputs": [],
   "source": []
  },
  {
   "cell_type": "code",
   "execution_count": null,
   "metadata": {},
   "outputs": [],
   "source": []
  },
  {
   "cell_type": "code",
   "execution_count": null,
   "metadata": {},
   "outputs": [],
   "source": []
  },
  {
   "cell_type": "code",
   "execution_count": null,
   "metadata": {},
   "outputs": [],
   "source": []
  },
  {
   "cell_type": "code",
   "execution_count": null,
   "metadata": {},
   "outputs": [],
   "source": []
  },
  {
   "cell_type": "code",
   "execution_count": null,
   "metadata": {},
   "outputs": [],
   "source": [
    "# Immutable\n",
    "変更不可　int float string tuple\n",
    "mutable\n",
    "list numpy array dict\n",
    "# byval byref"
   ]
  },
  {
   "cell_type": "code",
   "execution_count": null,
   "metadata": {},
   "outputs": [],
   "source": [
    "def testFunc(x, y):\n",
    "    print(id(x))\n",
    "    print(id(y))\n",
    "    x.append('hello')\n",
    "    \n",
    "    return c, d"
   ]
  },
  {
   "cell_type": "code",
   "execution_count": null,
   "metadata": {},
   "outputs": [],
   "source": [
    "a = [1, 2, 3, 4]"
   ]
  },
  {
   "cell_type": "code",
   "execution_count": null,
   "metadata": {},
   "outputs": [],
   "source": [
    "print(a)"
   ]
  },
  {
   "cell_type": "code",
   "execution_count": null,
   "metadata": {},
   "outputs": [],
   "source": [
    "f, g = testFunc(a, a)"
   ]
  },
  {
   "cell_type": "code",
   "execution_count": null,
   "metadata": {},
   "outputs": [],
   "source": []
  },
  {
   "cell_type": "code",
   "execution_count": 131,
   "metadata": {},
   "outputs": [],
   "source": [
    "# print(a, f, g)\n",
    "# a [1, 2, 3, 4]\n",
    "# f [1, 2, 3, 4, 'hello']\n",
    "# g [1, 2, 3, 4, 'world']"
   ]
  },
  {
   "cell_type": "code",
   "execution_count": 141,
   "metadata": {},
   "outputs": [
    {
     "name": "stdout",
     "output_type": "stream",
     "text": [
      "[1, 2, 3, 4, 'hello', 'world']\n"
     ]
    }
   ],
   "source": [
    "print(a)"
   ]
  },
  {
   "cell_type": "code",
   "execution_count": 150,
   "metadata": {},
   "outputs": [],
   "source": [
    "def test_func2(ab):\n",
    "    ab += 3\n",
    "    print(id(ab))\n",
    "    \n",
    "    return ab"
   ]
  },
  {
   "cell_type": "code",
   "execution_count": 151,
   "metadata": {},
   "outputs": [],
   "source": [
    "g = 0"
   ]
  },
  {
   "cell_type": "code",
   "execution_count": 152,
   "metadata": {},
   "outputs": [
    {
     "data": {
      "text/plain": [
       "140523687799296"
      ]
     },
     "execution_count": 152,
     "metadata": {},
     "output_type": "execute_result"
    }
   ],
   "source": [
    "id(g)"
   ]
  },
  {
   "cell_type": "code",
   "execution_count": 153,
   "metadata": {},
   "outputs": [
    {
     "name": "stdout",
     "output_type": "stream",
     "text": [
      "140523687799392\n"
     ]
    }
   ],
   "source": [
    "cd = test_func2(g)"
   ]
  },
  {
   "cell_type": "code",
   "execution_count": 184,
   "metadata": {},
   "outputs": [],
   "source": [
    "x_train = np.array([0, 1, 2, 3, 4, 5], dtype='float')"
   ]
  },
  {
   "cell_type": "code",
   "execution_count": 185,
   "metadata": {},
   "outputs": [],
   "source": [
    "x_val = np.array([4, 1, 2, 8, 4, 6], dtype='float')"
   ]
  },
  {
   "cell_type": "code",
   "execution_count": 188,
   "metadata": {},
   "outputs": [],
   "source": [
    "def norm(x_train, x_val):\n",
    "    mean = x_train.mean()\n",
    "    std = x_train.std()\n",
    "    \n",
    "    x_train -= mean\n",
    "    x_train /= std\n",
    "    \n",
    "    x_val -= mean\n",
    "    x_val /= std\n",
    "    \n",
    "    return x_train, x_val"
   ]
  },
  {
   "cell_type": "code",
   "execution_count": 189,
   "metadata": {},
   "outputs": [],
   "source": [
    "test = norm(x_train, x_val)"
   ]
  },
  {
   "cell_type": "code",
   "execution_count": 193,
   "metadata": {},
   "outputs": [],
   "source": [
    "x_test = norm(x_train, x_train)"
   ]
  },
  {
   "cell_type": "code",
   "execution_count": 194,
   "metadata": {},
   "outputs": [
    {
     "data": {
      "text/plain": [
       "array([-1.46385011, -0.87831007, -0.29277002,  0.29277002,  0.87831007,\n",
       "        1.46385011])"
      ]
     },
     "execution_count": 194,
     "metadata": {},
     "output_type": "execute_result"
    }
   ],
   "source": [
    "x_train"
   ]
  },
  {
   "cell_type": "code",
   "execution_count": 143,
   "metadata": {},
   "outputs": [
    {
     "name": "stdout",
     "output_type": "stream",
     "text": [
      "0\n"
     ]
    }
   ],
   "source": [
    " print(g)"
   ]
  },
  {
   "cell_type": "code",
   "execution_count": 195,
   "metadata": {},
   "outputs": [],
   "source": [
    "import copy"
   ]
  },
  {
   "cell_type": "code",
   "execution_count": 197,
   "metadata": {},
   "outputs": [],
   "source": [
    "copy_x = copy.deepcopy(x_train)"
   ]
  },
  {
   "cell_type": "code",
   "execution_count": 198,
   "metadata": {},
   "outputs": [
    {
     "data": {
      "text/plain": [
       "140520807478576"
      ]
     },
     "execution_count": 198,
     "metadata": {},
     "output_type": "execute_result"
    }
   ],
   "source": [
    "id(x_train)"
   ]
  },
  {
   "cell_type": "code",
   "execution_count": 199,
   "metadata": {},
   "outputs": [
    {
     "data": {
      "text/plain": [
       "140520807430144"
      ]
     },
     "execution_count": 199,
     "metadata": {},
     "output_type": "execute_result"
    }
   ],
   "source": [
    "id(copy_x)"
   ]
  },
  {
   "cell_type": "code",
   "execution_count": null,
   "metadata": {},
   "outputs": [],
   "source": []
  }
 ],
 "metadata": {
  "anaconda-cloud": {},
  "kernelspec": {
   "display_name": "Python [anaconda3]",
   "language": "python",
   "name": "Python [anaconda3]"
  },
  "language_info": {
   "codemirror_mode": {
    "name": "ipython",
    "version": 3
   },
   "file_extension": ".py",
   "mimetype": "text/x-python",
   "name": "python",
   "nbconvert_exporter": "python",
   "pygments_lexer": "ipython3",
   "version": "3.5.2"
  }
 },
 "nbformat": 4,
 "nbformat_minor": 1
}
